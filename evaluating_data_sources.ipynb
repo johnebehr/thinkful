{
 "cells": [
  {
   "cell_type": "markdown",
   "metadata": {},
   "source": [
    "## Evaluating data sources"
   ]
  },
  {
   "cell_type": "markdown",
   "metadata": {},
   "source": [
    "<p>\n",
    "    <strong>Theortical Data Source:</strong> Amsterdam avaiability data scraped from AirBnB on December 24.<br /><strong>Question</strong>: What are the popular neighborhoods in Amsterdam?</p>\n",
    "<p>\n",
    "    <strong>Reframe the question</strong>: What are the most <em>popular</em> neighborhoods for AirBnB customers on December 24?<br />\n",
    "    <strong>Possible shortcomings</strong>: In the origional question there is not a large enough sample size to model the general population.  I'd like to see 'popular' quantified.  Is it popular by price, number of guests, user ratings, or other?  Has consideration been given to the time of year, does that even matter in Amsterdam?\n",
    "</p>"
   ]
  },
  {
   "cell_type": "markdown",
   "metadata": {},
   "source": [
    "<p><strong>Theoretical Data Source</strong>: Mental health services use on September 12, 2001 in San Francisco, CA and New York City, NY<br />\n",
    "<strong>Question</strong>: How do patterns of mental health service use vary between cities?\n",
    "</p>\n",
    "<p>\n",
    "    <strong>Reframe the question</strong>: On September 12, 2001 how did the use of mental health service compare between San Francisco, CA and New York City, NY?<br />\n",
    "    <strong>Possible shortcomings</strong>: Once again the sample is not representative of the general population.  Is the snapshot of mental health services use meant to be a touchstone to compare against more longitudinal data set?  Additionally, has consideration been given to the equality between the two mental health systems?\n",
    "</p>"
   ]
  },
  {
   "cell_type": "markdown",
   "metadata": {},
   "source": [
    "<p>\n",
    "    <strong>Actual Data Source: Armenian Pub Survey.</strong><br />\n",
    "    <strong>Question</strong>: What are the most common reasons Armenians visit local pubs?</p>\n",
    "<p>\n",
    "    <strong>Reframe the question</strong>: What is the social profile of urban Armenian pubgoers?<br />\n",
    "    <strong>Possible shortcomings</strong>: The data spans a one week period.  I would argue that the study take place over a longer timeframe.  More location sampling could also help provide a better picture of the pubgoing population.  \n",
    "</p>"
   ]
  },
  {
   "cell_type": "code",
   "execution_count": null,
   "metadata": {},
   "outputs": [],
   "source": []
  }
 ],
 "metadata": {
  "kernelspec": {
   "display_name": "Python 3",
   "language": "python",
   "name": "python3"
  },
  "language_info": {
   "codemirror_mode": {
    "name": "ipython",
    "version": 3
   },
   "file_extension": ".py",
   "mimetype": "text/x-python",
   "name": "python",
   "nbconvert_exporter": "python",
   "pygments_lexer": "ipython3",
   "version": "3.6.8"
  }
 },
 "nbformat": 4,
 "nbformat_minor": 2
}
