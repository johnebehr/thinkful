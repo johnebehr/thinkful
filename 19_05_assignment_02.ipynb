{
 "cells": [
  {
   "cell_type": "markdown",
   "metadata": {},
   "source": [
    "# 19.05 Evaluating Performance\n",
    "## Assignment\n",
    "\n",
    "###  2. House prices model\n",
    "\n",
    "In this exercise, you'll work on your house prices model. To complete this assignment, submit a link to a Jupyter notebook containing your solutions to the following tasks:\n",
    "\n",
    "* Load the **houseprices** data from Thinkful's database.\n",
    "* Run your house prices model again and assess the goodness of fit of your model using F-test, R-squared, adjusted R-squared, AIC and BIC.\n",
    "* Do you think your model is satisfactory? If so, why?\n",
    "* In order to improve the goodness of fit of your model, try different model specifications by adding or removing some variables. \n",
    "* For each model you try, get the goodness of fit metrics and compare your models with each other. Which model is the best and why?"
   ]
  },
  {
   "cell_type": "markdown",
   "metadata": {},
   "source": [
    "#### _First, load the dataset from the **weatherinszeged** table from Thinkful's database._"
   ]
  },
  {
   "cell_type": "code",
   "execution_count": 1,
   "metadata": {},
   "outputs": [],
   "source": [
    "import warnings\n",
    "\n",
    "import matplotlib.pyplot as plt\n",
    "import numpy as np \n",
    "import pandas as pd\n",
    "import statsmodels.api as sm\n",
    "\n",
    "from sqlalchemy import create_engine\n",
    "from sqlalchemy.engine.url import URL\n",
    "\n",
    "pd.options.display.float_format = \"{:3f}\".format\n",
    "\n",
    "warnings.filterwarnings(action=\"ignore\")\n",
    "\n",
    "kagle = dict(\n",
    "    drivername = \"postgresql\",\n",
    "    username = \"dsbc_student\",\n",
    "    password = \"7*.8G9QH21\",\n",
    "    host = \"142.93.121.174\",\n",
    "    port = \"5432\",\n",
    "    database = \"houseprices\"\n",
    ")"
   ]
  },
  {
   "cell_type": "code",
   "execution_count": 2,
   "metadata": {},
   "outputs": [
    {
     "name": "stdout",
     "output_type": "stream",
     "text": [
      "2020-01-06 20:45:01,446 INFO sqlalchemy.engine.base.Engine select version()\n",
      "2020-01-06 20:45:01,454 INFO sqlalchemy.engine.base.Engine {}\n",
      "2020-01-06 20:45:01,566 INFO sqlalchemy.engine.base.Engine select current_schema()\n",
      "2020-01-06 20:45:01,567 INFO sqlalchemy.engine.base.Engine {}\n",
      "2020-01-06 20:45:01,671 INFO sqlalchemy.engine.base.Engine SELECT CAST('test plain returns' AS VARCHAR(60)) AS anon_1\n",
      "2020-01-06 20:45:01,674 INFO sqlalchemy.engine.base.Engine {}\n",
      "2020-01-06 20:45:01,729 INFO sqlalchemy.engine.base.Engine SELECT CAST('test unicode returns' AS VARCHAR(60)) AS anon_1\n",
      "2020-01-06 20:45:01,731 INFO sqlalchemy.engine.base.Engine {}\n",
      "2020-01-06 20:45:01,784 INFO sqlalchemy.engine.base.Engine show standard_conforming_strings\n",
      "2020-01-06 20:45:01,786 INFO sqlalchemy.engine.base.Engine {}\n",
      "2020-01-06 20:45:01,889 INFO sqlalchemy.engine.base.Engine SELECT * FROM houseprices\n",
      "2020-01-06 20:45:01,891 INFO sqlalchemy.engine.base.Engine {}\n"
     ]
    }
   ],
   "source": [
    "# Load the data from the \"houseprices\" database\n",
    "engine=create_engine(URL(**kagle), echo=True)\n",
    "\n",
    "houses_raw=pd.read_sql_query(\"SELECT * FROM houseprices\", con=engine)\n",
    "\n",
    "engine.dispose()"
   ]
  },
  {
   "cell_type": "code",
   "execution_count": 3,
   "metadata": {},
   "outputs": [],
   "source": [
    "houses_working = houses_raw.copy()"
   ]
  },
  {
   "cell_type": "markdown",
   "metadata": {},
   "source": [
    "Select a subset of variables on which to base the model on "
   ]
  },
  {
   "cell_type": "code",
   "execution_count": 4,
   "metadata": {},
   "outputs": [],
   "source": [
    "houses_df = houses_working[[\"neighborhood\",\"overallqual\",\"lotarea\",\n",
    "                            \"totalbsmtsf\",\"firstflrsf\",\"grlivarea\",\n",
    "                            \"totrmsabvgrd\",\"garagecars\",\"saleprice\"]]"
   ]
  },
  {
   "cell_type": "code",
   "execution_count": 5,
   "metadata": {},
   "outputs": [
    {
     "data": {
      "text/html": [
       "<div>\n",
       "<style scoped>\n",
       "    .dataframe tbody tr th:only-of-type {\n",
       "        vertical-align: middle;\n",
       "    }\n",
       "\n",
       "    .dataframe tbody tr th {\n",
       "        vertical-align: top;\n",
       "    }\n",
       "\n",
       "    .dataframe thead th {\n",
       "        text-align: right;\n",
       "    }\n",
       "</style>\n",
       "<table border=\"1\" class=\"dataframe\">\n",
       "  <thead>\n",
       "    <tr style=\"text-align: right;\">\n",
       "      <th></th>\n",
       "      <th>overallqual</th>\n",
       "      <th>lotarea</th>\n",
       "      <th>totalbsmtsf</th>\n",
       "      <th>firstflrsf</th>\n",
       "      <th>grlivarea</th>\n",
       "      <th>totrmsabvgrd</th>\n",
       "      <th>garagecars</th>\n",
       "      <th>saleprice</th>\n",
       "    </tr>\n",
       "  </thead>\n",
       "  <tbody>\n",
       "    <tr>\n",
       "      <th>count</th>\n",
       "      <td>1460.000000</td>\n",
       "      <td>1460.000000</td>\n",
       "      <td>1460.000000</td>\n",
       "      <td>1460.000000</td>\n",
       "      <td>1460.000000</td>\n",
       "      <td>1460.000000</td>\n",
       "      <td>1460.000000</td>\n",
       "      <td>1460.000000</td>\n",
       "    </tr>\n",
       "    <tr>\n",
       "      <th>mean</th>\n",
       "      <td>6.099315</td>\n",
       "      <td>10516.828082</td>\n",
       "      <td>1057.429452</td>\n",
       "      <td>1162.626712</td>\n",
       "      <td>1515.463699</td>\n",
       "      <td>6.517808</td>\n",
       "      <td>1.767123</td>\n",
       "      <td>180921.195890</td>\n",
       "    </tr>\n",
       "    <tr>\n",
       "      <th>std</th>\n",
       "      <td>1.382997</td>\n",
       "      <td>9981.264932</td>\n",
       "      <td>438.705324</td>\n",
       "      <td>386.587738</td>\n",
       "      <td>525.480383</td>\n",
       "      <td>1.625393</td>\n",
       "      <td>0.747315</td>\n",
       "      <td>79442.502883</td>\n",
       "    </tr>\n",
       "    <tr>\n",
       "      <th>min</th>\n",
       "      <td>1.000000</td>\n",
       "      <td>1300.000000</td>\n",
       "      <td>0.000000</td>\n",
       "      <td>334.000000</td>\n",
       "      <td>334.000000</td>\n",
       "      <td>2.000000</td>\n",
       "      <td>0.000000</td>\n",
       "      <td>34900.000000</td>\n",
       "    </tr>\n",
       "    <tr>\n",
       "      <th>25%</th>\n",
       "      <td>5.000000</td>\n",
       "      <td>7553.500000</td>\n",
       "      <td>795.750000</td>\n",
       "      <td>882.000000</td>\n",
       "      <td>1129.500000</td>\n",
       "      <td>5.000000</td>\n",
       "      <td>1.000000</td>\n",
       "      <td>129975.000000</td>\n",
       "    </tr>\n",
       "    <tr>\n",
       "      <th>50%</th>\n",
       "      <td>6.000000</td>\n",
       "      <td>9478.500000</td>\n",
       "      <td>991.500000</td>\n",
       "      <td>1087.000000</td>\n",
       "      <td>1464.000000</td>\n",
       "      <td>6.000000</td>\n",
       "      <td>2.000000</td>\n",
       "      <td>163000.000000</td>\n",
       "    </tr>\n",
       "    <tr>\n",
       "      <th>75%</th>\n",
       "      <td>7.000000</td>\n",
       "      <td>11601.500000</td>\n",
       "      <td>1298.250000</td>\n",
       "      <td>1391.250000</td>\n",
       "      <td>1776.750000</td>\n",
       "      <td>7.000000</td>\n",
       "      <td>2.000000</td>\n",
       "      <td>214000.000000</td>\n",
       "    </tr>\n",
       "    <tr>\n",
       "      <th>max</th>\n",
       "      <td>10.000000</td>\n",
       "      <td>215245.000000</td>\n",
       "      <td>6110.000000</td>\n",
       "      <td>4692.000000</td>\n",
       "      <td>5642.000000</td>\n",
       "      <td>14.000000</td>\n",
       "      <td>4.000000</td>\n",
       "      <td>755000.000000</td>\n",
       "    </tr>\n",
       "  </tbody>\n",
       "</table>\n",
       "</div>"
      ],
      "text/plain": [
       "       overallqual       lotarea  totalbsmtsf  firstflrsf   grlivarea  \\\n",
       "count  1460.000000   1460.000000  1460.000000 1460.000000 1460.000000   \n",
       "mean      6.099315  10516.828082  1057.429452 1162.626712 1515.463699   \n",
       "std       1.382997   9981.264932   438.705324  386.587738  525.480383   \n",
       "min       1.000000   1300.000000     0.000000  334.000000  334.000000   \n",
       "25%       5.000000   7553.500000   795.750000  882.000000 1129.500000   \n",
       "50%       6.000000   9478.500000   991.500000 1087.000000 1464.000000   \n",
       "75%       7.000000  11601.500000  1298.250000 1391.250000 1776.750000   \n",
       "max      10.000000 215245.000000  6110.000000 4692.000000 5642.000000   \n",
       "\n",
       "       totrmsabvgrd  garagecars     saleprice  \n",
       "count   1460.000000 1460.000000   1460.000000  \n",
       "mean       6.517808    1.767123 180921.195890  \n",
       "std        1.625393    0.747315  79442.502883  \n",
       "min        2.000000    0.000000  34900.000000  \n",
       "25%        5.000000    1.000000 129975.000000  \n",
       "50%        6.000000    2.000000 163000.000000  \n",
       "75%        7.000000    2.000000 214000.000000  \n",
       "max       14.000000    4.000000 755000.000000  "
      ]
     },
     "execution_count": 5,
     "metadata": {},
     "output_type": "execute_result"
    }
   ],
   "source": [
    "houses_df.describe()"
   ]
  },
  {
   "cell_type": "code",
   "execution_count": 6,
   "metadata": {},
   "outputs": [
    {
     "data": {
      "text/html": [
       "<div>\n",
       "<style scoped>\n",
       "    .dataframe tbody tr th:only-of-type {\n",
       "        vertical-align: middle;\n",
       "    }\n",
       "\n",
       "    .dataframe tbody tr th {\n",
       "        vertical-align: top;\n",
       "    }\n",
       "\n",
       "    .dataframe thead th {\n",
       "        text-align: right;\n",
       "    }\n",
       "</style>\n",
       "<table border=\"1\" class=\"dataframe\">\n",
       "  <thead>\n",
       "    <tr style=\"text-align: right;\">\n",
       "      <th></th>\n",
       "      <th>neighborhood</th>\n",
       "    </tr>\n",
       "  </thead>\n",
       "  <tbody>\n",
       "    <tr>\n",
       "      <th>count</th>\n",
       "      <td>1460</td>\n",
       "    </tr>\n",
       "    <tr>\n",
       "      <th>unique</th>\n",
       "      <td>25</td>\n",
       "    </tr>\n",
       "    <tr>\n",
       "      <th>top</th>\n",
       "      <td>NAmes</td>\n",
       "    </tr>\n",
       "    <tr>\n",
       "      <th>freq</th>\n",
       "      <td>225</td>\n",
       "    </tr>\n",
       "  </tbody>\n",
       "</table>\n",
       "</div>"
      ],
      "text/plain": [
       "       neighborhood\n",
       "count          1460\n",
       "unique           25\n",
       "top           NAmes\n",
       "freq            225"
      ]
     },
     "execution_count": 6,
     "metadata": {},
     "output_type": "execute_result"
    }
   ],
   "source": [
    "houses_df.describe(include=[\"O\"])"
   ]
  },
  {
   "cell_type": "code",
   "execution_count": 7,
   "metadata": {},
   "outputs": [],
   "source": [
    "# Create a set of dummies for the neighborhood variable, prefix the dummies with \"neighborhood\"\n",
    "houses_df = pd.concat([houses_df, pd.get_dummies(houses_df[\"neighborhood\"], prefix=\"neighborhood\",drop_first=True)], axis=1)\n",
    "\n",
    "# Create a set of dumies for the overallqual variable, previs the dummies with \"overallqual\"\n",
    "houses_df = pd.concat([houses_df, pd.get_dummies(houses_df[\"overallqual\"], prefix=\"overallqual\",drop_first=True)], axis=1)"
   ]
  },
  {
   "cell_type": "code",
   "execution_count": 8,
   "metadata": {},
   "outputs": [
    {
     "data": {
      "text/plain": [
       "'saleprice'"
      ]
     },
     "execution_count": 8,
     "metadata": {},
     "output_type": "execute_result"
    }
   ],
   "source": [
    "# Get a list of column names to be used for feature consideration\n",
    "feature_names = houses_df.iloc[:,2:].columns.to_list()\n",
    "\n",
    "# Pop saleprice from the list of feature_names\n",
    "feature_names.pop(6)"
   ]
  },
  {
   "cell_type": "code",
   "execution_count": 9,
   "metadata": {},
   "outputs": [
    {
     "name": "stdout",
     "output_type": "stream",
     "text": [
      "                            OLS Regression Results                            \n",
      "==============================================================================\n",
      "Dep. Variable:              saleprice   R-squared:                       0.834\n",
      "Model:                            OLS   Adj. R-squared:                  0.829\n",
      "Method:                 Least Squares   F-statistic:                     182.7\n",
      "Date:                Mon, 06 Jan 2020   Prob (F-statistic):               0.00\n",
      "Time:                        20:48:18   Log-Likelihood:                -17234.\n",
      "No. Observations:                1460   AIC:                         3.455e+04\n",
      "Df Residuals:                    1420   BIC:                         3.476e+04\n",
      "Df Model:                          39                                         \n",
      "Covariance Type:            nonrobust                                         \n",
      "========================================================================================\n",
      "                           coef    std err          t      P>|t|      [0.025      0.975]\n",
      "----------------------------------------------------------------------------------------\n",
      "const                  2.73e+04    2.5e+04      1.091      0.275   -2.18e+04    7.64e+04\n",
      "lotarea                  0.5104      0.099      5.138      0.000       0.316       0.705\n",
      "totalbsmtsf             15.2633      3.746      4.075      0.000       7.916      22.611\n",
      "firstflrsf               2.3280      4.557      0.511      0.610      -6.612      11.268\n",
      "grlivarea               41.6097      3.892     10.692      0.000      33.976      49.244\n",
      "totrmsabvgrd             9.0013   1001.559      0.009      0.993   -1955.693    1973.696\n",
      "garagecars            1.234e+04   1611.944      7.655      0.000    9177.804    1.55e+04\n",
      "neighborhood_Blueste -1.607e+04   2.48e+04     -0.647      0.517   -6.48e+04    3.26e+04\n",
      "neighborhood_BrDale  -2.419e+04    1.2e+04     -2.019      0.044   -4.77e+04    -689.656\n",
      "neighborhood_BrkSide -8703.2186   9585.695     -0.908      0.364   -2.75e+04    1.01e+04\n",
      "neighborhood_ClearCr  1.835e+04   1.07e+04      1.710      0.087   -2699.066    3.94e+04\n",
      "neighborhood_CollgCr  1.166e+04   8555.303      1.362      0.173   -5126.417    2.84e+04\n",
      "neighborhood_Crawfor  2.385e+04   9558.864      2.495      0.013    5096.028    4.26e+04\n",
      "neighborhood_Edwards -1.814e+04   9177.239     -1.976      0.048   -3.61e+04    -136.106\n",
      "neighborhood_Gilbert  7306.2099   9105.534      0.802      0.422   -1.06e+04    2.52e+04\n",
      "neighborhood_IDOTRR  -2.599e+04   1.02e+04     -2.542      0.011    -4.6e+04   -5933.745\n",
      "neighborhood_MeadowV  -1.56e+04    1.2e+04     -1.305      0.192   -3.91e+04    7845.797\n",
      "neighborhood_Mitchel -2017.7272   9570.628     -0.211      0.833   -2.08e+04    1.68e+04\n",
      "neighborhood_NAmes   -5003.4636   8707.427     -0.575      0.566   -2.21e+04    1.21e+04\n",
      "neighborhood_NPkVill -1.107e+04   1.39e+04     -0.798      0.425   -3.83e+04    1.61e+04\n",
      "neighborhood_NWAmes   -277.0948   9106.056     -0.030      0.976   -1.81e+04    1.76e+04\n",
      "neighborhood_NoRidge  5.677e+04      1e+04      5.669      0.000    3.71e+04    7.64e+04\n",
      "neighborhood_NridgHt   4.01e+04   9198.281      4.359      0.000    2.21e+04    5.81e+04\n",
      "neighborhood_OldTown -2.718e+04   9054.746     -3.002      0.003   -4.49e+04   -9418.411\n",
      "neighborhood_SWISU   -1.933e+04    1.1e+04     -1.759      0.079   -4.09e+04    2223.829\n",
      "neighborhood_Sawyer  -4799.7841   9340.507     -0.514      0.607   -2.31e+04    1.35e+04\n",
      "neighborhood_SawyerW  5665.8848   9266.049      0.611      0.541   -1.25e+04    2.38e+04\n",
      "neighborhood_Somerst  1.712e+04   8894.043      1.925      0.054    -327.155    3.46e+04\n",
      "neighborhood_StoneBr  5.038e+04   1.07e+04      4.718      0.000    2.94e+04    7.13e+04\n",
      "neighborhood_Timber   1.377e+04   9927.620      1.387      0.166   -5708.576    3.32e+04\n",
      "neighborhood_Veenker  3.527e+04   1.29e+04      2.729      0.006    9920.360    6.06e+04\n",
      "overallqual_2         -205.3532   3.02e+04     -0.007      0.995   -5.94e+04     5.9e+04\n",
      "overallqual_3         2447.1836   2.46e+04      0.100      0.921   -4.57e+04    5.06e+04\n",
      "overallqual_4         1.576e+04   2.36e+04      0.667      0.505   -3.06e+04    6.21e+04\n",
      "overallqual_5         2.243e+04   2.36e+04      0.952      0.341   -2.38e+04    6.86e+04\n",
      "overallqual_6         3.154e+04   2.36e+04      1.336      0.182   -1.48e+04    7.79e+04\n",
      "overallqual_7         4.846e+04   2.38e+04      2.040      0.042    1850.225    9.51e+04\n",
      "overallqual_8         7.865e+04    2.4e+04      3.273      0.001    3.15e+04    1.26e+05\n",
      "overallqual_9         1.481e+05   2.47e+04      5.998      0.000    9.97e+04    1.97e+05\n",
      "overallqual_10        1.723e+05   2.57e+04      6.712      0.000    1.22e+05    2.23e+05\n",
      "==============================================================================\n",
      "Omnibus:                      599.867   Durbin-Watson:                   1.922\n",
      "Prob(Omnibus):                  0.000   Jarque-Bera (JB):            54406.516\n",
      "Skew:                          -0.968   Prob(JB):                         0.00\n",
      "Kurtosis:                      32.843   Cond. No.                     1.27e+06\n",
      "==============================================================================\n",
      "\n",
      "Warnings:\n",
      "[1] Standard Errors assume that the covariance matrix of the errors is correctly specified.\n",
      "[2] The condition number is large, 1.27e+06. This might indicate that there are\n",
      "strong multicollinearity or other numerical problems.\n"
     ]
    }
   ],
   "source": [
    "# Y is the target variable\n",
    "Y = houses_df[\"saleprice\"]\n",
    "\n",
    "# X is the feature set\n",
    "X = houses_df[feature_names]\n",
    "\n",
    "# Add a constant to the model\n",
    "X = sm.add_constant(X)\n",
    "\n",
    "# Fit an OLS model using statsmodel\n",
    "results = sm.OLS(Y,X).fit()\n",
    "\n",
    "# Print the results\n",
    "print(results.summary())\n",
    "\n",
    "# Tear out the columns that I'm intersted in comparing \n",
    "first_model = results.summary2().tables[1]\n",
    "first_model = first_model[[\"Coef.\",\"P>|t|\"]].round(4)"
   ]
  },
  {
   "cell_type": "markdown",
   "metadata": {},
   "source": [
    "#### _Do you think your model is satisfactory? If so, why?_\n",
    "\n",
    "I beleieve that the model is fairly well performant.  The R-squared and adjusted R-squared are 83.4% and 82.9% respectively and both have a fairly low AIC and BIC score at 3.455 and 3.476 respectively."
   ]
  },
  {
   "cell_type": "markdown",
   "metadata": {},
   "source": [
    "#### _In order to improve the goodness of fit of your model, try different model specifications by adding or removing some variables._\n",
    "\n"
   ]
  },
  {
   "cell_type": "code",
   "execution_count": null,
   "metadata": {},
   "outputs": [],
   "source": []
  }
 ],
 "metadata": {
  "kernelspec": {
   "display_name": "Python 3",
   "language": "python",
   "name": "python3"
  },
  "language_info": {
   "codemirror_mode": {
    "name": "ipython",
    "version": 3
   },
   "file_extension": ".py",
   "mimetype": "text/x-python",
   "name": "python",
   "nbconvert_exporter": "python",
   "pygments_lexer": "ipython3",
   "version": "3.7.5"
  }
 },
 "nbformat": 4,
 "nbformat_minor": 4
}
