{
 "cells": [
  {
   "cell_type": "code",
   "execution_count": 6,
   "metadata": {},
   "outputs": [],
   "source": [
    "from IPython.display import Markdown as md\n",
    "from fractions import Fraction"
   ]
  },
  {
   "cell_type": "markdown",
   "metadata": {},
   "source": [
    "## Drill set 1"
   ]
  },
  {
   "cell_type": "code",
   "execution_count": 31,
   "metadata": {},
   "outputs": [
    {
     "data": {
      "text/markdown": [
       "\n",
       "<p>1.&nbsp;&nbsp;<em>Calculate the probability of flipping a balanced coin four times and getting each pattern: HTTH, HHHH, TTHH</em></p>\n",
       "<p>For the given scenerios: HTTH, HHHH, \\& TTHH the probabilities are: $ P(HTTH) = 1/16 $, $ P(HHHH) = 1/16 $, & \n",
       "$ P(TTHH) = 1/16 $</p>\n"
      ],
      "text/plain": [
       "<IPython.core.display.Markdown object>"
      ]
     },
     "execution_count": 31,
     "metadata": {},
     "output_type": "execute_result"
    }
   ],
   "source": [
    "h = Fraction(1,2)\n",
    "t = Fraction(1,2)\n",
    "\n",
    "# Calculate the probabilities of the following flip patters: \n",
    "htth = h*t*t*t\n",
    "hhhh = h*h*h*h\n",
    "tthh = t*t*h*h\n",
    "\n",
    "md(f\"\"\"\n",
    "<p>1.&nbsp;&nbsp;<em>Calculate the probability of flipping a balanced coin four times and getting each pattern: HTTH, HHHH, TTHH</em></p>\n",
    "<p>For the given scenerios: HTTH, HHHH, \\& TTHH the probabilities are: $ P(HTTH) = {htth} $, $ P(HHHH) = {hhhh} $, & \n",
    "$ P(TTHH) = {tthh} $</p>\n",
    "\"\"\")"
   ]
  },
  {
   "cell_type": "code",
   "execution_count": 32,
   "metadata": {},
   "outputs": [
    {
     "data": {
      "text/markdown": [
       "\n",
       "<p>\n",
       "2.&nbsp;&nbsp;<em>If a list of people has 24 women and 21 men, then the probability of choosing a man from the list is \n",
       "21&frasl;45.&nbsp;&nbsp;What is probability of not choosing a man?</em>\n",
       "</p>\n",
       "<p>\n",
       "The probability of choosing a man $ P(M) = 7/15 \\therefore $ the probability of not choosing a man is the complement of P(M) or \n",
       "$ P(\\bar{M}) = 8/15 $\n",
       "</p>\n"
      ],
      "text/plain": [
       "<IPython.core.display.Markdown object>"
      ]
     },
     "execution_count": 32,
     "metadata": {},
     "output_type": "execute_result"
    }
   ],
   "source": [
    "# Probability of choosing a man P(M) = 21/45\n",
    "m = Fraction(21,45)\n",
    "\n",
    "# Probability of not choosing a man (complement of M) = 1-P(M)\n",
    "not_m = 1-m\n",
    "\n",
    "md(f\"\"\"\n",
    "<p>\n",
    "2.&nbsp;&nbsp;<em>If a list of people has 24 women and 21 men, then the probability of choosing a man from the list is \n",
    "21&frasl;45.&nbsp;&nbsp;What is probability of not choosing a man?</em>\n",
    "</p>\n",
    "<p>\n",
    "The probability of choosing a man $ P(M) = {m} \\\\therefore $ the probability of not choosing a man is the complement of P(M) or \n",
    "$ P(\\\\bar{{M}}) = {not_m} $\n",
    "</p>\n",
    "\"\"\")\n"
   ]
  },
  {
   "cell_type": "code",
   "execution_count": 45,
   "metadata": {},
   "outputs": [
    {
     "data": {
      "text/markdown": [
       "\n",
       "<p>\n",
       "3.&nbsp;&nbsp;<em>The probability that Bernice will travel by plane sometime in the next year is 10%.  The probability of a plane crash\n",
       "at any time is .005%.  What is the probability that Bernice will be in a plane crash sometime in the next year?</em>\n",
       "</p>\n",
       "<p>\n",
       "$ P(Bernice\\ flying) = 0.01 $ <br />\n",
       "$ P(plane\\ crash) = 0.005 $<br />\n",
       "$ P(plane\\ crash\\ |\\ Bernice\\ flying) = 0.00005 $<br />\n",
       "Bernice has a 0.005% chance of being in a plane crash if she flies in the next year.\n",
       "</p>\n"
      ],
      "text/plain": [
       "<IPython.core.display.Markdown object>"
      ]
     },
     "execution_count": 45,
     "metadata": {},
     "output_type": "execute_result"
    }
   ],
   "source": [
    "# Probability of Bernice flying in the next year\n",
    "b_f = .01\n",
    "c = .005\n",
    "\n",
    "b_c = float(b_f*c)\n",
    "\n",
    "md(f\"\"\"\n",
    "<p>\n",
    "3.&nbsp;&nbsp;<em>The probability that Bernice will travel by plane sometime in the next year is 10%.  The probability of a plane crash\n",
    "at any time is .005%.  What is the probability that Bernice will be in a plane crash sometime in the next year?</em>\n",
    "</p>\n",
    "<p>\n",
    "$ P(Bernice\\ flying) = {b_f} $ <br />\n",
    "$ P(plane\\ crash) = {c} $<br />\n",
    "$ P(plane\\ crash\\ |\\ Bernice\\ flying) = {b_c:.5f} $<br />\n",
    "Bernice has a {b_c*100:.3f}% chance of being in a plane crash if she flies in the next year.\n",
    "</p>\n",
    "\"\"\")"
   ]
  },
  {
   "cell_type": "markdown",
   "metadata": {},
   "source": [
    "## Drill Set 2"
   ]
  },
  {
   "cell_type": "code",
   "execution_count": 98,
   "metadata": {},
   "outputs": [
    {
     "data": {
      "text/markdown": [
       "\n",
       "<p>\n",
       "<table>\n",
       "<tr>\n",
       "<th></th>\n",
       "<th>Positive</th>\n",
       "<th>False Positive</th>\n",
       "</tr>\n",
       "<tr>\n",
       "<td>Has Thirpshaw's</td>\n",
       "<td>$ 0.00490 $</td>\n",
       "<td>$ 0.00010 $</td>\n",
       "<td>$ 0.00500 $</td>\n",
       "</tr>\n",
       "<tr>\n",
       "<td>!Has Thirpshaw's</td>\n",
       "<td>$ 0.09950 $</td>\n",
       "<td>$ 0.89550 $</td>\n",
       "<td>$ 0.99500 $</td>\n",
       "</tr>\n",
       "<tr>\n",
       "<td></td>\n",
       "<td>$ 0.10440 $</td>\n",
       "<td>$ 0.89560 $</td>\n",
       "</tr>\n",
       "</table>\n",
       "</p>\n",
       "<p>\n",
       "Bayes' Theorem: $ P(A|B) = \\frac{P(B|A)\\ P(A)}{P(B)} $<br />\n",
       "1.&nbsp; $ P(Positive) = 0.10440 $<br />\n",
       "2.&nbsp; $ P(Positive|Thirpshaw) = 0.98 $<br />\n",
       "3.&nbsp; $ P(!Thirpshaw) = 0.90000 $<br />\n",
       "4.&nbsp; $ P(Misdiagnosis) = 0.99500 $\n",
       "</p>\n"
      ],
      "text/plain": [
       "<IPython.core.display.Markdown object>"
      ]
     },
     "execution_count": 98,
     "metadata": {},
     "output_type": "execute_result"
    }
   ],
   "source": [
    "# Has Thirpshaw's T\n",
    "t = .005\n",
    "\n",
    "# !Has Thirpshaw's not_t\n",
    "not_t = 1 - t\n",
    "\n",
    "# Probability Positive given Thirpshaw's: P(P|T) = .98\n",
    "p_g_t = .98\n",
    "\n",
    "# Probability False Positive given Thirpshaw's: P(FP|T) = 1-P(P|T)\n",
    "fp_g_t = 1-p_g_t\n",
    "\n",
    "# Probability False Positve given !Thirpshaw's: P(FP|!T) = .90\n",
    "p_g_not_t = .10\n",
    "\n",
    "# Probability Positive given !Thirpshaw's: P(P|!T) = 1-P(FP|!T)\n",
    "fp_g_not_t = 1-p_g_not_t\n",
    "\n",
    "# Probability of the intersection of Positive and Thirpshaw's\n",
    "p_int_t = t*p_g_t\n",
    "\n",
    "# Probability of the intersection of False Positive and Thirpshaw's\n",
    "fp_int_t = t*fp_g_t\n",
    "\n",
    "# Probability of the intersection of Positive and !Thirpshaw's \n",
    "p_int_not_t = not_t*p_g_not_t\n",
    "\n",
    "# Probability of the intersection of False Positive and !Thirpshaw's\n",
    "fp_int_not_t = not_t*fp_g_not_t\n",
    "\n",
    "# Using Bayes' Theorem deduce the \n",
    "\n",
    "md(f\"\"\"\n",
    "<p>\n",
    "<table>\n",
    "<tr>\n",
    "<th></th>\n",
    "<th>Positive</th>\n",
    "<th>False Positive</th>\n",
    "</tr>\n",
    "<tr>\n",
    "<td>Has Thirpshaw's</td>\n",
    "<td>$ {p_int_t:.5f} $</td>\n",
    "<td>$ {fp_int_t:.5f} $</td>\n",
    "<td>$ {(p_int_t+fp_int_t):.5f} $</td>\n",
    "</tr>\n",
    "<tr>\n",
    "<td>!Has Thirpshaw's</td>\n",
    "<td>$ {p_int_not_t:.5f} $</td>\n",
    "<td>$ {fp_int_not_t:.5f} $</td>\n",
    "<td>$ {(p_int_not_t+fp_int_not_t):.5f} $</td>\n",
    "</tr>\n",
    "<tr>\n",
    "<td></td>\n",
    "<td>$ {(p_int_t+p_int_not_t):.5f} $</td>\n",
    "<td>$ {(fp_int_t+fp_int_not_t):.5f} $</td>\n",
    "</tr>\n",
    "</table>\n",
    "</p>\n",
    "<p>\n",
    "Bayes' Theorem: $ P(A|B) = \\\\frac{{P(B|A)\\ P(A)}}{{P(B)}} $<br />\n",
    "1.&nbsp; $ P(Positive) = {(p_int_t+p_int_not_t):.5f} $<br />\n",
    "2.&nbsp; $ P(Positive|Thirpshaw) = {p_g_t} $<br />\n",
    "3.&nbsp; $ P(!Thirpshaw) = {fp_g_not_t:.5f} $<br />\n",
    "4.&nbsp; $ P(Misdiagnosis) = {1-((t*p_g_t)/p_g_t):.5f} $\n",
    "</p>\n",
    "\"\"\")"
   ]
  },
  {
   "cell_type": "code",
   "execution_count": null,
   "metadata": {},
   "outputs": [],
   "source": []
  }
 ],
 "metadata": {
  "kernelspec": {
   "display_name": "Python 3",
   "language": "python",
   "name": "python3"
  },
  "language_info": {
   "codemirror_mode": {
    "name": "ipython",
    "version": 3
   },
   "file_extension": ".py",
   "mimetype": "text/x-python",
   "name": "python",
   "nbconvert_exporter": "python",
   "pygments_lexer": "ipython3",
   "version": "3.6.8"
  }
 },
 "nbformat": 4,
 "nbformat_minor": 2
}
