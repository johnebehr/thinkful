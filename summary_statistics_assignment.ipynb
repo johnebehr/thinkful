{
 "cells": [
  {
   "cell_type": "code",
   "execution_count": 1,
   "metadata": {},
   "outputs": [
    {
     "data": {
      "text/html": [
       "<style>\n",
       "    table {display: inline-block}\n",
       "</style>\n"
      ],
      "text/plain": [
       "<IPython.core.display.HTML object>"
      ]
     },
     "metadata": {},
     "output_type": "display_data"
    }
   ],
   "source": [
    "%%html\n",
    "<style>\n",
    "    table {display: inline-block}\n",
    "</style>"
   ]
  },
  {
   "cell_type": "markdown",
   "metadata": {},
   "source": [
    "# Summary Statistics"
   ]
  },
  {
   "cell_type": "code",
   "execution_count": 1,
   "metadata": {},
   "outputs": [],
   "source": [
    "import numpy as np\n",
    "import pandas as pd\n",
    "import math\n",
    "import statistics"
   ]
  },
  {
   "cell_type": "code",
   "execution_count": 2,
   "metadata": {},
   "outputs": [
    {
     "name": "stdout",
     "output_type": "stream",
     "text": [
      "\n",
      "The Brady children have an age mean of: 9.857142857142858, a Median age of: 10.0, and the Mode of their ages is: 8.  \n",
      "The children have an age Variance of: 7, with a Standard Deviation of: 2.6457513110645907, and a Standard Error of: 1.0.\n",
      "\n"
     ]
    }
   ],
   "source": [
    "# Brady Kids: Greg, 14; Marcia, 12; Peter, 11; Jan, 10; Bobby, 8; Cindy, 6; and Oliver, 8\n",
    "\n",
    "# Create a list of the kids ages\n",
    "ages = [14, 12, 11, 10, 8, 6, 8]\n",
    "\n",
    "mean_age = np.mean(np.array(ages))\n",
    "median_age = np.median(np.array(ages))\n",
    "age_mode = statistics.mode(np.array(ages))\n",
    "age_variance = statistics.variance(np.array(ages))\n",
    "age_std_dev = statistics.stdev(np.array(ages))\n",
    "age_std_err = age_std_dev/math.sqrt(len(ages))\n",
    "\n",
    "output = f'''\n",
    "The Brady children have an age mean of: {mean_age}, a Median age of: {median_age}, and the Mode of their ages is: {age_mode}.  \n",
    "The children have an age Variance of: {age_variance}, with a Standard Deviation of: {age_std_dev}, and a Standard Error of: {age_std_err}.\n",
    "'''\n",
    "\n",
    "print(output)"
   ]
  },
  {
   "cell_type": "code",
   "execution_count": 3,
   "metadata": {},
   "outputs": [
    {
     "name": "stdout",
     "output_type": "stream",
     "text": [
      "\n",
      "3) Post Birthday, the Brady children have an age mean of: 10.0, a Median age of: 10.0, and the Mode of their ages is: 8.  \n",
      "The children have an age Variance of: 6, with a Standard Deviation of: 2.449489742783178, and a Standard Error of: 0.9258200997725513.\n",
      "\n"
     ]
    }
   ],
   "source": [
    "ages = [14, 12, 11, 10, 8, 7, 8]\n",
    "\n",
    "mean_age = np.mean(np.array(ages))\n",
    "median_age = np.median(np.array(ages))\n",
    "age_mode = statistics.mode(np.array(ages))\n",
    "age_variance = statistics.variance(np.array(ages))\n",
    "age_std_dev = statistics.stdev(np.array(ages))\n",
    "age_std_err = age_std_dev/math.sqrt(len(ages))\n",
    "\n",
    "output = f'''\n",
    "3) Post Birthday, the Brady children have an age mean of: {mean_age}, a Median age of: {median_age}, and the Mode of their ages is: {age_mode}.  \n",
    "The children have an age Variance of: {age_variance}, with a Standard Deviation of: {age_std_dev}, and a Standard Error of: {age_std_err}.\n",
    "'''\n",
    "\n",
    "print(output)"
   ]
  },
  {
   "cell_type": "code",
   "execution_count": 4,
   "metadata": {},
   "outputs": [
    {
     "name": "stdout",
     "output_type": "stream",
     "text": [
      "\n",
      "After Oliver was replaced, the Brady children have an age mean of: 9.0, a Median age of: 10.0, and the Mode of their \n",
      "ages is: [ages] has no Mode.  The children have an age Variance of: 18, with a Standard Deviation of: 4.242640687119285, and a \n",
      "Standard Error of: 1.6035674514745462.\n",
      "\n"
     ]
    }
   ],
   "source": [
    "ages = [14, 12, 11, 10, 8, 7, 1]\n",
    "\n",
    "mean_age = np.mean(np.array(ages))\n",
    "median_age = np.median(np.array(ages))\n",
    "\n",
    "# Check for a lack of mode in the ages list\n",
    "if len(set(ages)) != len(ages): \n",
    "    age_mode = statistics.mode(np.array(ages))\n",
    "else: \n",
    "    age_mode = '''[ages] has no Mode'''\n",
    "    \n",
    "age_variance = statistics.variance(np.array(ages))\n",
    "age_std_dev = statistics.stdev(np.array(ages))\n",
    "age_std_err = age_std_dev/math.sqrt(len(ages))\n",
    "\n",
    "output = f'''\n",
    "After Oliver was replaced, the Brady children have an age mean of: {mean_age}, a Median age of: {median_age}, and the Mode of their \n",
    "ages is: {age_mode}.  The children have an age Variance of: {age_variance}, with a Standard Deviation of: {age_std_dev}, and a \n",
    "Standard Error of: {age_std_err}.\n",
    "'''\n",
    "\n",
    "print(output)"
   ]
  },
  {
   "cell_type": "markdown",
   "metadata": {},
   "source": [
    "<table>\n",
    "    <caption style=\"border-style:solid;border-width: 0px 0px 1px 0px;\">Summary table for Brady Kid scenerios</caption>\n",
    "    <tr style=\"border-style:solid;border-width: 0px 0px 1px 0px;\">\n",
    "        <th></th>\n",
    "        <th>Brady 1</th>\n",
    "        <th>Brady 2</th>\n",
    "        <th>Brady 3</th>\n",
    "    </tr>\n",
    "    <tr>\n",
    "        <td>Mean $ \\mu $</td>\n",
    "        <td>9.8571</td>\n",
    "        <td>10</td>\n",
    "        <td>9</td>\n",
    "    </tr>\n",
    "    <tr>\n",
    "        <td>Median</td>\n",
    "        <td>10</td>\n",
    "        <td>10</td>\n",
    "        <td>10</td>\n",
    "    </tr>\n",
    "    <tr>\n",
    "        <td>Mode</td>\n",
    "        <td>8</td>\n",
    "        <td>8</td>\n",
    "        <td>$ \\textit {No Mode} $</td>\n",
    "    </tr>\n",
    "    <tr>\n",
    "        <td>Variance $ \\sigma^2 $</td>\n",
    "        <td>7</td>\n",
    "        <td>6</td>\n",
    "        <td>18</td>\n",
    "    </tr>\n",
    "    <tr>\n",
    "        <td>Standard Deviation $ \\sigma $</td>\n",
    "        <td>2.6457</td>\n",
    "        <td>2.4494</td>\n",
    "        <td>4.2426</td>\n",
    "    </tr>\n",
    "    <tr style=\"border-style:solid;border-width: 0px 0px 1px 0px;\">\n",
    "        <td>Standard Error</td>\n",
    "        <td>1.0</td>\n",
    "        <td>.9258</td>\n",
    "        <td>1.6035</td>\n",
    "    </tr>\n",
    "</table>\n",
    "<h3>Assignments</h3>\n",
    "<p>All responses reference the above table.</p>\n",
    "<ol>\n",
    "    <li>\n",
    "        <p>The Brady kids have a Mean ($ \\mu $) age of $ \\textit{9.8571} $, a Median age of $ \\textit{10} $ , and the Mode of their ages is $ \\textit{8} $. </p>\n",
    "        <p>The childeren have an age Variance ($ \\sigma^2 $) of $ \\textit{7} $, a Standard Deviation ($ \\bar{x} $) of $ \\textit{2.6457} $ and the Standard Error for the $ \\textbf{Brady 1} $ scenerio is $ \\textit{1} $.</p>\n",
    "    </li>\n",
    "    <li>\n",
    "        <p>For scenerio $ \\textbf{Brady 1} $ I believe that the Median is the representational value as a measure of Central Tendency.  When coupuled with Variance ($ \\sigma^2 $) I can provide a sense of range of ages that are being dealt with.</p>\n",
    "    </li>\n",
    "    <li>\n",
    "        <p>With the update to Cindy's age, in the $ \\textbf{Brady 2} $ scenerio, the Mean ($ \\bar{x} $) and Median converge on 10.  The age Variance ($ \\sigma^2 $) drops by 1 year.  The Standard Deviation ($ \\bar{x} $) and the Standard Error are both reduced.  This reflects the reduction in the age range.</p>\n",
    "    </li>\n",
    "    <li>\n",
    "        <p>With scenerio $ \\textbf{Brady 3} $ I would change to the Mean ($ \\mu $) as being a better representation of the children.  I would also move off of Variance ($ \\sigma^2 $) because of it's the substantial rise upon recalculation.</p>\n",
    "    </li>\n",
    "    <li>\n",
    "        <p>This question is more intuitive than quantative.  TV Guide and Entertainment Weekly should have a broader audience than either Pop Culture Today or SciPhi Phanatic.  This should translate to their subscriber sample would be more representational of the overall population.  I'd be hesitant to say how predictive the percentages are since I don't have any details on where the numbers came from.  What is the sample size? What is the Standard Error?  Is there any Bias built into these percentages?  If directed to come up with an answer based solely on the information presented I say that $ \\textit{21.5%} $ of Americans are fans of the Brady Bunch.  Where $ \\textit{21.5%} $ is averaging the percentages from TV Guide and Entertainment Weekly.</p>\n",
    "    </li>\n",
    "</ol>"
   ]
  },
  {
   "cell_type": "code",
   "execution_count": null,
   "metadata": {},
   "outputs": [],
   "source": []
  }
 ],
 "metadata": {
  "kernelspec": {
   "display_name": "Python 3",
   "language": "python",
   "name": "python3"
  },
  "language_info": {
   "codemirror_mode": {
    "name": "ipython",
    "version": 3
   },
   "file_extension": ".py",
   "mimetype": "text/x-python",
   "name": "python",
   "nbconvert_exporter": "python",
   "pygments_lexer": "ipython3",
   "version": "3.6.8"
  }
 },
 "nbformat": 4,
 "nbformat_minor": 2
}
