{
 "nbformat": 4,
 "nbformat_minor": 2,
 "metadata": {
  "language_info": {
   "name": "python",
   "codemirror_mode": {
    "name": "ipython",
    "version": 3
   }
  },
  "orig_nbformat": 2,
  "file_extension": ".py",
  "mimetype": "text/x-python",
  "name": "python",
  "npconvert_exporter": "python",
  "pygments_lexer": "ipython3",
  "version": 3
 },
 "cells": [
  {
   "cell_type": "markdown",
   "execution_count": null,
   "metadata": {},
   "outputs": [],
   "source": [
    "### _1. Try to model the result of a coin toss. In your model, include any features that you think important in explaining the result. Discuss with your mentor about the pros and cons of adding too many features into your model._\n",
    "\n",
    "Minimumally, the model will include this feature:\n",
    "- Side - The side-up that the coin lands on.\n",
    "\n",
    "Beyond which side lands up the model could include: \n",
    "- Wind Speed \n",
    "- Landing Surface Slope\n",
    "- Number of bounces\n",
    "- Height of toss\n",
    "- Ambient temperature\n",
    "- Ambient humidity\n",
    "\n",
    "While the number of features in a model might be infomative they might not all be signifigant enough to be useful to the model.  Additionally, each feature added to a model adds a computation cost to the run-time of the model.  For the coin toss model, the side that lands up is much more signifigant than wind speed, especially if all of the tosses are performed in a closed room.  Performing Exploratory Data Analysis (EDA) and Principal Components Analysis (PCA) should privide sufficient justification for keeping or dropping features from a model."
   ]
  },
  {
   "cell_type": "markdown",
   "execution_count": null,
   "metadata": {},
   "outputs": [],
   "source": [
    "### _2. If you ever used Netflix, you should already have realized that it provides some recommendations for you to watch. In data science, this is an example of the so-called recommendations systems. Read this nontechnical blog post of Netflix about how they model their recommendations systems. Then, derive the features they use in their recommendations engines and discuss what else can be incorporated into this model._\n",
    "\n",
    "Based on the blog post the Netflix the recommendation system consideres: \n",
    "- The users viewing history\n",
    "- Past ratings on movies\n",
    "- The film genre\n",
    "- The film category\n",
    "- The film's actors\n",
    "- Release year\n",
    "- Time of day watched\n",
    "- Devices watched on \n",
    "- Length of time watched \n",
    "- Past Searches\n",
    "\n",
    "Netflix states in the blog post that they do not consider demographic information like sex, gender or age.  Since Netflix does not consider demographic information the following might be useful additions to the model:\n",
    "- New release or not\n",
    "- Awards won\n",
    "- Region of the country the user is in"
   ]
  },
  {
   "cell_type": "code",
   "execution_count": null,
   "metadata": {},
   "outputs": [],
   "source": []
  }
 ]
}