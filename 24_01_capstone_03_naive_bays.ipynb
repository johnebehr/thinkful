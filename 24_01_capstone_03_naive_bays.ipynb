{
 "nbformat": 4,
 "nbformat_minor": 2,
 "metadata": {
  "language_info": {
   "name": "python",
   "codemirror_mode": {
    "name": "ipython",
    "version": 3
   },
   "version": "3.7.6-final"
  },
  "orig_nbformat": 2,
  "file_extension": ".py",
  "mimetype": "text/x-python",
  "name": "python",
  "npconvert_exporter": "python",
  "pygments_lexer": "ipython3",
  "version": 3,
  "kernelspec": {
   "name": "python37664bitbaseconda834eb1644bf744e08e7c91d065a0922d",
   "display_name": "Python 3.7.6 64-bit ('base': conda)"
  }
 },
 "cells": [
  {
   "cell_type": "code",
   "execution_count": 1,
   "metadata": {},
   "outputs": [],
   "source": [
    "import time\n",
    "\n",
    "import numpy as np \n",
    "import pandas as pd\n",
    "\n",
    "from sklearn.naive_bayes import BernoulliNB\n",
    "from sklearn.model_selection import KFold\n",
    "from sklearn.model_selection import cross_val_score\n",
    "from sklearn import metrics"
   ]
  },
  {
   "cell_type": "code",
   "execution_count": 2,
   "metadata": {},
   "outputs": [],
   "source": [
    "# Load the df_working pickle object for use in a Naive Bayes classifier\n",
    "df = pd.read_pickle(\"df_one_hot.pkl\")"
   ]
  },
  {
   "cell_type": "code",
   "execution_count": 29,
   "metadata": {},
   "outputs": [
    {
     "name": "stdout",
     "output_type": "stream",
     "text": "[0.79287579 0.79299754 0.78716216 0.79929361 0.79944717]\n\nModel run time: 1.27 secs.\n"
    }
   ],
   "source": [
    "# Instantiate the model and store in a variable \n",
    "bnb = BernoulliNB()\n",
    "\n",
    "# Define the model features \n",
    "X = df.iloc[:,20:]\n",
    "\n",
    "# Define the target variable \n",
    "y = df[\"income\"]\n",
    "\n",
    "# Set a timer to see how long the model takes to run\n",
    "start = time.time()\n",
    "\n",
    "# Run the model and score\n",
    "cross_val = cross_val_score(bnb,X,y,cv=5)\n",
    "\n",
    "# Determine the amount of time it takes the run the model and score\n",
    "runtime = f\"{(time.time() - start):0.2f}\"\n",
    "\n",
    "# Print the cross validation results\n",
    "print(cross_val)\n",
    "\n",
    "# Print the run time\n",
    "print(f\"\\nModel run time: {runtime} secs.\")"
   ]
  },
  {
   "cell_type": "code",
   "execution_count": 37,
   "metadata": {},
   "outputs": [
    {
     "data": {
      "text/html": "<div>\n<style scoped>\n    .dataframe tbody tr th:only-of-type {\n        vertical-align: middle;\n    }\n\n    .dataframe tbody tr th {\n        vertical-align: top;\n    }\n\n    .dataframe thead th {\n        text-align: right;\n    }\n</style>\n<table border=\"1\" class=\"dataframe\">\n  <thead>\n    <tr style=\"text-align: right;\">\n      <th></th>\n      <th>fold</th>\n      <th>true_negative</th>\n      <th>false_positive</th>\n      <th>false_negative</th>\n      <th>true_positive</th>\n      <th>accuracy</th>\n      <th>fit_time (secs.)</th>\n    </tr>\n  </thead>\n  <tbody>\n    <tr>\n      <th>0</th>\n      <td>1</td>\n      <td>16012</td>\n      <td>3767</td>\n      <td>1529</td>\n      <td>4740</td>\n      <td>0.796683</td>\n      <td>0.22</td>\n    </tr>\n    <tr>\n      <th>1</th>\n      <td>2</td>\n      <td>15937</td>\n      <td>3813</td>\n      <td>1503</td>\n      <td>4796</td>\n      <td>0.795923</td>\n      <td>0.21</td>\n    </tr>\n    <tr>\n      <th>2</th>\n      <td>3</td>\n      <td>15977</td>\n      <td>3780</td>\n      <td>1503</td>\n      <td>4789</td>\n      <td>0.797190</td>\n      <td>0.20</td>\n    </tr>\n    <tr>\n      <th>3</th>\n      <td>4</td>\n      <td>15940</td>\n      <td>3846</td>\n      <td>1525</td>\n      <td>4738</td>\n      <td>0.793812</td>\n      <td>0.22</td>\n    </tr>\n    <tr>\n      <th>4</th>\n      <td>5</td>\n      <td>16012</td>\n      <td>3796</td>\n      <td>1527</td>\n      <td>4714</td>\n      <td>0.795654</td>\n      <td>0.21</td>\n    </tr>\n  </tbody>\n</table>\n</div>",
      "text/plain": "   fold  true_negative  false_positive  false_negative  true_positive  \\\n0     1          16012            3767            1529           4740   \n1     2          15937            3813            1503           4796   \n2     3          15977            3780            1503           4789   \n3     4          15940            3846            1525           4738   \n4     5          16012            3796            1527           4714   \n\n   accuracy fit_time (secs.)  \n0  0.796683             0.22  \n1  0.795923             0.21  \n2  0.797190             0.20  \n3  0.793812             0.22  \n4  0.795654             0.21  "
     },
     "metadata": {},
     "output_type": "display_data"
    },
    {
     "data": {
      "text/html": "<div>\n<style scoped>\n    .dataframe tbody tr th:only-of-type {\n        vertical-align: middle;\n    }\n\n    .dataframe tbody tr th {\n        vertical-align: top;\n    }\n\n    .dataframe thead th {\n        text-align: right;\n    }\n</style>\n<table border=\"1\" class=\"dataframe\">\n  <thead>\n    <tr style=\"text-align: right;\">\n      <th></th>\n      <th>&lt;=50K</th>\n      <th>&gt;50K</th>\n      <th>accuracy</th>\n      <th>macro avg</th>\n      <th>weighted avg</th>\n    </tr>\n  </thead>\n  <tbody>\n    <tr>\n      <th>precision</th>\n      <td>0.912937</td>\n      <td>0.553937</td>\n      <td>0.795654</td>\n      <td>0.733437</td>\n      <td>0.826925</td>\n    </tr>\n    <tr>\n      <th>recall</th>\n      <td>0.808360</td>\n      <td>0.755328</td>\n      <td>0.795654</td>\n      <td>0.781844</td>\n      <td>0.795654</td>\n    </tr>\n    <tr>\n      <th>f1-score</th>\n      <td>0.857472</td>\n      <td>0.639143</td>\n      <td>0.795654</td>\n      <td>0.748307</td>\n      <td>0.805163</td>\n    </tr>\n    <tr>\n      <th>support</th>\n      <td>19808.000000</td>\n      <td>6241.000000</td>\n      <td>0.795654</td>\n      <td>26049.000000</td>\n      <td>26049.000000</td>\n    </tr>\n  </tbody>\n</table>\n</div>",
      "text/plain": "                  <=50K         >50K  accuracy     macro avg  weighted avg\nprecision      0.912937     0.553937  0.795654      0.733437      0.826925\nrecall         0.808360     0.755328  0.795654      0.781844      0.795654\nf1-score       0.857472     0.639143  0.795654      0.748307      0.805163\nsupport    19808.000000  6241.000000  0.795654  26049.000000  26049.000000"
     },
     "metadata": {},
     "output_type": "display_data"
    }
   ],
   "source": [
    "# Naive Bayes train and test\n",
    "def nb_train_and_test(X,y,splits):\n",
    "    # Instantiate the model and store in a variable \n",
    "    bnb = BernoulliNB()\n",
    "\n",
    "    # Set the number of folds (training and test samples)\n",
    "    kf = KFold(n_splits=splits)\n",
    "\n",
    "    # Create a parent list to hold test and train scores\n",
    "    score_lists = list()\n",
    "\n",
    "    # Train and test using KFolds\n",
    "    for i, (train_index, test_index) in enumerate(kf.split(X), start=1):\n",
    "        # Create the train samples for the fold\n",
    "        X_train, X_test = X.iloc[train_index], X.iloc[test_index]\n",
    "\n",
    "        # Create the test samples for the fold\n",
    "        y_train, y_test = y.iloc[train_index], y.iloc[test_index]\n",
    "\n",
    "        # Locate the appropriate rows in the target series\n",
    "        train_ref = y.iloc[train_index]\n",
    "\n",
    "        # Set a timer to see how long fitting took\n",
    "        start = time.time()\n",
    "        \n",
    "        # Train the model using the train and test data\n",
    "        y_pred_train = bnb.fit(X_train,y_train).predict(X_train)\n",
    "\n",
    "        # Check to see how long the fitting took\n",
    "        fit_time = f\"{(time.time() - start):0.2f}\"\n",
    "\n",
    "        # Convert the confusion matrix to a list for reporting output\n",
    "        scores = list(metrics.confusion_matrix(y_train, y_pred_train).ravel()) \n",
    "\n",
    "        # Add the fold iteration to the scores list\n",
    "        scores.insert(0,i)\n",
    "\n",
    "        # Score the folds accuracy\n",
    "        accuracy = metrics.accuracy_score(y_train, y_pred_train)\n",
    "\n",
    "        # Append the accuracy to the scores list\n",
    "        scores.append(accuracy)\n",
    "\n",
    "        # Append the fit time to the scores list\n",
    "        scores.append(fit_time)\n",
    "\n",
    "        # Append the scores to the score_lists parent\n",
    "        score_lists.append(scores)\n",
    "\n",
    "        # Precision, recall and f1-score\n",
    "        precision = pd.DataFrame.from_dict(\n",
    "            metrics.classification_report(y_train, y_pred_train,output_dict=True)\n",
    "        )\n",
    "\n",
    "    # Create a dataframe of training and test results\n",
    "    df_out = pd.DataFrame(score_lists, columns=[\"fold\", \"true_negative\", \"false_positive\", \"false_negative\", \"true_positive\", \"accuracy\", \"fit_time (secs.)\"])\n",
    "\n",
    "    # List of output objects\n",
    "    resluts_output = [df_out,precision]\n",
    "\n",
    "    return resluts_output\n",
    "\n",
    "# Model features\n",
    "X = df.iloc[:, 20:]\n",
    "\n",
    "# Model target\n",
    "y = df[\"income\"]\n",
    "\n",
    "# Define the number groups the data will be split into\n",
    "splits = 5\n",
    "\n",
    "# Get the report dataframes from the function return\n",
    "nb_results, nb_precision = nb_train_and_test(X,y,splits)\n",
    "\n",
    "# Show the results dataframe\n",
    "display(nb_results)\n",
    "\n",
    "# Show the second results dataframe\n",
    "display(nb_precision)"
   ]
  },
  {
   "cell_type": "code",
   "execution_count": null,
   "metadata": {},
   "outputs": [],
   "source": []
  },
  {
   "cell_type": "code",
   "execution_count": null,
   "metadata": {},
   "outputs": [],
   "source": []
  },
  {
   "cell_type": "code",
   "execution_count": null,
   "metadata": {},
   "outputs": [],
   "source": []
  }
 ]
}