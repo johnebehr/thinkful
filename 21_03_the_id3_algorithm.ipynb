{
 "nbformat": 4,
 "nbformat_minor": 2,
 "metadata": {
  "language_info": {
   "name": "python",
   "codemirror_mode": {
    "name": "ipython",
    "version": 3
   },
   "version": "3.7.5-final"
  },
  "orig_nbformat": 2,
  "file_extension": ".py",
  "mimetype": "text/x-python",
  "name": "python",
  "npconvert_exporter": "python",
  "pygments_lexer": "ipython3",
  "version": 3,
  "kernelspec": {
   "name": "python37564bitbasecondacff6a9491553481ea55fb54c6034a878",
   "display_name": "Python 3.7.5 64-bit ('base': conda)"
  }
 },
 "cells": [
  {
   "cell_type": "markdown",
   "execution_count": null,
   "metadata": {},
   "outputs": [],
   "source": [
    "# 20.03 The ID3 Algorithm\n",
    "\n",
    "So far decision tree growing with an entropy criterion has been covered.  In doing so how that would actually work got skipped.  This notebook will give more detail into how an algorithm to do that will practically function.  This notebook will cover the ID3 algorithm, which is a popular algorithm for building decision trees.\n",
    "\n",
    "### The ID3 Algorithm \n",
    "\n",
    "ID3 stands for _Iterative Dichotomizer 3_, and is one of the simplest ways to create a decision tree.  It can be generalized into more robust scenarios, but the implementation is based on the framework covered here.  Essentially ID3 goes through every feature to find the most valuable attribute then then splits base on it.  It moves further and further down the tree until it either has a pure class or has met a terminating condition.  The details will be covered below.  \n",
    "\n",
    "Before you can start working with ID3 there are some requirements for the data in its most basic form.  First, outcomes must be binary.  The simplest version of ID3 is a binary classifier.  The attributes you'll use to build the tree also have to be categorical.  Attributes can have many categories, but they must be known and countable.  If those two criteria are met, then you can build a basic ID3 classifying algorithm.\n",
    "\n",
    "The other thing you'll need for this is the definition of entropy from 20.02.  Shannon Entropy $H$, is defined as: \n",
    "\n",
    "$$H = -\\sum_{i=1}^n P(x_i)log_2 P(x_i)$$\n",
    "\n",
    "For simplicity of calculation, you can make the following transformation to the definition: \n",
    "\n",
    "$$H = \\sum_{i=1}^n P(x_i)log_2 \\frac{1}{P(x_i)}$$\n",
    "\n",
    "This removes the negative sign up front and will make it easier to implement the formula.\n",
    "\n",
    "### Calculating Entropy \n",
    "\n",
    "Since this algorithm is based on entropy, a quick example will be given on how to calculate it.  Say you have 20 students, and you're trying to classify them as male and female.  The only attribute you have is whether their height is tall, medium, or short.  Of the 20 students, 12 are boys and 8 are girls.  Of the 12 boys, 4 are tall, 6 are medium, and 2 are short.  For the 8 girls, 1 is tall, 2 are medium, and 5 are short.\n",
    "\n",
    "You are trying to find the entropy, both before and after any rule is applied for being tall.  The initial entropy is just the formula plugged in over both the possible classes of interest:\n",
    "\n",
    "$$ H = P(male)*log_2 \\frac{1}{P(male)} + P(female)*log_2 \\frac{1}{P(female)}  $$\n",
    "\n",
    "\n",
    "$$ = \\frac{12}{20}*log_2 \\frac{20}{12} + \\frac{8}{20}*log_2 \\frac{20}{8} = .971 $$\n",
    "\n",
    "Now apply the rule _height = short_.  You need to calculate the weighted average of the two entropies, one for the short students and one for the non-short students.\n",
    "\n",
    "$$ H(short) = P(male)*log_2 \\frac{1}{P(male)} + P(female)*log_2 \\frac{1}{P(female)}  $$\n",
    "\n",
    "$$ = \\frac{2}{7}*log_2 \\frac{7}{2} + \\frac{5}{7}*log_2 \\frac{7}{5} = .863 $$\n",
    "\n",
    "$$ H(not\\_short) = P(male)*log_2 \\frac{1}{P(male)} + P(female)*log_2 \\frac{1}{P(female)}  $$\n",
    "\n",
    "$$ = \\frac{10}{13}*log_2 \\frac{13}{10} + \\frac{3}{13}*log_2 \\frac{13}{3} = .779 $$\n",
    "\n",
    "Note that all the probabilities are conditional on the criteria you’re assuming (short or not short).  Now the weighted average of the two is just:\n",
    "\n",
    "$$ P(short) * H(short) + P(not\\_short) * H(not\\_short) = \\frac{7}{20} * .863 + \\frac{13}{20} * .779 = .809 $$\n",
    "\n",
    "The entropy from this question goes from 0.971 to 0.809.  That is an improvement.  Use the space below to calculated the entropy of the other criteria, calculate for students tall or medium:  \n"
   ]
  },
  {
   "cell_type": "code",
   "execution_count": 21,
   "metadata": {},
   "outputs": [
    {
     "name": "stdout",
     "output_type": "stream",
     "text": "Entropy Short: 0.808669593238176 | Entropy Medium: 0.9245112497836531 | Entropy Tall: 0.9280757477080679\n"
    }
   ],
   "source": [
    "import numpy as np \n",
    "\n",
    "from math import log2\n",
    "\n",
    "def find_H(inputs):\n",
    "    pM = inputs[1]/inputs[0]\n",
    "    pF = inputs[2]/inputs[0]\n",
    "    X1 = pM*log2(1/pM)\n",
    "    X2 = pF*log2(1/pF)\n",
    "\n",
    "    H = sum([X1,X2])\n",
    "\n",
    "    return [H,pM,pF,X1,X2]\n",
    "\n",
    "# [Students, Male, Female]\n",
    "inputs_all = [20,12,8]\n",
    "# [Short,Male_short, Female_short]\n",
    "inputs_short = [7,2,5]\n",
    "inputs_short_complement = list(np.array(inputs_all) - np.array(inputs_short))\n",
    "# [Medium,Male_medium,Female_medium]\n",
    "inputs_medium = [8,6,2]\n",
    "inputs_medium_complement = list(np.array(inputs_all) - np.array(inputs_medium))\n",
    "# [Tall,Male_tall,Female_tall]\n",
    "inputs_tall = [5,4,1]\n",
    "inputs_tall_complement = list(np.array(inputs_all) - np.array(inputs_tall))\n",
    "\n",
    "# Calculate Initial H\n",
    "H_initial = find_H(inputs_all)\n",
    "\n",
    "# Find H for short and its complement\n",
    "H_short = find_H(inputs_short)\n",
    "H_not_short = find_H(inputs_short_complement)\n",
    "\n",
    "# Find H for medium and its complement\n",
    "H_medium = find_H(inputs_medium)\n",
    "H_not_medium = find_H(inputs_medium_complement)\n",
    "\n",
    "# Find H for tall and its complement\n",
    "H_tall = find_H(inputs_tall)\n",
    "H_not_tall = find_H(inputs_tall_complement)\n",
    "\n",
    "# Calcuate the entropies for short, medium and tall\n",
    "entropy_short = ((inputs_short[0]/inputs_all[0]) * H_short[0]) + ((inputs_short_complement[0]/inputs_all[0]) * H_not_short[0])\n",
    "entropy_medium = ((inputs_medium[0]/inputs_all[0]) * H_medium[0]) + ((inputs_medium_complement[0]/inputs_all[0]) * H_not_medium[0])\n",
    "entropy_tall = ((inputs_tall[0]/inputs_all[0]) * H_tall[0]) + ((inputs_tall_complement[0]/inputs_all[0]) * H_not_tall[0])\n",
    "\n",
    "print(f\"Entropy Short: {entropy_short} | Entropy Medium: {entropy_medium} | Entropy Tall: {entropy_tall}\")"
   ]
  },
  {
   "cell_type": "markdown",
   "execution_count": null,
   "metadata": {},
   "outputs": [],
   "source": [
    "You should have found entropies of .925 for medium and .928 for tall. Both of those entropies are higher. Now, it has been said previously said that you want to prioritize questions with the most information gain. Which one of these would that be?\n",
    "\n",
    "It would be asking if an individual is short. You should also note that for all possible questions, we're still comparing with the same initial entropy value. So one way of seeing which question has the most information gain is to find the one with the lowest entropy. This should make sense when we think of entropy as uncertainty. The less uncertainty after a question, the more information we gained."
   ]
  },
  {
   "cell_type": "markdown",
   "execution_count": null,
   "metadata": {},
   "outputs": [],
   "source": [
    "### Pseudocoding the Algorithm\n",
    "\n",
    "**Pseudocode** is the process of writing the steps and logic you implement in code, but in normal language rather than commands a programming language could execute.  It can be a useful way to chart out how you want to build an algorithim and is a common topic for technical interviews.  Here, pseudocode will be used to expain the ID3 Algorithm.\n",
    "\n",
    "Here is reasonable pseudocode for ID3, which will then be followed up with an explanation of the steps.  The outcome for this variable will be A or B.  An attribute is denoted a<sub>i</sub>.  A value of that attribute is v<sub>i</sub>\n",
    "\n",
    "<pre>\n",
    "Algorithm(Observations, Outcome, Attributes)\n",
    "    Create a root node.\n",
    "    If all observations are 'A', label root node 'A' and return.\n",
    "    If all observations are 'B', label root node 'B' and return.\n",
    "    If no attributes return the root note labeled with the most common Outcome.\n",
    "    Otherwise, start:\n",
    "        For each value v<sub>i</sub> of each attribute a<sub>i</sub>, calculate the entropy.\n",
    "        The attribute a<sub>i</sub> and value v<sub>i</sub> with the lowest entropy is the best rule.\n",
    "        The attribute for this node is then a<sub>i</sub>\n",
    "            Split the tree to below based on the rule a<sub>i</sub> = v<sub>i</sub>\n",
    "            Observations<sub>v<sub>i</sub></sub> is the subset of observations with value v<sub>i</sub>\n",
    "            If Observations<sub>v<sub>i</sub></sub> is empty cap with node labeled with most common Outcome\n",
    "            Else at the new node start a subtree (Observations<sub>v<sub>i</sub></sub>, Target Outcome, Attributes - {a<sub>i</sub>}) and repeat the algorithm\n",
    "</pre>\n",
    "\n",
    "Now let's walk through this pseudocode algorithm in plain English piece by piece.\n",
    "\n",
    "First you create a root node. Simple enough, you have to start with something.\n",
    "\n",
    "The next two lines say that if you're already exclusively one class, just label with that class and you're done. Similarly the following line says that if you don't have any attributes left you're also done, labeling with the most common outcome.\n",
    "\n",
    "Then we get into the _real_ algorithm. First you have to find the best attribute by calculating entropies for all possible values. The attribute value pair with the lowest entropy is then the best attribute and the attribute you give to the node.\n",
    "\n",
    "You use that rule to split the node, creating subsets of observations. There are then two new nodes, each with a subset of the observations corresponding to the rule. If obsevations are null then label with the dominant outcome.\n",
    "\n",
    "Otherwise at each new node start the algorithm again.\n",
    "\n",
    "This is how a decision tree would actually function. Understanding this should give you some insight into how this algorithm works and reveals several attributes of the algorithm. Firstly, the solution is not necessarily optimal. The tree can get stuck in local optima, just like with the gradient descent algorithm. It also has no way to work backwards if it finds itself in an informationless space. You can add criteria to make it stop before the tree has grown to run out of attributes or all leaf nodes are single classes."
   ]
  },
  {
   "cell_type": "markdown",
   "execution_count": null,
   "metadata": {},
   "outputs": [],
   "source": [
    "### DRILL:\n",
    "\n",
    "Look over the code for [this real](https://github.com/NinjaSteph/DecisionTree/blob/master/sna2111_DecisionTree/DecisionTree.py) ID3 Algorithm in python. Note how well the author breaks up functionality into individual, reusable, well-named helper functions. See if you can match our pseudocode steps to the code in this example."
   ]
  },
  {
   "cell_type": "code",
   "execution_count": null,
   "metadata": {},
   "outputs": [],
   "source": []
  },
  {
   "cell_type": "code",
   "execution_count": null,
   "metadata": {},
   "outputs": [],
   "source": []
  },
  {
   "cell_type": "code",
   "execution_count": null,
   "metadata": {},
   "outputs": [],
   "source": []
  },
  {
   "cell_type": "code",
   "execution_count": null,
   "metadata": {},
   "outputs": [],
   "source": []
  },
  {
   "cell_type": "code",
   "execution_count": null,
   "metadata": {},
   "outputs": [],
   "source": []
  },
  {
   "cell_type": "code",
   "execution_count": null,
   "metadata": {},
   "outputs": [],
   "source": []
  }
 ]
}