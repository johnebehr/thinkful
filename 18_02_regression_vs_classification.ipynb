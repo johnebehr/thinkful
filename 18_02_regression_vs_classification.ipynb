{
 "nbformat": 4,
 "nbformat_minor": 2,
 "metadata": {
  "language_info": {
   "name": "python",
   "codemirror_mode": {
    "name": "ipython",
    "version": 3
   },
   "version": "3.7.5"
  },
  "orig_nbformat": 2,
  "file_extension": ".py",
  "mimetype": "text/x-python",
  "name": "python",
  "npconvert_exporter": "python",
  "pygments_lexer": "ipython3",
  "version": 3
 },
 "cells": [
  {
   "cell_type": "markdown",
   "execution_count": null,
   "metadata": {},
   "outputs": [],
   "source": [
    "# Regression vs. Classification\n",
    "\n",
    "In the 17.02, Data cleaning 1: variable types, discussion the idea was presented that a data scientist sees variables as either continuous or categorical.  Continuous variables can potentially take an unlimited number of values, but Categorical values can only take a limited number of values.  This distinction has an impact on how you approach dealing with the variables in data science.  If the target variable is continuous then the problem is formulated as a __regression__ problem.  If the target variable is categorical, then the problem is formulated as a __classification__ problem.\n",
    "\n",
    "## Regression vs. Classification\n",
    "\n",
    "Classification models focus on __categorical__ target variables.  The variable only takes discrete values from within a specified set.  Almost anything that can be discretely counted and labeled can be considered a categorical variable.  __Categorical__ variables can be subdivided further into ordinal and nominal variables.\n",
    "\n",
    "A classifier model outcome is typically one of two things.  It will either assign a category to a given test observation or it will assign a probability to each category.  This means that say if the potential outcomes are {yes, no}, for a given test row the output of a classifier would either be {yes} or {no} or some probability measure for each: {0.2, 0.8} respectively.\n",
    "With classifiers, the only outcomes that are considered _have_ to be in the training set.  If the test set has a value in the outcome variable that is not in the training set, the model will not be able to predict it correctly.\n",
    "\n",
    "Regression models focus on __continuous__ target variables.  Again, __continuous__ variables can potentially take an unlimited number of values.  __Continuous__ can be further subdivided into _interval_ and _ratio_ variables.  Regressions imply a relationship between variables.  For example, a variable that measures amount spend could range from 0 to a large observable max.  Many regression techniques can give predictions even beyond observed min and max values while others are more bounded.\n",
    "\n",
    "There are times when a variable can present as both __continuous__ and __categorical__.  In these cases, make a choice of which to use based on the desired outcome.  Classifiers treat each outcome discretely and the relationships between them are not predefined.  Classifiers generally do not average outcomes for you, so if you get a single output you are being provided the most likely outcome and not the average.  Regressions will fall somewhere on a continuous line without necessarily having defined boundaries.\n"
   ]
  },
  {
   "cell_type": "markdown",
   "execution_count": null,
   "metadata": {},
   "outputs": [],
   "source": [
    "## Assignment\n",
    "\n",
    "For each of the following situations, decide if you would model using a regression or classification model. Discuss your reasoning with your mentor next time you meet."
   ]
  },
  {
   "cell_type": "markdown",
   "execution_count": null,
   "metadata": {},
   "outputs": [],
   "source": [
    "### _1. The amount a person will spend on a given site in the next 24 months._\n",
    "\n",
    "In this situation the outcome sought for the target variable is continuous and lends itself to a regression model."
   ]
  },
  {
   "cell_type": "markdown",
   "execution_count": null,
   "metadata": {},
   "outputs": [],
   "source": [
    "### _2. What color car someone is going to buy._\n",
    "\n",
    "Here you are trying to assign a value (color) from a pre-determined set of colors based on your model.  This is a classification problem."
   ]
  },
  {
   "cell_type": "markdown",
   "execution_count": null,
   "metadata": {},
   "outputs": [],
   "source": [
    "### _3. How many children a family will have._\n",
    "\n",
    "While a family cannot have an unlimited number of childern and only have whole children, the target variable output falls somewhere on a continuum.  This is a regression problem. "
   ]
  },
  {
   "cell_type": "markdown",
   "execution_count": null,
   "metadata": {},
   "outputs": [],
   "source": [
    "### _4. If someone will sign up for a service._\n",
    "\n",
    "This model hopes to assign a probabilty to a binary choice {yes (will sing up), no (will not sign up)}, this is a classification problem."
   ]
  },
  {
   "cell_type": "markdown",
   "execution_count": null,
   "metadata": {},
   "outputs": [],
   "source": [
    "### _5. The number of times someone will get sick in a year._\n",
    "\n",
    "The target variable output will fall somewhere on a number line and is a regression problem."
   ]
  },
  {
   "cell_type": "markdown",
   "execution_count": null,
   "metadata": {},
   "outputs": [],
   "source": [
    "### _6. The probability someone will get sick in the next month._\n",
    "\n",
    "Like number 4 the model is trying to assign a probability to a binary choice, will a person get sick or not in the next month.  This is a classification problem."
   ]
  },
  {
   "cell_type": "markdown",
   "execution_count": 1,
   "metadata": {},
   "outputs": [],
   "source": [
    "### _7. Which medicine will work best for a given patient._\n",
    "\n",
    "There is some ambiguity to this target variable might require some clarification.  Is one medication being compared to another?  It could be a classification problem.  Is the model ingesting quantitative data measuring dosing or frequency of treatment?  I could be a regression problem.  Either way disambiguation of the target variable is necessary."
   ]
  },
  {
   "cell_type": "code",
   "execution_count": null,
   "metadata": {},
   "outputs": [],
   "source": []
  }
 ]
}
