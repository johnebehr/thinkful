{
 "cells": [
  {
   "cell_type": "markdown",
   "metadata": {},
   "source": [
    "# Making Predictions\n",
    "\n",
    "Linear regression models are relative straightforward to interpret as you can derive useful insights by discovering the relationship in the data but, the story does not end there.  Using past observations, you can create an estimated model to predict unknown observations.\n",
    "\n",
    "In this notebook, the following will be covered: \n",
    "- How to make predictions using estimated linear regression models.\n",
    "- How to evaluate the predictive performance of regression models.\n",
    "\n",
    "Throughout the notebook, predictions will be illustrated by splitting data into training and test sets.  You will estimate your models using only the training set.  Hence, you models will not see the observations in the test set, and the information in the test observations will not be used in the estimation of the models.  By holding out a portion of the data and testing on in, you can evaluate the results of your models as if it were performing on unseen real-world observations.\n",
    "\n",
    "#### Making Predictions Using Linear Regression models\n",
    "\n",
    "The following will demonstrate how to make predictions on the medical cost dataset from an insurance company.\n"
   ]
  },
  {
   "cell_type": "code",
   "execution_count": 31,
   "metadata": {},
   "outputs": [],
   "source": [
    "import warnings\n",
    "\n",
    "import matplotlib.pyplot as plt \n",
    "import numpy as np \n",
    "import pandas as pd \n",
    "import statsmodels.api as sm\n",
    "\n",
    "from sklearn.linear_model import LinearRegression \n",
    "from sklearn.model_selection import train_test_split \n",
    "from sklearn.metrics import mean_absolute_error\n",
    "from statsmodels.tools.eval_measures import mse, rmse \n",
    "from sqlalchemy import create_engine \n",
    "from sqlalchemy.engine.url import URL \n",
    "from scipy.stats.mstats import winsorize\n",
    "\n",
    "pd.options.display.float_format = \"{:.3f}\".format\n",
    "\n",
    "warnings.filterwarnings(action=\"ignore\")\n",
    "\n",
    "kagle = dict(\n",
    "    drivername = \"postgresql\",\n",
    "    username = \"dsbc_student\",\n",
    "    password = \"7*.8G9QH21\",\n",
    "    host = \"142.93.121.174\",\n",
    "    port = \"5432\",\n",
    "    database = \"medicalcosts\"\n",
    ")"
   ]
  },
  {
   "cell_type": "code",
   "execution_count": 2,
   "metadata": {},
   "outputs": [
    {
     "name": "stdout",
     "output_type": "stream",
     "text": [
      "2020-01-07 20:57:23,417 INFO sqlalchemy.engine.base.Engine select version()\n",
      "2020-01-07 20:57:23,425 INFO sqlalchemy.engine.base.Engine {}\n",
      "2020-01-07 20:57:23,523 INFO sqlalchemy.engine.base.Engine select current_schema()\n",
      "2020-01-07 20:57:23,524 INFO sqlalchemy.engine.base.Engine {}\n",
      "2020-01-07 20:57:23,624 INFO sqlalchemy.engine.base.Engine SELECT CAST('test plain returns' AS VARCHAR(60)) AS anon_1\n",
      "2020-01-07 20:57:23,626 INFO sqlalchemy.engine.base.Engine {}\n",
      "2020-01-07 20:57:23,677 INFO sqlalchemy.engine.base.Engine SELECT CAST('test unicode returns' AS VARCHAR(60)) AS anon_1\n",
      "2020-01-07 20:57:23,680 INFO sqlalchemy.engine.base.Engine {}\n",
      "2020-01-07 20:57:23,732 INFO sqlalchemy.engine.base.Engine show standard_conforming_strings\n",
      "2020-01-07 20:57:23,734 INFO sqlalchemy.engine.base.Engine {}\n",
      "2020-01-07 20:57:23,839 INFO sqlalchemy.engine.base.Engine select relname from pg_class c join pg_namespace n on n.oid=c.relnamespace where pg_catalog.pg_table_is_visible(c.oid) and relname=%(name)s\n",
      "2020-01-07 20:57:23,841 INFO sqlalchemy.engine.base.Engine {'name': 'SELECT * FROM medicalcosts'}\n",
      "2020-01-07 20:57:24,001 INFO sqlalchemy.engine.base.Engine SELECT * FROM medicalcosts\n",
      "2020-01-07 20:57:24,003 INFO sqlalchemy.engine.base.Engine {}\n"
     ]
    }
   ],
   "source": [
    "# Load the data from the medicalcosts database\n",
    "engine=create_engine(URL(**kagle), echo=True)\n",
    "\n",
    "insurance_df = pd.read_sql(\"SELECT * FROM medicalcosts\", con=engine)\n",
    "\n",
    "# No need for an open connection, please close\n",
    "engine.dispose()"
   ]
  },
  {
   "cell_type": "markdown",
   "metadata": {},
   "source": [
    "Using the features in this dataset such as age, sex, bmi, number of children and whether this person is a smoker, you can use a linear regression model to predict the cost of that person's medical expenses.  This could be very useful information for an insurance company to accurately predict a person's potential medical costs to adjust their premiums accordingly."
   ]
  },
  {
   "cell_type": "code",
   "execution_count": 3,
   "metadata": {},
   "outputs": [
    {
     "data": {
      "text/html": [
       "<div>\n",
       "<style scoped>\n",
       "    .dataframe tbody tr th:only-of-type {\n",
       "        vertical-align: middle;\n",
       "    }\n",
       "\n",
       "    .dataframe tbody tr th {\n",
       "        vertical-align: top;\n",
       "    }\n",
       "\n",
       "    .dataframe thead th {\n",
       "        text-align: right;\n",
       "    }\n",
       "</style>\n",
       "<table border=\"1\" class=\"dataframe\">\n",
       "  <thead>\n",
       "    <tr style=\"text-align: right;\">\n",
       "      <th></th>\n",
       "      <th>age</th>\n",
       "      <th>sex</th>\n",
       "      <th>bmi</th>\n",
       "      <th>children</th>\n",
       "      <th>smoker</th>\n",
       "      <th>region</th>\n",
       "      <th>charges</th>\n",
       "    </tr>\n",
       "  </thead>\n",
       "  <tbody>\n",
       "    <tr>\n",
       "      <th>0</th>\n",
       "      <td>19</td>\n",
       "      <td>female</td>\n",
       "      <td>27.900</td>\n",
       "      <td>0</td>\n",
       "      <td>yes</td>\n",
       "      <td>southwest</td>\n",
       "      <td>16884.900</td>\n",
       "    </tr>\n",
       "    <tr>\n",
       "      <th>1</th>\n",
       "      <td>18</td>\n",
       "      <td>male</td>\n",
       "      <td>33.770</td>\n",
       "      <td>1</td>\n",
       "      <td>no</td>\n",
       "      <td>southeast</td>\n",
       "      <td>1725.550</td>\n",
       "    </tr>\n",
       "    <tr>\n",
       "      <th>2</th>\n",
       "      <td>28</td>\n",
       "      <td>male</td>\n",
       "      <td>33.000</td>\n",
       "      <td>3</td>\n",
       "      <td>no</td>\n",
       "      <td>southeast</td>\n",
       "      <td>4449.460</td>\n",
       "    </tr>\n",
       "    <tr>\n",
       "      <th>3</th>\n",
       "      <td>33</td>\n",
       "      <td>male</td>\n",
       "      <td>22.705</td>\n",
       "      <td>0</td>\n",
       "      <td>no</td>\n",
       "      <td>northwest</td>\n",
       "      <td>21984.500</td>\n",
       "    </tr>\n",
       "    <tr>\n",
       "      <th>4</th>\n",
       "      <td>32</td>\n",
       "      <td>male</td>\n",
       "      <td>28.880</td>\n",
       "      <td>0</td>\n",
       "      <td>no</td>\n",
       "      <td>northwest</td>\n",
       "      <td>3866.860</td>\n",
       "    </tr>\n",
       "    <tr>\n",
       "      <th>5</th>\n",
       "      <td>31</td>\n",
       "      <td>female</td>\n",
       "      <td>25.740</td>\n",
       "      <td>0</td>\n",
       "      <td>no</td>\n",
       "      <td>southeast</td>\n",
       "      <td>3756.620</td>\n",
       "    </tr>\n",
       "    <tr>\n",
       "      <th>6</th>\n",
       "      <td>46</td>\n",
       "      <td>female</td>\n",
       "      <td>33.440</td>\n",
       "      <td>1</td>\n",
       "      <td>no</td>\n",
       "      <td>southeast</td>\n",
       "      <td>8240.590</td>\n",
       "    </tr>\n",
       "    <tr>\n",
       "      <th>7</th>\n",
       "      <td>37</td>\n",
       "      <td>female</td>\n",
       "      <td>27.740</td>\n",
       "      <td>3</td>\n",
       "      <td>no</td>\n",
       "      <td>northwest</td>\n",
       "      <td>7281.510</td>\n",
       "    </tr>\n",
       "    <tr>\n",
       "      <th>8</th>\n",
       "      <td>37</td>\n",
       "      <td>male</td>\n",
       "      <td>29.830</td>\n",
       "      <td>2</td>\n",
       "      <td>no</td>\n",
       "      <td>northeast</td>\n",
       "      <td>6406.410</td>\n",
       "    </tr>\n",
       "    <tr>\n",
       "      <th>9</th>\n",
       "      <td>60</td>\n",
       "      <td>female</td>\n",
       "      <td>25.840</td>\n",
       "      <td>0</td>\n",
       "      <td>no</td>\n",
       "      <td>northwest</td>\n",
       "      <td>28923.100</td>\n",
       "    </tr>\n",
       "  </tbody>\n",
       "</table>\n",
       "</div>"
      ],
      "text/plain": [
       "   age     sex    bmi  children smoker     region   charges\n",
       "0   19  female 27.900         0    yes  southwest 16884.900\n",
       "1   18    male 33.770         1     no  southeast  1725.550\n",
       "2   28    male 33.000         3     no  southeast  4449.460\n",
       "3   33    male 22.705         0     no  northwest 21984.500\n",
       "4   32    male 28.880         0     no  northwest  3866.860\n",
       "5   31  female 25.740         0     no  southeast  3756.620\n",
       "6   46  female 33.440         1     no  southeast  8240.590\n",
       "7   37  female 27.740         3     no  northwest  7281.510\n",
       "8   37    male 29.830         2     no  northeast  6406.410\n",
       "9   60  female 25.840         0     no  northwest 28923.100"
      ]
     },
     "execution_count": 3,
     "metadata": {},
     "output_type": "execute_result"
    }
   ],
   "source": [
    "insurance_df.head(n=10)"
   ]
  },
  {
   "cell_type": "markdown",
   "metadata": {},
   "source": [
    "Computers love numbers and not text, so turn the \"sex\" and \"smoker\" columns into binary columns, but only keep the column that is `True`."
   ]
  },
  {
   "cell_type": "code",
   "execution_count": 4,
   "metadata": {},
   "outputs": [],
   "source": [
    "insurance_df[\"is_male\"] = pd.get_dummies(insurance_df[\"sex\"], drop_first=True)\n",
    "insurance_df[\"is_smoker\"] = pd.get_dummies(insurance_df[\"smoker\"], drop_first=True)"
   ]
  },
  {
   "cell_type": "code",
   "execution_count": 5,
   "metadata": {},
   "outputs": [],
   "source": [
    "# Y is the target variable, in other words what are you trying to predict\n",
    "Y = insurance_df[\"charges\"]\n",
    "\n",
    "# X is the feature set you are using to predict the medical costs\n",
    "X = insurance_df[[\"is_male\", \"is_smoker\", \"age\", \"bmi\", \"children\"]]"
   ]
  },
  {
   "cell_type": "markdown",
   "metadata": {},
   "source": [
    "Now, split the data into train and test sets.  You'll be using scikit-learn's `train_test_split()` method to do this.  This method takes the features and the target as well as the test size and random state parameters as inputs.  The `train_test_split()` method uses the `test_size` parameter to decide on how much of the data will be split out as test data.  Below, set this parameter to 0.2 or 20% of the data for the test set."
   ]
  },
  {
   "cell_type": "code",
   "execution_count": 6,
   "metadata": {},
   "outputs": [
    {
     "name": "stdout",
     "output_type": "stream",
     "text": [
      "The number of observations in the training set is 1070\n",
      "The number of observations in the test set is 268\n"
     ]
    }
   ],
   "source": [
    "X_train, X_test, y_train, y_test, = train_test_split(X,Y, test_size = 0.2, random_state = 465)\n",
    "\n",
    "print(f\"The number of observations in the training set is {X_train.shape[0]}\")\n",
    "print(f\"The number of observations in the test set is {X_test.shape[0]}\")"
   ]
  },
  {
   "cell_type": "markdown",
   "metadata": {},
   "source": [
    "Now, the features in the training and test sets are assigned to `X_train` and `X_test` respectively.  Similarly, the targets are assigned to `y_train` and `y_test`.  Next use one of the your previous models, but this time train it using only the training set.\n",
    "\n",
    "Later, you will predict on `X_test` and use different evaluation metrics to see how closely the predictions are to `y_test"
   ]
  },
  {
   "cell_type": "code",
   "execution_count": 7,
   "metadata": {},
   "outputs": [
    {
     "data": {
      "text/html": [
       "<div>\n",
       "<style scoped>\n",
       "    .dataframe tbody tr th:only-of-type {\n",
       "        vertical-align: middle;\n",
       "    }\n",
       "\n",
       "    .dataframe tbody tr th {\n",
       "        vertical-align: top;\n",
       "    }\n",
       "\n",
       "    .dataframe thead th {\n",
       "        text-align: right;\n",
       "    }\n",
       "</style>\n",
       "<table border=\"1\" class=\"dataframe\">\n",
       "  <thead>\n",
       "    <tr style=\"text-align: right;\">\n",
       "      <th></th>\n",
       "      <th>is_male</th>\n",
       "      <th>is_smoker</th>\n",
       "      <th>age</th>\n",
       "      <th>bmi</th>\n",
       "      <th>children</th>\n",
       "    </tr>\n",
       "  </thead>\n",
       "  <tbody>\n",
       "    <tr>\n",
       "      <th>172</th>\n",
       "      <td>1</td>\n",
       "      <td>0</td>\n",
       "      <td>18</td>\n",
       "      <td>15.960</td>\n",
       "      <td>0</td>\n",
       "    </tr>\n",
       "    <tr>\n",
       "      <th>814</th>\n",
       "      <td>1</td>\n",
       "      <td>0</td>\n",
       "      <td>36</td>\n",
       "      <td>34.430</td>\n",
       "      <td>2</td>\n",
       "    </tr>\n",
       "    <tr>\n",
       "      <th>553</th>\n",
       "      <td>0</td>\n",
       "      <td>0</td>\n",
       "      <td>52</td>\n",
       "      <td>31.730</td>\n",
       "      <td>2</td>\n",
       "    </tr>\n",
       "    <tr>\n",
       "      <th>1239</th>\n",
       "      <td>0</td>\n",
       "      <td>0</td>\n",
       "      <td>25</td>\n",
       "      <td>42.130</td>\n",
       "      <td>1</td>\n",
       "    </tr>\n",
       "    <tr>\n",
       "      <th>697</th>\n",
       "      <td>1</td>\n",
       "      <td>1</td>\n",
       "      <td>41</td>\n",
       "      <td>35.750</td>\n",
       "      <td>1</td>\n",
       "    </tr>\n",
       "  </tbody>\n",
       "</table>\n",
       "</div>"
      ],
      "text/plain": [
       "      is_male  is_smoker  age    bmi  children\n",
       "172         1          0   18 15.960         0\n",
       "814         1          0   36 34.430         2\n",
       "553         0          0   52 31.730         2\n",
       "1239        0          0   25 42.130         1\n",
       "697         1          1   41 35.750         1"
      ]
     },
     "execution_count": 7,
     "metadata": {},
     "output_type": "execute_result"
    }
   ],
   "source": [
    "X_train.head()"
   ]
  },
  {
   "cell_type": "markdown",
   "metadata": {},
   "source": [
    "Add a constant to the model, the \"baseline\" of the data in case all of your feature values are $0$."
   ]
  },
  {
   "cell_type": "code",
   "execution_count": 8,
   "metadata": {},
   "outputs": [],
   "source": [
    "X_train = sm.add_constant(X_train)"
   ]
  },
  {
   "cell_type": "markdown",
   "metadata": {},
   "source": [
    "Now, train the model."
   ]
  },
  {
   "cell_type": "code",
   "execution_count": 9,
   "metadata": {},
   "outputs": [
    {
     "name": "stdout",
     "output_type": "stream",
     "text": [
      "                            OLS Regression Results                            \n",
      "==============================================================================\n",
      "Dep. Variable:                charges   R-squared:                       0.747\n",
      "Model:                            OLS   Adj. R-squared:                  0.746\n",
      "Method:                 Least Squares   F-statistic:                     629.9\n",
      "Date:                Tue, 07 Jan 2020   Prob (F-statistic):          6.39e-315\n",
      "Time:                        21:20:39   Log-Likelihood:                -10848.\n",
      "No. Observations:                1070   AIC:                         2.171e+04\n",
      "Df Residuals:                    1064   BIC:                         2.174e+04\n",
      "Df Model:                           5                                         \n",
      "Covariance Type:            nonrobust                                         \n",
      "==============================================================================\n",
      "                 coef    std err          t      P>|t|      [0.025      0.975]\n",
      "------------------------------------------------------------------------------\n",
      "const      -1.206e+04   1080.784    -11.161      0.000   -1.42e+04   -9941.509\n",
      "is_male     -441.2898    376.955     -1.171      0.242   -1180.949     298.370\n",
      "is_smoker   2.381e+04    465.272     51.172      0.000    2.29e+04    2.47e+04\n",
      "age          253.4693     13.432     18.871      0.000     227.114     279.825\n",
      "bmi          333.2182     31.136     10.702      0.000     272.123     394.313\n",
      "children     498.5781    157.344      3.169      0.002     189.839     807.318\n",
      "==============================================================================\n",
      "Omnibus:                      255.026   Durbin-Watson:                   1.933\n",
      "Prob(Omnibus):                  0.000   Jarque-Bera (JB):              629.600\n",
      "Skew:                           1.259   Prob(JB):                    1.92e-137\n",
      "Kurtosis:                       5.789   Cond. No.                         296.\n",
      "==============================================================================\n",
      "\n",
      "Warnings:\n",
      "[1] Standard Errors assume that the covariance matrix of the errors is correctly specified.\n"
     ]
    }
   ],
   "source": [
    "# Fit an OLS model using statsmodels\n",
    "results = sm.OLS(y_train, X_train).fit()\n",
    "\n",
    "# Print the summary results\n",
    "print(results.summary())"
   ]
  },
  {
   "cell_type": "markdown",
   "metadata": {},
   "source": [
    "As you can see from the summary table, each feature is a coefficient and each of them either increases or decreases your overall medical costs.  The information given will be used as an equation for predictions.\n",
    "\n",
    "Now, get the predictions in `statsmodels`, the predictions will be made by calling the `predict()` function."
   ]
  },
  {
   "cell_type": "code",
   "execution_count": 11,
   "metadata": {},
   "outputs": [
    {
     "data": {
      "image/png": "[encoded data removed]",
      "text/plain": [
       "<Figure size 432x288 with 1 Axes>"
      ]
     },
     "metadata": {
      "needs_background": "light"
     },
     "output_type": "display_data"
    },
    {
     "name": "stdout",
     "output_type": "stream",
     "text": [
      "Mean absolute erro of the prediction is: 4158.061597698167\n",
      "Mean squared error of the prediction is: 33814649.37955361\n",
      "Root mean squared error of the prediction is: 5815.036489958908\n",
      "Mean absolute percentage error of the prediction is: 42.385151969060544\n"
     ]
    }
   ],
   "source": [
    "# Add a constant to the model \n",
    "X_test = sm.add_constant(X_test)\n",
    "\n",
    "# Make predictions on this run\n",
    "y_preds = results.predict(X_test)\n",
    "\n",
    "plt.scatter(y_test, y_preds)\n",
    "plt.plot(y_test, y_test, color=\"red\")\n",
    "plt.xlabel(\"True Values\")\n",
    "plt.ylabel(\"Predicted Values\")\n",
    "plt.title(\"Charges: True and Predicted Values\")\n",
    "plt.show()\n",
    "\n",
    "print(f\"Mean absolute erro of the prediction is: {mean_absolute_error(y_test, y_preds)}\")\n",
    "print(f\"Mean squared error of the prediction is: {mse(y_test, y_preds)}\")\n",
    "print(f\"Root mean squared error of the prediction is: {rmse(y_test, y_preds)}\")\n",
    "print(f\"Mean absolute percentage error of the prediction is: {np.mean(np.abs((y_test - y_preds) / y_test))*100}\")"
   ]
  },
  {
   "cell_type": "markdown",
   "metadata": {},
   "source": [
    "In the graph, you see that the model predicts the lower values of the target better than the higher values.  By using visualizations like this, you can more intuitively understand the performance of the models.  But you need to find more accurate ways of assessing your models.  Above you also printed out some metrics to evaluate how good the predictions are.  Below is a discussion of the metrics\n",
    "\n",
    "#### Evaluation metrics\n",
    "When you were evaluating the training performance of a linear regression model, you use metrics like R-squared and adjusted R-squared.  R-squared measures the ration of variance in the target variable that is explained by the model.  However, when you are making predictions you care more about how close your predictions are to the target rather than the variance in the target variable.  This means that you usually use metrics other than R-squared to gauge how good the predictions are.  Here, are four of the most common ones.\n",
    "\n",
    "**Mean Absolute Error (MAE)** is defined as the average of the absolute values of the errors between the true values and the predicted values.\n",
    "$$ \\frac{1}{n} \\sum_{i=1}^{n}\\lvert y_i-\\hat{y}_i\\rvert $$ \n",
    "\n",
    "**Mean Squared Error (MSE)** is defined as the average of the squared errors between the true values and the predicted values: \n",
    "$$ \\frac{1}{n} \\sum_{i=1}^{n} (y_i-\\hat{y}_i)^2  $$\n",
    "\n",
    "**Root Mean Squared Error (RMSE)** is defined as the square root of the MSE: \n",
    "$$ \\sqrt{\\frac{1}{n} \\sum_{i=1}^{n} (y_i-\\hat{y}_i)^2}  $$\n",
    "\n",
    "**Mean Absolute Percentage Error (MAPE)** is defined as the average of the ration of the absolute values of the errors to the true values: \n",
    "$$ \\frac{1}{n} \\sum_{i=1}^{n}\\frac{\\lvert y_i-\\hat{y}_i\\rvert}{y_i}  $$\n",
    "\n",
    "Although these are different metrics, they are essentially using the difference between what you know to be correct medical cost for a person and predicted medical cost from the model.  These errors are then summed up for an overall error score.\n",
    "\n",
    "You can use any one of the above metrics.  But there are some important points to note about them.  \n",
    "- Lower values are desirable for all four metrics.  The lower the value, the better the performance of the model.\n",
    "- MAE, MSE, and RMSE are in the unit of the target variable but MAPE is unitless, So MAE, MSE and RMSE are only useful if you compare different models that have the same target variable.  \n",
    "- MSE and RMSE penalize large errors more than the MAE and MAPE do.  This means that MSR and RMSE are more useful when high error values are undesirable.\n",
    "- For target values very close to zero, MAPE may provide a problematic picture of the performance as the ration may go to very high values, and this may distort the average.  It can also give division by zero errors if some values of the target are zero!\n",
    "\n",
    "#### Improving on the Previous Model \n",
    "\n",
    "To compare with the model above, use another model where the interaction of BMI and is_smoker is included.\n"
   ]
  },
  {
   "cell_type": "code",
   "execution_count": 12,
   "metadata": {},
   "outputs": [
    {
     "name": "stdout",
     "output_type": "stream",
     "text": [
      "The number of observations in the training set is 1070\n",
      "The number of observations in the test set is 268\n",
      "                            OLS Regression Results                            \n",
      "==============================================================================\n",
      "Dep. Variable:                charges   R-squared:                       0.832\n",
      "Model:                            OLS   Adj. R-squared:                  0.831\n",
      "Method:                 Least Squares   F-statistic:                     1052.\n",
      "Date:                Tue, 07 Jan 2020   Prob (F-statistic):               0.00\n",
      "Time:                        22:11:45   Log-Likelihood:                -10631.\n",
      "No. Observations:                1070   AIC:                         2.127e+04\n",
      "Df Residuals:                    1064   BIC:                         2.130e+04\n",
      "Df Model:                           5                                         \n",
      "Covariance Type:            nonrobust                                         \n",
      "=================================================================================\n",
      "                    coef    std err          t      P>|t|      [0.025      0.975]\n",
      "---------------------------------------------------------------------------------\n",
      "const         -2239.3091    964.274     -2.322      0.020   -4131.403    -347.215\n",
      "is_male        -572.3843    307.661     -1.860      0.063   -1176.076      31.308\n",
      "is_smoker     -2.006e+04   1913.940    -10.480      0.000   -2.38e+04   -1.63e+04\n",
      "age             261.7441     10.961     23.879      0.000     240.236     283.253\n",
      "bmi              21.0913     28.734      0.734      0.463     -35.291      77.473\n",
      "bmi_is_smoker  1430.9163     61.151     23.400      0.000    1310.927    1550.906\n",
      "==============================================================================\n",
      "Omnibus:                      574.431   Durbin-Watson:                   2.048\n",
      "Prob(Omnibus):                  0.000   Jarque-Bera (JB):             3388.987\n",
      "Skew:                           2.512   Prob(JB):                         0.00\n",
      "Kurtosis:                      10.126   Cond. No.                         663.\n",
      "==============================================================================\n",
      "\n",
      "Warnings:\n",
      "[1] Standard Errors assume that the covariance matrix of the errors is correctly specified.\n"
     ]
    }
   ],
   "source": [
    "# Y is the target variable\n",
    "Y = insurance_df[\"charges\"]\n",
    "\n",
    "# This is the interaction between bmi and is_smoker\n",
    "insurance_df[\"bmi_is_smoker\"] = insurance_df[\"bmi\"] * insurance_df[\"is_smoker\"]\n",
    "\n",
    "# X is the feature set\n",
    "X = insurance_df[[\"is_male\",\"is_smoker\",\"age\",\"bmi\",\"bmi_is_smoker\"]]\n",
    "\n",
    "X_train, X_test, y_train, y_test = train_test_split(X, Y, test_size = 0.2, random_state = 465)\n",
    "\n",
    "print(f\"The number of observations in the training set is {X_train.shape[0]}\")\n",
    "print(f\"The number of observations in the test set is {X_test.shape[0]}\")\n",
    "\n",
    "# Add a constant to the model\n",
    "X_train = sm.add_constant(X_train)\n",
    "\n",
    "# Fit an OLS model using statsmodels\n",
    "results = sm.OLS(y_train, X_train).fit()\n",
    "\n",
    "# Pring the summary results\n",
    "print(results.summary())"
   ]
  },
  {
   "cell_type": "markdown",
   "metadata": {},
   "source": [
    "This second model's R-square is 0.832 and higher than the previous model, where the R-squared is 0.745.  This means that the second model's goodness of fit is higher than the previous one.   Now, make predictions."
   ]
  },
  {
   "cell_type": "code",
   "execution_count": 13,
   "metadata": {},
   "outputs": [
    {
     "data": {
      "image/png": "[encoded data removed]",
      "text/plain": [
       "<Figure size 432x288 with 1 Axes>"
      ]
     },
     "metadata": {
      "needs_background": "light"
     },
     "output_type": "display_data"
    },
    {
     "name": "stdout",
     "output_type": "stream",
     "text": [
      "Mean absolute erro of the prediction is: 2749.4722864791793\n",
      "Mean squared error of the prediction is: 19957476.990353033\n",
      "Root mean squared error of the prediction is: 4467.379208255444\n",
      "Mean absolute percentage error of the prediction is: 29.23705206976454\n"
     ]
    }
   ],
   "source": [
    "# Add a constant to the model\n",
    "X_test = sm.add_constant(X_test)\n",
    "\n",
    "# Make predictions here\n",
    "y_preds = results.predict(X_test)\n",
    "\n",
    "plt.scatter(y_test, y_preds)\n",
    "plt.plot(y_test, y_test, color=\"red\")\n",
    "plt.xlabel(\"True Values\")\n",
    "plt.ylabel(\"Predicted Values\")\n",
    "plt.title(\"Charges: True and Predicted Values\")\n",
    "plt.show()\n",
    "\n",
    "print(f\"Mean absolute erro of the prediction is: {mean_absolute_error(y_test, y_preds)}\")\n",
    "print(f\"Mean squared error of the prediction is: {mse(y_test, y_preds)}\")\n",
    "print(f\"Root mean squared error of the prediction is: {rmse(y_test, y_preds)}\")\n",
    "print(f\"Mean absolute percentage error of the prediction is: {np.mean(np.abs((y_test - y_preds) / y_test))*100}\")"
   ]
  },
  {
   "cell_type": "markdown",
   "metadata": {},
   "source": [
    "The test set performance of the second model is better than the previous one with respect to all of the four metrics you use! Compared to the previous model, this second model seems to better predict high values of the target variable.  It also seems that the second model better predicts low values because the points are more tightly clustered around the red line."
   ]
  },
  {
   "cell_type": "markdown",
   "metadata": {},
   "source": [
    "### Assignment\n",
    "\n",
    "In this exercise, you'll predict house prices using your model. To complete this assignment, submit a link to a Jupyter notebook containing your solutions to the following tasks:\n",
    "\n",
    "* Load the **housing prices** data from Thinkful's database.\n",
    "* Split your data into train and test sets.\n",
    "* Estimate your model from the previous checkpoint in the train set. Assess the goodness of fit of your model.\n",
    "* Predict the house prices in the test set, and evaluate the performance of your model using the metrics we mentioned in this checkpoint.\n",
    "* Is the performance of your model satisfactory? Why?\n",
    "* Try to improve your model in terms of predictive performance by adding or removing some variables.\n",
    "\n",
    "Please submit a link your work notebook. This is not a graded checkpoint, but you should discuss your solutions with your mentor. Also, when you're done, compare your work to [this example solution](https://github.com/Thinkful-Ed/machine-learning-regression-problems/blob/master/notebooks/6.solution_making_predictions.ipynb)."
   ]
  },
  {
   "cell_type": "code",
   "execution_count": 14,
   "metadata": {},
   "outputs": [],
   "source": [
    "import warnings\n",
    "\n",
    "import matplotlib.pyplot as plt\n",
    "import numpy as np \n",
    "import pandas as pd \n",
    "import statsmodels.api as sm \n",
    "\n",
    "from sklearn.linear_model import LinearRegression \n",
    "from sklearn.model_selection import train_test_split \n",
    "from sklearn.metrics import mean_absolute_error \n",
    "from statsmodels.tools.eval_measures import mse, rmse \n",
    "from sqlalchemy import create_engine \n",
    "from sqlalchemy.engine.url import URL \n",
    "\n",
    "pd.options.display.float_format = \"{:3f}\".format\n",
    "warnings.filterwarnings(action=\"ignore\")\n",
    "\n",
    "kagle = dict(\n",
    "    drivername = \"postgresql\",\n",
    "    username = \"dsbc_student\",\n",
    "    password = \"7*.8G9QH21\",\n",
    "    host = \"142.93.121.174\",\n",
    "    port = \"5432\",\n",
    "    database = \"houseprices\"\n",
    ")"
   ]
  },
  {
   "cell_type": "code",
   "execution_count": 17,
   "metadata": {},
   "outputs": [
    {
     "name": "stdout",
     "output_type": "stream",
     "text": [
      "2020-01-08 08:02:50,034 INFO sqlalchemy.engine.base.Engine select version()\n",
      "2020-01-08 08:02:50,037 INFO sqlalchemy.engine.base.Engine {}\n",
      "2020-01-08 08:02:50,173 INFO sqlalchemy.engine.base.Engine select current_schema()\n",
      "2020-01-08 08:02:50,176 INFO sqlalchemy.engine.base.Engine {}\n",
      "2020-01-08 08:02:50,314 INFO sqlalchemy.engine.base.Engine SELECT CAST('test plain returns' AS VARCHAR(60)) AS anon_1\n",
      "2020-01-08 08:02:50,316 INFO sqlalchemy.engine.base.Engine {}\n",
      "2020-01-08 08:02:50,383 INFO sqlalchemy.engine.base.Engine SELECT CAST('test unicode returns' AS VARCHAR(60)) AS anon_1\n",
      "2020-01-08 08:02:50,386 INFO sqlalchemy.engine.base.Engine {}\n",
      "2020-01-08 08:02:50,463 INFO sqlalchemy.engine.base.Engine show standard_conforming_strings\n",
      "2020-01-08 08:02:50,466 INFO sqlalchemy.engine.base.Engine {}\n",
      "2020-01-08 08:02:50,570 INFO sqlalchemy.engine.base.Engine SELECT * FROM houseprices\n",
      "2020-01-08 08:02:50,573 INFO sqlalchemy.engine.base.Engine {}\n"
     ]
    }
   ],
   "source": [
    "# Load the data from the \"houseprices\" database\n",
    "engine=create_engine(URL(**kagle), echo=True)\n",
    "\n",
    "houses_raw=pd.read_sql_query(\"SELECT * FROM houseprices\", con=engine)\n",
    "\n",
    "engine.dispose()"
   ]
  },
  {
   "cell_type": "code",
   "execution_count": 18,
   "metadata": {},
   "outputs": [],
   "source": [
    "houses_working = houses_raw.copy()"
   ]
  },
  {
   "cell_type": "code",
   "execution_count": 19,
   "metadata": {},
   "outputs": [],
   "source": [
    "houses_df = houses_working[[\"neighborhood\",\"overallqual\",\"lotarea\",\n",
    "                            \"totalbsmtsf\",\"firstflrsf\",\"grlivarea\",\n",
    "                            \"totrmsabvgrd\",\"garagecars\",\"saleprice\"]]"
   ]
  },
  {
   "cell_type": "code",
   "execution_count": 20,
   "metadata": {},
   "outputs": [
    {
     "data": {
      "text/html": [
       "<div>\n",
       "<style scoped>\n",
       "    .dataframe tbody tr th:only-of-type {\n",
       "        vertical-align: middle;\n",
       "    }\n",
       "\n",
       "    .dataframe tbody tr th {\n",
       "        vertical-align: top;\n",
       "    }\n",
       "\n",
       "    .dataframe thead th {\n",
       "        text-align: right;\n",
       "    }\n",
       "</style>\n",
       "<table border=\"1\" class=\"dataframe\">\n",
       "  <thead>\n",
       "    <tr style=\"text-align: right;\">\n",
       "      <th></th>\n",
       "      <th>overallqual</th>\n",
       "      <th>lotarea</th>\n",
       "      <th>totalbsmtsf</th>\n",
       "      <th>firstflrsf</th>\n",
       "      <th>grlivarea</th>\n",
       "      <th>totrmsabvgrd</th>\n",
       "      <th>garagecars</th>\n",
       "      <th>saleprice</th>\n",
       "    </tr>\n",
       "  </thead>\n",
       "  <tbody>\n",
       "    <tr>\n",
       "      <th>count</th>\n",
       "      <td>1460.000000</td>\n",
       "      <td>1460.000000</td>\n",
       "      <td>1460.000000</td>\n",
       "      <td>1460.000000</td>\n",
       "      <td>1460.000000</td>\n",
       "      <td>1460.000000</td>\n",
       "      <td>1460.000000</td>\n",
       "      <td>1460.000000</td>\n",
       "    </tr>\n",
       "    <tr>\n",
       "      <th>mean</th>\n",
       "      <td>6.099315</td>\n",
       "      <td>10516.828082</td>\n",
       "      <td>1057.429452</td>\n",
       "      <td>1162.626712</td>\n",
       "      <td>1515.463699</td>\n",
       "      <td>6.517808</td>\n",
       "      <td>1.767123</td>\n",
       "      <td>180921.195890</td>\n",
       "    </tr>\n",
       "    <tr>\n",
       "      <th>std</th>\n",
       "      <td>1.382997</td>\n",
       "      <td>9981.264932</td>\n",
       "      <td>438.705324</td>\n",
       "      <td>386.587738</td>\n",
       "      <td>525.480383</td>\n",
       "      <td>1.625393</td>\n",
       "      <td>0.747315</td>\n",
       "      <td>79442.502883</td>\n",
       "    </tr>\n",
       "    <tr>\n",
       "      <th>min</th>\n",
       "      <td>1.000000</td>\n",
       "      <td>1300.000000</td>\n",
       "      <td>0.000000</td>\n",
       "      <td>334.000000</td>\n",
       "      <td>334.000000</td>\n",
       "      <td>2.000000</td>\n",
       "      <td>0.000000</td>\n",
       "      <td>34900.000000</td>\n",
       "    </tr>\n",
       "    <tr>\n",
       "      <th>25%</th>\n",
       "      <td>5.000000</td>\n",
       "      <td>7553.500000</td>\n",
       "      <td>795.750000</td>\n",
       "      <td>882.000000</td>\n",
       "      <td>1129.500000</td>\n",
       "      <td>5.000000</td>\n",
       "      <td>1.000000</td>\n",
       "      <td>129975.000000</td>\n",
       "    </tr>\n",
       "    <tr>\n",
       "      <th>50%</th>\n",
       "      <td>6.000000</td>\n",
       "      <td>9478.500000</td>\n",
       "      <td>991.500000</td>\n",
       "      <td>1087.000000</td>\n",
       "      <td>1464.000000</td>\n",
       "      <td>6.000000</td>\n",
       "      <td>2.000000</td>\n",
       "      <td>163000.000000</td>\n",
       "    </tr>\n",
       "    <tr>\n",
       "      <th>75%</th>\n",
       "      <td>7.000000</td>\n",
       "      <td>11601.500000</td>\n",
       "      <td>1298.250000</td>\n",
       "      <td>1391.250000</td>\n",
       "      <td>1776.750000</td>\n",
       "      <td>7.000000</td>\n",
       "      <td>2.000000</td>\n",
       "      <td>214000.000000</td>\n",
       "    </tr>\n",
       "    <tr>\n",
       "      <th>max</th>\n",
       "      <td>10.000000</td>\n",
       "      <td>215245.000000</td>\n",
       "      <td>6110.000000</td>\n",
       "      <td>4692.000000</td>\n",
       "      <td>5642.000000</td>\n",
       "      <td>14.000000</td>\n",
       "      <td>4.000000</td>\n",
       "      <td>755000.000000</td>\n",
       "    </tr>\n",
       "  </tbody>\n",
       "</table>\n",
       "</div>"
      ],
      "text/plain": [
       "       overallqual       lotarea  totalbsmtsf  firstflrsf   grlivarea  \\\n",
       "count  1460.000000   1460.000000  1460.000000 1460.000000 1460.000000   \n",
       "mean      6.099315  10516.828082  1057.429452 1162.626712 1515.463699   \n",
       "std       1.382997   9981.264932   438.705324  386.587738  525.480383   \n",
       "min       1.000000   1300.000000     0.000000  334.000000  334.000000   \n",
       "25%       5.000000   7553.500000   795.750000  882.000000 1129.500000   \n",
       "50%       6.000000   9478.500000   991.500000 1087.000000 1464.000000   \n",
       "75%       7.000000  11601.500000  1298.250000 1391.250000 1776.750000   \n",
       "max      10.000000 215245.000000  6110.000000 4692.000000 5642.000000   \n",
       "\n",
       "       totrmsabvgrd  garagecars     saleprice  \n",
       "count   1460.000000 1460.000000   1460.000000  \n",
       "mean       6.517808    1.767123 180921.195890  \n",
       "std        1.625393    0.747315  79442.502883  \n",
       "min        2.000000    0.000000  34900.000000  \n",
       "25%        5.000000    1.000000 129975.000000  \n",
       "50%        6.000000    2.000000 163000.000000  \n",
       "75%        7.000000    2.000000 214000.000000  \n",
       "max       14.000000    4.000000 755000.000000  "
      ]
     },
     "execution_count": 20,
     "metadata": {},
     "output_type": "execute_result"
    }
   ],
   "source": [
    "houses_df.describe()"
   ]
  },
  {
   "cell_type": "code",
   "execution_count": 21,
   "metadata": {},
   "outputs": [
    {
     "data": {
      "text/html": [
       "<div>\n",
       "<style scoped>\n",
       "    .dataframe tbody tr th:only-of-type {\n",
       "        vertical-align: middle;\n",
       "    }\n",
       "\n",
       "    .dataframe tbody tr th {\n",
       "        vertical-align: top;\n",
       "    }\n",
       "\n",
       "    .dataframe thead th {\n",
       "        text-align: right;\n",
       "    }\n",
       "</style>\n",
       "<table border=\"1\" class=\"dataframe\">\n",
       "  <thead>\n",
       "    <tr style=\"text-align: right;\">\n",
       "      <th></th>\n",
       "      <th>neighborhood</th>\n",
       "    </tr>\n",
       "  </thead>\n",
       "  <tbody>\n",
       "    <tr>\n",
       "      <th>count</th>\n",
       "      <td>1460</td>\n",
       "    </tr>\n",
       "    <tr>\n",
       "      <th>unique</th>\n",
       "      <td>25</td>\n",
       "    </tr>\n",
       "    <tr>\n",
       "      <th>top</th>\n",
       "      <td>NAmes</td>\n",
       "    </tr>\n",
       "    <tr>\n",
       "      <th>freq</th>\n",
       "      <td>225</td>\n",
       "    </tr>\n",
       "  </tbody>\n",
       "</table>\n",
       "</div>"
      ],
      "text/plain": [
       "       neighborhood\n",
       "count          1460\n",
       "unique           25\n",
       "top           NAmes\n",
       "freq            225"
      ]
     },
     "execution_count": 21,
     "metadata": {},
     "output_type": "execute_result"
    }
   ],
   "source": [
    "houses_df.describe(include=[\"O\"])"
   ]
  },
  {
   "cell_type": "code",
   "execution_count": 22,
   "metadata": {},
   "outputs": [],
   "source": [
    "# Create a set of dummies for the neighborhood variable, prefix the dummies with \"neighborhood\"\n",
    "houses_df = pd.concat([houses_df, pd.get_dummies(houses_df[\"neighborhood\"], prefix=\"neighborhood\",drop_first=True)], axis=1)\n",
    "\n",
    "# Create a set of dumies for the overallqual variable, previs the dummies with \"overallqual\"\n",
    "houses_df = pd.concat([houses_df, pd.get_dummies(houses_df[\"overallqual\"], prefix=\"overallqual\",drop_first=True)], axis=1)"
   ]
  },
  {
   "cell_type": "code",
   "execution_count": 23,
   "metadata": {},
   "outputs": [
    {
     "data": {
      "text/plain": [
       "'saleprice'"
      ]
     },
     "execution_count": 23,
     "metadata": {},
     "output_type": "execute_result"
    }
   ],
   "source": [
    "# Get a list of column names to be used for feature consideration\n",
    "feature_names = houses_df.iloc[:,2:].columns.to_list()\n",
    "\n",
    "# Pop saleprice from the list of feature_names\n",
    "feature_names.pop(6)"
   ]
  },
  {
   "cell_type": "code",
   "execution_count": 24,
   "metadata": {},
   "outputs": [],
   "source": [
    "# Y is the target variable\n",
    "Y = houses_df[\"saleprice\"]\n",
    "\n",
    "# X is the feature set\n",
    "X = houses_df[feature_names]"
   ]
  },
  {
   "cell_type": "code",
   "execution_count": 27,
   "metadata": {},
   "outputs": [
    {
     "name": "stdout",
     "output_type": "stream",
     "text": [
      "The number of observations in the training set is 1168\n",
      "The number of observations in the test set is 292 \n",
      "\n",
      "                            OLS Regression Results                            \n",
      "==============================================================================\n",
      "Dep. Variable:              saleprice   R-squared:                       0.837\n",
      "Model:                            OLS   Adj. R-squared:                  0.831\n",
      "Method:                 Least Squares   F-statistic:                     148.5\n",
      "Date:                Wed, 08 Jan 2020   Prob (F-statistic):               0.00\n",
      "Time:                        08:19:26   Log-Likelihood:                -13766.\n",
      "No. Observations:                1168   AIC:                         2.761e+04\n",
      "Df Residuals:                    1128   BIC:                         2.781e+04\n",
      "Df Model:                          39                                         \n",
      "Covariance Type:            nonrobust                                         \n",
      "========================================================================================\n",
      "                           coef    std err          t      P>|t|      [0.025      0.975]\n",
      "----------------------------------------------------------------------------------------\n",
      "const                 2.978e+04   3.41e+04      0.874      0.382   -3.71e+04    9.67e+04\n",
      "lotarea                  0.5624      0.102      5.536      0.000       0.363       0.762\n",
      "totalbsmtsf             11.4549      4.005      2.860      0.004       3.597      19.313\n",
      "firstflrsf               3.9178      4.903      0.799      0.424      -5.702      13.538\n",
      "grlivarea               32.9110      4.317      7.623      0.000      24.440      41.382\n",
      "totrmsabvgrd          1861.2978   1128.155      1.650      0.099    -352.221    4074.816\n",
      "garagecars            1.341e+04   1802.387      7.439      0.000    9872.153    1.69e+04\n",
      "neighborhood_Blueste -1.582e+04   2.48e+04     -0.638      0.524   -6.45e+04    3.29e+04\n",
      "neighborhood_BrDale  -2.662e+04   1.29e+04     -2.071      0.039   -5.18e+04   -1404.135\n",
      "neighborhood_BrkSide -9319.6475   1.05e+04     -0.890      0.373   -2.99e+04    1.12e+04\n",
      "neighborhood_ClearCr  1.246e+04   1.16e+04      1.075      0.283   -1.03e+04    3.52e+04\n",
      "neighborhood_CollgCr  1.004e+04   9371.468      1.071      0.284   -8350.492    2.84e+04\n",
      "neighborhood_Crawfor  2.374e+04   1.04e+04      2.287      0.022    3377.091    4.41e+04\n",
      "neighborhood_Edwards -1.995e+04   1.01e+04     -1.980      0.048   -3.97e+04    -184.603\n",
      "neighborhood_Gilbert  6231.6252   9946.364      0.627      0.531   -1.33e+04    2.57e+04\n",
      "neighborhood_IDOTRR  -2.557e+04   1.15e+04     -2.223      0.026   -4.81e+04   -3000.090\n",
      "neighborhood_MeadowV -1.302e+04   1.29e+04     -1.013      0.311   -3.82e+04    1.22e+04\n",
      "neighborhood_Mitchel -3882.0244   1.06e+04     -0.368      0.713   -2.46e+04    1.68e+04\n",
      "neighborhood_NAmes   -4209.4394   9496.824     -0.443      0.658   -2.28e+04    1.44e+04\n",
      "neighborhood_NPkVill -1.223e+04   1.61e+04     -0.758      0.449   -4.39e+04    1.94e+04\n",
      "neighborhood_NWAmes  -1508.6085   9899.409     -0.152      0.879   -2.09e+04    1.79e+04\n",
      "neighborhood_NoRidge   6.42e+04   1.09e+04      5.890      0.000    4.28e+04    8.56e+04\n",
      "neighborhood_NridgHt  4.043e+04   9992.398      4.046      0.000    2.08e+04       6e+04\n",
      "neighborhood_OldTown -2.703e+04   9894.406     -2.732      0.006   -4.64e+04   -7617.611\n",
      "neighborhood_SWISU   -1.966e+04   1.18e+04     -1.663      0.097   -4.29e+04    3536.111\n",
      "neighborhood_Sawyer  -6970.4874   1.02e+04     -0.685      0.493   -2.69e+04     1.3e+04\n",
      "neighborhood_SawyerW  2282.6412   1.02e+04      0.224      0.823   -1.77e+04    2.23e+04\n",
      "neighborhood_Somerst   1.76e+04   9660.769      1.822      0.069   -1357.878    3.66e+04\n",
      "neighborhood_StoneBr  6.438e+04    1.2e+04      5.376      0.000    4.09e+04    8.79e+04\n",
      "neighborhood_Timber   1.371e+04   1.07e+04      1.276      0.202   -7365.366    3.48e+04\n",
      "neighborhood_Veenker  2.743e+04   1.46e+04      1.879      0.060   -1208.343    5.61e+04\n",
      "overallqual_2          -1.8e+04   4.66e+04     -0.386      0.699   -1.09e+05    7.34e+04\n",
      "overallqual_3        -3344.0689   3.38e+04     -0.099      0.921   -6.96e+04    6.29e+04\n",
      "overallqual_4         1.149e+04    3.3e+04      0.348      0.728   -5.33e+04    7.63e+04\n",
      "overallqual_5         2.048e+04   3.29e+04      0.622      0.534   -4.42e+04    8.51e+04\n",
      "overallqual_6         2.992e+04    3.3e+04      0.907      0.365   -3.48e+04    9.47e+04\n",
      "overallqual_7         4.624e+04   3.32e+04      1.395      0.163   -1.88e+04    1.11e+05\n",
      "overallqual_8         8.121e+04   3.34e+04      2.429      0.015    1.56e+04    1.47e+05\n",
      "overallqual_9         1.441e+05   3.41e+04      4.230      0.000    7.72e+04    2.11e+05\n",
      "overallqual_10        1.601e+05   3.52e+04      4.553      0.000    9.11e+04    2.29e+05\n",
      "==============================================================================\n",
      "Omnibus:                      459.402   Durbin-Watson:                   1.979\n",
      "Prob(Omnibus):                  0.000   Jarque-Bera (JB):            31075.015\n",
      "Skew:                          -0.946   Prob(JB):                         0.00\n",
      "Kurtosis:                      28.198   Cond. No.                     1.69e+06\n",
      "==============================================================================\n",
      "\n",
      "Warnings:\n",
      "[1] Standard Errors assume that the covariance matrix of the errors is correctly specified.\n",
      "[2] The condition number is large, 1.69e+06. This might indicate that there are\n",
      "strong multicollinearity or other numerical problems.\n"
     ]
    }
   ],
   "source": [
    "X_train, X_test, y_train, y_test = train_test_split(X, Y, test_size=0.2, random_state=465)\n",
    "\n",
    "print(f\"The number of observations in the training set is {X_train.shape[0]}\")\n",
    "print(f\"The number of observations in the test set is {X_test.shape[0]} \\n\")\n",
    "\n",
    "# Add a constant to the model\n",
    "X_train = sm.add_constant(X_train)\n",
    "\n",
    "# Fit an OLS model using statsmodels\n",
    "results = sm.OLS(y_train, X_train).fit()\n",
    "\n",
    "# Print the summary results\n",
    "print(results.summary())"
   ]
  },
  {
   "cell_type": "code",
   "execution_count": 28,
   "metadata": {},
   "outputs": [
    {
     "data": {
      "image/png": "[encoded data removed]",
      "text/plain": [
       "<Figure size 432x288 with 1 Axes>"
      ]
     },
     "metadata": {
      "needs_background": "light"
     },
     "output_type": "display_data"
    },
    {
     "name": "stdout",
     "output_type": "stream",
     "text": [
      "Mean Absolute Error (MAE) of the prediction is: 23142.844991837042\n",
      "Mean Squared Error (MSE) of the predictions is: 1287150589.2922657\n",
      "Root Mean Squared Error (RMSE) of the prediction is: 35876.880986120654\n",
      "Mean Absolute Percentage Error (MAPE) of the prediction is: 13.09168530892422\n"
     ]
    }
   ],
   "source": [
    "# Add a constant to the model \n",
    "X_test = sm.add_constant(X_test)\n",
    "\n",
    "# Make initial predictions\n",
    "y_preds = results.predict(X_test)\n",
    "\n",
    "plt.scatter(y_test, y_preds)\n",
    "plt.plot(y_test, y_test, color=\"red\")\n",
    "plt.xlabel(\"True Values\")\n",
    "plt.ylabel(\"Predicted Values\")\n",
    "plt.title(\"Saleprice: True and Predicted Values\")\n",
    "plt.show()\n",
    "\n",
    "print(f\"Mean Absolute Error (MAE) of the prediction is: {mean_absolute_error(y_test, y_preds)}\")\n",
    "print(f\"Mean Squared Error (MSE) of the predictions is: {mse(y_test, y_preds)}\")\n",
    "print(f\"Root Mean Squared Error (RMSE) of the prediction is: {rmse(y_test, y_preds)}\")\n",
    "print(f\"Mean Absolute Percentage Error (MAPE) of the prediction is: {np.mean(np.abs((y_test - y_preds) / y_test)) * 100}\")"
   ]
  },
  {
   "cell_type": "markdown",
   "metadata": {},
   "source": [
    "Looking at the predictions visualization, the model does a pretty good job of predicting saleprice though it's effectiveness diminishes as the price increases.  The model tends to underestimate the saleprice. What do the metrics say? The MAE and RMSE are both signifigantly lower in relative units.  The MSE on the on the other hand is substantially higher.  I believe this means that the errors that are measured by this metric are substantially greater in this model.\n",
    "\n",
    "#### _In order to improve the goodness of fit of your model, try different model specifications by adding or removing some variables._"
   ]
  },
  {
   "cell_type": "code",
   "execution_count": 122,
   "metadata": {},
   "outputs": [],
   "source": [
    "houses_winsorized = houses_working[[\"neighborhood\",\"overallqual\",\"lotarea\",\n",
    "                                    \"totalbsmtsf\",\"firstflrsf\",\"grlivarea\",\n",
    "                                    \"totrmsabvgrd\",\"garagecars\",\"garagearea\",\"saleprice\"]]\n",
    "\n",
    "# Winsorized values were derrived during EDA\n",
    "winsorize_vals = dict(\n",
    "    lotarea=(0.10,0.05),\n",
    "    totalbsmtsf=(0.10,0.05),\n",
    "    firstflrsf=(0.0,0.1),\n",
    "    grlivarea=(0.0,0.1),\n",
    "    totrmsabvgrd=(0.0,0.1),\n",
    "    garagecars=(0.0,0.1),\n",
    "    garagearea=(0.0,0.1),\n",
    "    saleprice=(0.0,0.1)\n",
    ")\n",
    "\n",
    "# Add a column for each of the winsorized values\n",
    "for i, (k,v) in enumerate(winsorize_vals.items()):\n",
    "    houses_winsorized[f\"{k}_winsorized\"] = winsorize(houses_winsorized[k], v)"
   ]
  },
  {
   "cell_type": "code",
   "execution_count": 123,
   "metadata": {},
   "outputs": [],
   "source": [
    "# Create a set of dummies for the neighborhood variable, prefix the dummies with \"neighborhood\"\n",
    "houses_winsorized = pd.concat([houses_winsorized, pd.get_dummies(houses_winsorized[\"neighborhood\"], prefix=\"neighborhood\",drop_first=True)], axis=1)\n",
    "\n",
    "# Create a set of dumies for the overallqual variable, previs the dummies with \"overallqual\"\n",
    "houses_winsorized = pd.concat([houses_winsorized, pd.get_dummies(houses_winsorized[\"overallqual\"], prefix=\"overallqual\",drop_first=True)], axis=1)"
   ]
  },
  {
   "cell_type": "code",
   "execution_count": 124,
   "metadata": {},
   "outputs": [],
   "source": [
    "# Add an interaction between garagecars and garagearea\n",
    "houses_winsorized[\"garagecars_garagearea\"] = houses_winsorized[\"garagecars\"] * houses_winsorized[\"garagearea\"]\n",
    "\n",
    "# Get a list of column names to be used for feature consideration\n",
    "feature_names = houses_winsorized.iloc[:,2:].columns.to_list()\n",
    "\n",
    "# Pop saleprice from the list of feature_names\n",
    "feature_names.pop(15)\n",
    "\n",
    "# Get the final list of feature columns for the model\n",
    "feature_names = feature_names[8:]"
   ]
  },
  {
   "cell_type": "code",
   "execution_count": 125,
   "metadata": {},
   "outputs": [
    {
     "name": "stdout",
     "output_type": "stream",
     "text": [
      "The number of observations in the training set is 1168, 41\n",
      "The number of observations in the test set is 292, 41 \n",
      "\n",
      "                             OLS Regression Results                             \n",
      "================================================================================\n",
      "Dep. Variable:     saleprice_winsorized   R-squared:                       0.872\n",
      "Model:                              OLS   Adj. R-squared:                  0.868\n",
      "Method:                   Least Squares   F-statistic:                     187.4\n",
      "Date:                  Wed, 08 Jan 2020   Prob (F-statistic):               0.00\n",
      "Time:                          10:29:24   Log-Likelihood:                -13266.\n",
      "No. Observations:                  1168   AIC:                         2.662e+04\n",
      "Df Residuals:                      1126   BIC:                         2.683e+04\n",
      "Df Model:                            41                                         \n",
      "Covariance Type:              nonrobust                                         \n",
      "===========================================================================================\n",
      "                              coef    std err          t      P>|t|      [0.025      0.975]\n",
      "-------------------------------------------------------------------------------------------\n",
      "const                    1.721e+04   2.23e+04      0.771      0.441   -2.66e+04     6.1e+04\n",
      "lotarea_winsorized          1.6668      0.255      6.538      0.000       1.167       2.167\n",
      "totalbsmtsf_winsorized     25.8255      4.013      6.436      0.000      17.952      33.699\n",
      "firstflrsf_winsorized      -2.0579      4.331     -0.475      0.635     -10.556       6.441\n",
      "grlivarea_winsorized       41.8920      3.417     12.260      0.000      35.188      48.596\n",
      "totrmsabvgrd_winsorized  -969.9498    836.644     -1.159      0.247   -2611.507     671.607\n",
      "garagecars_winsorized    1496.6425   2508.834      0.597      0.551   -3425.872    6419.157\n",
      "garagearea_winsorized      28.5379      8.986      3.176      0.002      10.906      46.170\n",
      "neighborhood_Blueste    -1.825e+04   1.62e+04     -1.124      0.261   -5.01e+04    1.36e+04\n",
      "neighborhood_BrDale     -3.049e+04   8504.859     -3.585      0.000   -4.72e+04   -1.38e+04\n",
      "neighborhood_BrkSide    -1.406e+04   6944.595     -2.025      0.043   -2.77e+04    -436.491\n",
      "neighborhood_ClearCr     7179.4645   7761.888      0.925      0.355   -8049.926    2.24e+04\n",
      "neighborhood_CollgCr      983.6095   6328.618      0.155      0.877   -1.14e+04    1.34e+04\n",
      "neighborhood_Crawfor     1.309e+04   6974.636      1.876      0.061    -598.326    2.68e+04\n",
      "neighborhood_Edwards    -2.002e+04   6749.927     -2.967      0.003   -3.33e+04   -6779.926\n",
      "neighborhood_Gilbert     1041.7785   6707.918      0.155      0.877   -1.21e+04    1.42e+04\n",
      "neighborhood_IDOTRR      -3.25e+04   7712.169     -4.214      0.000   -4.76e+04   -1.74e+04\n",
      "neighborhood_MeadowV    -1.815e+04   8481.509     -2.140      0.033   -3.48e+04   -1512.680\n",
      "neighborhood_Mitchel    -1.241e+04   7099.603     -1.748      0.081   -2.63e+04    1518.138\n",
      "neighborhood_NAmes      -1.244e+04   6433.797     -1.933      0.053   -2.51e+04     185.303\n",
      "neighborhood_NPkVill    -1.273e+04   1.06e+04     -1.206      0.228   -3.34e+04    7984.185\n",
      "neighborhood_NWAmes     -1.002e+04   6704.176     -1.494      0.135   -2.32e+04    3135.570\n",
      "neighborhood_NoRidge      1.84e+04   7230.181      2.545      0.011    4215.924    3.26e+04\n",
      "neighborhood_NridgHt     1.547e+04   6687.771      2.314      0.021    2350.793    2.86e+04\n",
      "neighborhood_OldTown    -2.982e+04   6587.168     -4.528      0.000   -4.27e+04   -1.69e+04\n",
      "neighborhood_SWISU      -2.222e+04   7802.435     -2.848      0.004   -3.75e+04   -6914.864\n",
      "neighborhood_Sawyer     -1.389e+04   6866.871     -2.022      0.043   -2.74e+04    -412.656\n",
      "neighborhood_SawyerW    -5824.2624   6829.630     -0.853      0.394   -1.92e+04    7575.970\n",
      "neighborhood_Somerst     9626.2403   6458.718      1.490      0.136   -3046.236    2.23e+04\n",
      "neighborhood_StoneBr     1.337e+04   7887.211      1.695      0.090   -2107.693    2.88e+04\n",
      "neighborhood_Timber      6040.1906   7143.528      0.846      0.398   -7975.932    2.01e+04\n",
      "neighborhood_Veenker     1.314e+04   9710.594      1.353      0.176   -5915.077    3.22e+04\n",
      "overallqual_2           -6499.1498   3.04e+04     -0.214      0.831   -6.62e+04    5.32e+04\n",
      "overallqual_3            8035.5359   2.21e+04      0.364      0.716   -3.53e+04    5.14e+04\n",
      "overallqual_4              2.2e+04   2.16e+04      1.019      0.309   -2.04e+04    6.44e+04\n",
      "overallqual_5            3.235e+04   2.16e+04      1.500      0.134   -9952.468    7.47e+04\n",
      "overallqual_6            4.467e+04   2.16e+04      2.067      0.039    2272.388    8.71e+04\n",
      "overallqual_7             6.25e+04   2.17e+04      2.880      0.004    1.99e+04    1.05e+05\n",
      "overallqual_8             8.46e+04   2.18e+04      3.875      0.000    4.18e+04    1.27e+05\n",
      "overallqual_9            8.847e+04   2.22e+04      3.984      0.000    4.49e+04    1.32e+05\n",
      "overallqual_10           6.747e+04   2.27e+04      2.978      0.003     2.3e+04    1.12e+05\n",
      "garagecars_garagearea       0.3726      2.485      0.150      0.881      -4.503       5.248\n",
      "==============================================================================\n",
      "Omnibus:                      109.061   Durbin-Watson:                   2.013\n",
      "Prob(Omnibus):                  0.000   Jarque-Bera (JB):              338.963\n",
      "Skew:                          -0.451   Prob(JB):                     2.48e-74\n",
      "Kurtosis:                       5.480   Cond. No.                     1.18e+06\n",
      "==============================================================================\n",
      "\n",
      "Warnings:\n",
      "[1] Standard Errors assume that the covariance matrix of the errors is correctly specified.\n",
      "[2] The condition number is large, 1.18e+06. This might indicate that there are\n",
      "strong multicollinearity or other numerical problems.\n"
     ]
    }
   ],
   "source": [
    "# Y is the target variable\n",
    "Y = houses_winsorized[\"saleprice_winsorized\"]\n",
    "\n",
    "# X is the feature set\n",
    "X = houses_winsorized[feature_names]\n",
    "\n",
    "X_train, X_test, y_train, y_test = train_test_split(X, Y, test_size = 0.2, random_state = 465)\n",
    "\n",
    "print(f\"The number of observations in the training set is {X_train.shape[0]}, {X_train.shape[1]}\")\n",
    "print(f\"The number of observations in the test set is {X_test.shape[0]}, {X_test.shape[1]} \\n\")\n",
    "\n",
    "# Add a constant to the model\n",
    "X_train = sm.add_constant(X_train)\n",
    "\n",
    "# Fit an OLS model using statsmodel\n",
    "results = sm.OLS(y_train,X_train).fit()\n",
    "\n",
    "# Print the results\n",
    "print(results.summary())"
   ]
  },
  {
   "cell_type": "code",
   "execution_count": 126,
   "metadata": {},
   "outputs": [
    {
     "data": {
      "image/png": "[encoded data removed]",
      "text/plain": [
       "<Figure size 432x288 with 1 Axes>"
      ]
     },
     "metadata": {
      "needs_background": "light"
     },
     "output_type": "display_data"
    },
    {
     "name": "stdout",
     "output_type": "stream",
     "text": [
      "Mean Absolute Error (MAE) of the prediction is: 17252.823573835452\n",
      "Mean Squared Error (MSE) of the predictions is: 521000044.0965901\n",
      "Root Mean Squared Error (RMSE) of the prediction is: 22825.42538697998\n",
      "Mean Absolute Percentage Error (MAPE) of the prediction is: 11.166771155311565\n"
     ]
    }
   ],
   "source": [
    "# Add a constant\n",
    "X_test = sm.add_constant(X_test)\n",
    "\n",
    "# Make predictions\n",
    "y_preds = results.predict(X_test)\n",
    "\n",
    "plt.scatter(y_test, y_preds)\n",
    "plt.plot(y_test, y_test, color=\"red\")\n",
    "plt.xlabel(\"True Values\")\n",
    "plt.ylabel(\"Predicted Values\")\n",
    "plt.title(\"Saleprice: True and Predicted Values\")\n",
    "plt.show()\n",
    "\n",
    "print(f\"Mean Absolute Error (MAE) of the prediction is: {mean_absolute_error(y_test, y_preds)}\")\n",
    "print(f\"Mean Squared Error (MSE) of the predictions is: {mse(y_test, y_preds)}\")\n",
    "print(f\"Root Mean Squared Error (RMSE) of the prediction is: {rmse(y_test, y_preds)}\")\n",
    "print(f\"Mean Absolute Percentage Error (MAPE) of the prediction is: {np.mean(np.abs((y_test - y_preds) / y_test)) * 100}\")"
   ]
  },
  {
   "cell_type": "markdown",
   "metadata": {},
   "source": [
    "This model is a much better predicter of sale prices than the first version.  MAE, MSE, & RMSE are all much lower, on a unit basis, than in the first model.  The MAPE also saw an improvement in this model."
   ]
  }
 ],
 "metadata": {
  "kernelspec": {
   "display_name": "Python 3",
   "language": "python",
   "name": "python3"
  },
  "language_info": {
   "codemirror_mode": {
    "name": "ipython",
    "version": 3
   },
   "file_extension": ".py",
   "mimetype": "text/x-python",
   "name": "python",
   "nbconvert_exporter": "python",
   "pygments_lexer": "ipython3",
   "version": "3.7.5"
  }
 },
 "nbformat": 4,
 "nbformat_minor": 4
}
