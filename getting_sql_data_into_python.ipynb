{
 "cells": [
  {
   "cell_type": "code",
   "execution_count": 15,
   "metadata": {},
   "outputs": [],
   "source": [
    "from sqlalchemy import create_engine\n",
    "import math"
   ]
  },
  {
   "cell_type": "code",
   "execution_count": 2,
   "metadata": {},
   "outputs": [],
   "source": [
    "# Database credentials\n",
    "postgres_user='dsbc_student'\n",
    "postgres_pw='7*.8G9QH21'\n",
    "postgres_host='142.93.121.174'\n",
    "postgres_port='5432'\n",
    "postgres_db='dvdrentals'\n",
    "\n",
    "# use the credentials to start a connection \n",
    "engine=create_engine(f'postgresql://{postgres_user}:{postgres_pw}@{postgres_host}:{postgres_port}/{postgres_db}')"
   ]
  },
  {
   "cell_type": "code",
   "execution_count": 6,
   "metadata": {},
   "outputs": [
    {
     "name": "stdout",
     "output_type": "stream",
     "text": [
      "There are 195 films with a/an R rating\n",
      "There are 210 films with a/an NC-17 rating\n",
      "There are 194 films with a/an PG rating\n",
      "There are 223 films with a/an PG-13 rating\n",
      "There are 178 films with a/an G rating\n"
     ]
    }
   ],
   "source": [
    "# 1. How many movies are released for each rating?\n",
    "ratings = engine.execute(\"SELECT rating, COUNT(rating) FROM film GROUP BY rating\")\n",
    "engine.dispose()\n",
    "rows = ratings.fetchall()\n",
    "\n",
    "for k,v in rows:\n",
    "    print(f\"There are {v} films with a/an {k} rating\")\n",
    "    \n"
   ]
  },
  {
   "cell_type": "code",
   "execution_count": 9,
   "metadata": {},
   "outputs": [
    {
     "name": "stdout",
     "output_type": "stream",
     "text": [
      "The average rental term for R rated moves is 4.48 days\n",
      "The average rental term for NC-17 rated moves is 4.53 days\n",
      "The average rental term for PG rated moves is 4.48 days\n",
      "The average rental term for PG-13 rated moves is 4.58 days\n",
      "The average rental term for G rated moves is 4.55 days\n"
     ]
    }
   ],
   "source": [
    "# 2. What is the average rental duration for each rating?\n",
    "sql = f\"\"\"\n",
    "    SELECT film.rating, ROUND(AVG(DATE_PART('day',rental.return_date-rental.rental_date))::numeric,2) avg_rental_length\n",
    "    FROM rental \n",
    "    LEFT JOIN inventory\n",
    "    ON rental.inventory_id = inventory.inventory_id\n",
    "    LEFT JOIN film \n",
    "    ON inventory.film_id = film.film_id\n",
    "    GROUP BY rating\n",
    "\"\"\"\n",
    "avg_rental_term = engine.execute(sql)\n",
    "engine.dispose()\n",
    "rows = avg_rental_term.fetchall()\n",
    "\n",
    "for k,v in rows:\n",
    "    print(f\"The average rental term for {k} rated moves is {v} days\")"
   ]
  },
  {
   "cell_type": "code",
   "execution_count": 13,
   "metadata": {},
   "outputs": [
    {
     "name": "stdout",
     "output_type": "stream",
     "text": [
      "The Mean film length is 115.272 mins\n"
     ]
    }
   ],
   "source": [
    "# 3. What is the mean movie length? Calculate this by defining a function\n",
    "def mean(numbers):\n",
    "    sum_numbers = sum(numbers)\n",
    "    avg = sum_numbers/len(numbers)\n",
    "    \n",
    "    return avg\n",
    "\n",
    "sql = \"\"\"\n",
    "    SELECT film.length\n",
    "    FROM film\n",
    "\"\"\"\n",
    "raw_lengths = engine.execute(sql)\n",
    "engine.dispose()\n",
    "rows = raw_lengths.fetchall()\n",
    "lengths = [x['length'] for x in rows]\n",
    "\n",
    "mean_length = mean(lengths)\n",
    "\n",
    "print(f\"The Mean film length is {mean_length} mins\")"
   ]
  },
  {
   "cell_type": "code",
   "execution_count": 16,
   "metadata": {},
   "outputs": [
    {
     "name": "stdout",
     "output_type": "stream",
     "text": [
      "The Median film length is 106.0 mins\n"
     ]
    }
   ],
   "source": [
    "# 4. What is the median movie length? Calculate this by defining a function.\n",
    "def median(numbers):\n",
    "    sorted_numbers = sorted(numbers)\n",
    "    count = len(sorted_numbers)\n",
    "    isEven = count%2 == 0 # check if this is of even length\n",
    "    \n",
    "    if(isEven):\n",
    "        # find the two number in the middle of the array\n",
    "        mid = math.floor(count/2)\n",
    "        a = numbers[mid]\n",
    "        b = numbers[mid+1]\n",
    "        ans = (a+b)/2\n",
    "    else:\n",
    "        ans = numbers[math.floor(count/2)]\n",
    "        \n",
    "    return ans\n",
    "\n",
    "median_length = median(lengths)\n",
    "\n",
    "print(f\"The Median film length is {median_length} mins\")"
   ]
  },
  {
   "cell_type": "code",
   "execution_count": 18,
   "metadata": {},
   "outputs": [
    {
     "name": "stdout",
     "output_type": "stream",
     "text": [
      "The Standard Deviation of film lengths is 40.42633181855987 mins\n"
     ]
    }
   ],
   "source": [
    "# 5. Calculate the standard deviation of the movie lengths. Calculate this by defining a function.\n",
    "def standard_deviation(numbers):\n",
    "    X_bar = mean(numbers)\n",
    "    N = len(numbers)\n",
    "    total_sum = 0\n",
    "    for X in numbers: \n",
    "        diff = X-X_bar \n",
    "        squared = math.pow(diff,2)\n",
    "        total_sum += squared\n",
    "    \n",
    "    sigma = math.sqrt(total_sum/(N-1))\n",
    "    \n",
    "    return sigma\n",
    "\n",
    "film_std_dev = standard_deviation(lengths)\n",
    "\n",
    "print(f\"The Standard Deviation of film lengths is {film_std_dev} mins\")"
   ]
  },
  {
   "cell_type": "code",
   "execution_count": null,
   "metadata": {},
   "outputs": [],
   "source": []
  }
 ],
 "metadata": {
  "kernelspec": {
   "display_name": "Python 3",
   "language": "python",
   "name": "python3"
  },
  "language_info": {
   "codemirror_mode": {
    "name": "ipython",
    "version": 3
   },
   "file_extension": ".py",
   "mimetype": "text/x-python",
   "name": "python",
   "nbconvert_exporter": "python",
   "pygments_lexer": "ipython3",
   "version": "3.7.4"
  }
 },
 "nbformat": 4,
 "nbformat_minor": 4
}
