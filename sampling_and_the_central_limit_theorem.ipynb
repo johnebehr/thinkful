{
 "cells": [
  {
   "cell_type": "markdown",
   "metadata": {},
   "source": [
    "## Sampling and the Central Limit Theorem"
   ]
  },
  {
   "cell_type": "code",
   "execution_count": 1,
   "metadata": {},
   "outputs": [],
   "source": [
    "import numpy as np\n",
    "import pandas as pd\n",
    "import scipy\n",
    "import math\n",
    "import matplotlib.pyplot as plt\n",
    "from IPython.display import Markdown as md"
   ]
  },
  {
   "cell_type": "code",
   "execution_count": 2,
   "metadata": {},
   "outputs": [
    {
     "data": {
      "text/html": [
       "<style>\n",
       "    table {display: inline-block}\n",
       "</style>\n"
      ],
      "text/plain": [
       "<IPython.core.display.HTML object>"
      ]
     },
     "metadata": {},
     "output_type": "display_data"
    }
   ],
   "source": [
    "%%html\n",
    "<style>\n",
    "    table {display: inline-block}\n",
    "</style>"
   ]
  },
  {
   "cell_type": "code",
   "execution_count": 3,
   "metadata": {},
   "outputs": [
    {
     "data": {
      "image/png": "[encoded data removed]",
      "text/plain": [
       "<Figure size 432x288 with 1 Axes>"
      ]
     },
     "metadata": {
      "needs_background": "light"
     },
     "output_type": "display_data"
    }
   ],
   "source": [
    "# Create two populations from which to sample\n",
    "# n = The number of trials\n",
    "# p = P(success)\n",
    "# N = number (size) of successes\n",
    "\n",
    "pop1 = np.random.binomial(n=10, p=0.2, size=10000)\n",
    "pop2 = np.random.binomial(n=10, p=0.5, size=10000)\n",
    "\n",
    "# Take a look at how the population might overlap\n",
    "plt.hist(pop1, alpha=0.5, label='Population 1')\n",
    "plt.hist(pop2, alpha=0.5, label='Population 2')\n",
    "plt.legend(loc='upper right')\n",
    "plt.show()\n",
    "# These populations are not normal, bring in the Central Limit Theorem"
   ]
  },
  {
   "cell_type": "code",
   "execution_count": 4,
   "metadata": {},
   "outputs": [
    {
     "data": {
      "image/png": "[encoded data removed]",
      "text/plain": [
       "<Figure size 432x288 with 1 Axes>"
      ]
     },
     "metadata": {
      "needs_background": "light"
     },
     "output_type": "display_data"
    }
   ],
   "source": [
    "# a: for our purposes a is the population\n",
    "# size: the sample size\n",
    "# replace: Wether the sample is with or without replacement\n",
    "# p: The probabilities associated with each entry in a.  If none the sample assumes a uniform distribution over all entries in a.\n",
    "sample1 = np.random.choice(a=pop1, size=100, replace=True, p=None)\n",
    "sample2 = np.random.choice(a=pop2, size=100, replace=True, p=None)\n",
    "\n",
    "plt.hist(sample1, alpha=0.5, label='sample 1')\n",
    "plt.hist(sample2, alpha=0.5, label='sample 2')\n",
    "plt.legend(loc='upper right')\n",
    "plt.show()"
   ]
  },
  {
   "cell_type": "code",
   "execution_count": 5,
   "metadata": {},
   "outputs": [
    {
     "name": "stdout",
     "output_type": "stream",
     "text": [
      "sample1 Mean: 2.1100\n",
      "sample2 StDev: 4.9000\n",
      "sample1 Mean: 1.3183\n",
      "sample2 StDev: 1.6401\n",
      "sample1-sample2 Diff: 2.7900\n"
     ]
    }
   ],
   "source": [
    "# Now, compute the mean and StDev for each sample\n",
    "print(f'sample1 Mean: {sample1.mean():.4f}')\n",
    "print(f'sample2 StDev: {sample2.mean():.4f}')\n",
    "print(f'sample1 Mean: {sample1.std():.4f}')\n",
    "print(f'sample2 StDev: {sample2.std():.4f}')\n",
    "\n",
    "# Compute the difference between the two sample means.\n",
    "diff=sample2.mean() - sample1.mean()\n",
    "print(f'sample1-sample2 Diff: {diff:.4f}')"
   ]
  },
  {
   "cell_type": "code",
   "execution_count": 6,
   "metadata": {},
   "outputs": [
    {
     "name": "stdout",
     "output_type": "stream",
     "text": [
      "T-value: 13.2588\n"
     ]
    }
   ],
   "source": [
    "size = np.array([len(sample1), len(sample2)])\n",
    "sd = np.array([sample1.std(), sample2.std()])\n",
    "\n",
    "# The squared standard deviations are divided by the sample size and summed, then take the square root of the sum\n",
    "diff_se = (sum(sd**2/size))**0.5\n",
    "\n",
    "# The difference between the means divided by the standard error: T-value.\n",
    "print(f'T-value: {diff/diff_se:.4f}')"
   ]
  },
  {
   "cell_type": "code",
   "execution_count": 9,
   "metadata": {},
   "outputs": [
    {
     "name": "stdout",
     "output_type": "stream",
     "text": [
      "T-value: 48.26914617358302 | P-value: 0.0\n"
     ]
    }
   ],
   "source": [
    "from scipy.stats import ttest_ind\n",
    "_, pval_ = ttest_ind(sample2, sample1, equal_var=False)\n",
    "print(f\"T-value: {_} | P-value: {pval_}\")"
   ]
  },
  {
   "cell_type": "markdown",
   "metadata": {},
   "source": [
    "### Assignments"
   ]
  },
  {
   "cell_type": "code",
   "execution_count": 20,
   "metadata": {},
   "outputs": [
    {
     "data": {
      "text/markdown": [
       "\n",
       "<p>\n",
       "<h2>Assignments 1, part 1</h2>\n",
       "    <table>\n",
       "        <tr>\n",
       "            <th></th>\n",
       "            <th>$ Sample1 $</th>\n",
       "            <th>$ Sample2 $</th>\n",
       "        </tr>\n",
       "        <tr>\n",
       "            <td>Mean, $ \\bar{x} $</td>\n",
       "            <td>3.0330</td>\n",
       "            <td>5.110000</td>\n",
       "        </tr>\n",
       "        <tr>\n",
       "            <td>Variance, $ S^2 $</td>\n",
       "            <td>2.0379</td>\n",
       "            <td>2.4959</td>\n",
       "        </tr>\n",
       "        <tr>\n",
       "            <td>StDev, $ S $</td>\n",
       "            <td>1.4276</td>\n",
       "            <td>1.5798</td>\n",
       "        </tr>\n",
       "        <tr>\n",
       "            <td>StErr, $ SE $</td>\n",
       "            <td>0.0451</td>\n",
       "            <td>0.0500</td>\n",
       "        </tr>\n",
       "    </table><br />\n",
       "$ \\bar{y}=2.0770 $, where $ \\bar{y} = \\bar{x_2}-\\bar{x_1} $<br />\n",
       "$ SE=0.0673 $<br />\n",
       "$ t$-$value=30.8464 $<br />\n",
       "$ p$-$value=0.0000 $\n",
       "</p>\n",
       "<p>\n",
       "</p>\n"
      ],
      "text/plain": [
       "<IPython.core.display.Markdown object>"
      ]
     },
     "execution_count": 20,
     "metadata": {},
     "output_type": "execute_result"
    },
    {
     "data": {
      "image/png": "[encoded data removed]",
      "text/plain": [
       "<Figure size 432x288 with 1 Axes>"
      ]
     },
     "metadata": {
      "needs_background": "light"
     },
     "output_type": "display_data"
    }
   ],
   "source": [
    "sample1 = np.random.choice(a=pop1, size=1000, replace=True, p=None)\n",
    "sample2 = np.random.choice(a=pop2, size=1000, replace=True, p=None)\n",
    "\n",
    "# Sample1 vitals\n",
    "sample1_mean = np.mean(sample1)\n",
    "sample1_variance = np.var(sample1)\n",
    "sample1_stdev = np.std(sample1)\n",
    "sample1_std_err = sample1_stdev/math.sqrt(len(sample1))\n",
    "\n",
    "# Sample2 vitals\n",
    "sample2_mean = np.mean(sample2)\n",
    "sample2_variance = np.var(sample2)\n",
    "sample2_stdev = np.std(sample2)\n",
    "sample2_std_err = sample2_stdev/math.sqrt(len(sample2))\n",
    "\n",
    "diff = sample2.mean()-sample1.mean()\n",
    "\n",
    "size = np.array([len(sample1), len(sample2)])\n",
    "sd = np.array([sample1.std(), sample2.std()])\n",
    "# StdErr\n",
    "diff_se = (sum(sd**2/size))**0.5\n",
    "# T-value\n",
    "t_val = diff/diff_se\n",
    "\n",
    "# T-score and p-value checks\n",
    "_, pvalue_ = ttest_ind(sample2, sample1, equal_var=False)\n",
    "\n",
    "plt.hist(sample1, alpha=0.5, label='Sample1')\n",
    "plt.hist(sample2, alpha=0.5, label='Sample2')\n",
    "plt.legend(loc='upper right')\n",
    "\n",
    "md(f'''\n",
    "<p>\n",
    "<h2>Assignments 1, part 1</h2>\n",
    "    <table>\n",
    "        <tr>\n",
    "            <th></th>\n",
    "            <th>$ Sample1 $</th>\n",
    "            <th>$ Sample2 $</th>\n",
    "        </tr>\n",
    "        <tr>\n",
    "            <td>Mean, $ \\\\bar{{x}} $</td>\n",
    "            <td>{sample1_mean:.4f}</td>\n",
    "            <td>{sample2_mean:4f}</td>\n",
    "        </tr>\n",
    "        <tr>\n",
    "            <td>Variance, $ S^2 $</td>\n",
    "            <td>{sample1_variance:.4f}</td>\n",
    "            <td>{sample2_variance:.4f}</td>\n",
    "        </tr>\n",
    "        <tr>\n",
    "            <td>StDev, $ S $</td>\n",
    "            <td>{sample1_stdev:.4f}</td>\n",
    "            <td>{sample2_stdev:.4f}</td>\n",
    "        </tr>\n",
    "        <tr>\n",
    "            <td>StErr, $ SE $</td>\n",
    "            <td>{sample1_std_err:.4f}</td>\n",
    "            <td>{sample2_std_err:.4f}</td>\n",
    "        </tr>\n",
    "    </table><br />\n",
    "$ \\\\bar{{y}}={sample2_mean-sample1_mean:.4f} $, where $ \\\\bar{{y}} = \\\\bar{{x_2}}-\\\\bar{{x_1}} $<br />\n",
    "$ SE={math.sqrt((sample1_std_err**2)+(sample2_std_err**2)):.4f} $<br />\n",
    "$ t$-$value={(sample2_mean-sample1_mean)/math.sqrt((sample1_std_err**2)+(sample2_std_err**2)):.4f} $<br />\n",
    "$ p$-$value={pvalue_:.4f} $\n",
    "</p>\n",
    "<p>\n",
    "</p>\n",
    "''')"
   ]
  },
  {
   "cell_type": "code",
   "execution_count": 31,
   "metadata": {},
   "outputs": [
    {
     "data": {
      "text/markdown": [
       "\n",
       "<p>\n",
       "<h2>Assignments 1, part 2</h2>\n",
       "    <table>\n",
       "        <tr>\n",
       "            <th></th>\n",
       "            <th>$ Sample1 $</th>\n",
       "            <th>$ Sample2 $</th>\n",
       "        </tr>\n",
       "        <tr>\n",
       "            <td>Mean, $ \\bar{x} $</td>\n",
       "            <td>2.6000</td>\n",
       "            <td>5.350000</td>\n",
       "        </tr>\n",
       "        <tr>\n",
       "            <td>Variance, $ S^2 $</td>\n",
       "            <td>1.2400</td>\n",
       "            <td>2.3275</td>\n",
       "        </tr>\n",
       "        <tr>\n",
       "            <td>StDev, $ S $</td>\n",
       "            <td>1.1136</td>\n",
       "            <td>1.5256</td>\n",
       "        </tr>\n",
       "        <tr>\n",
       "            <td>StErr, $ SE $</td>\n",
       "            <td>0.2490</td>\n",
       "            <td>0.3411</td>\n",
       "        </tr>\n",
       "    </table><br />\n",
       "$ \\bar{y}=2.7500 $, where $ \\bar{y} = \\bar{x_2}-\\bar{x_1} $<br />\n",
       "$ SE=0.4223 $<br />\n",
       "$ t$-$value=6.5113 $<br />\n",
       "$ p$-$value=0.0000 $\n",
       "</p>\n",
       "<p>\n",
       "</p>\n"
      ],
      "text/plain": [
       "<IPython.core.display.Markdown object>"
      ]
     },
     "execution_count": 31,
     "metadata": {},
     "output_type": "execute_result"
    },
    {
     "data": {
      "image/png": "[encoded data removed]",
      "text/plain": [
       "<Figure size 432x288 with 1 Axes>"
      ]
     },
     "metadata": {
      "needs_background": "light"
     },
     "output_type": "display_data"
    }
   ],
   "source": [
    "sample1 = np.random.choice(a=pop1, size=20, replace=True, p=None)\n",
    "sample2 = np.random.choice(a=pop2, size=20, replace=True, p=None)\n",
    "\n",
    "# Sample1 vitals\n",
    "sample1_mean = np.mean(sample1)\n",
    "sample1_variance = np.var(sample1)\n",
    "sample1_stdev = np.std(sample1)\n",
    "sample1_std_err = sample1_stdev/math.sqrt(len(sample1))\n",
    "\n",
    "# Sample2 vitals\n",
    "sample2_mean = np.mean(sample2)\n",
    "sample2_variance = np.var(sample2)\n",
    "sample2_stdev = np.std(sample2)\n",
    "sample2_std_err = sample2_stdev/math.sqrt(len(sample2))\n",
    "\n",
    "diff = sample2.mean()-sample1.mean()\n",
    "\n",
    "size = np.array([len(sample1), len(sample2)])\n",
    "sd = np.array([sample1.std(), sample2.std()])\n",
    "# StdErr\n",
    "diff_se = (sum(sd**2/size))**0.5\n",
    "# T-value\n",
    "t_val = diff/diff_se\n",
    "\n",
    "# T-score and p-value checks\n",
    "_, pvalue_ = ttest_ind(sample2, sample1, equal_var=False)\n",
    "\n",
    "plt.hist(sample1, alpha=0.5, label='Sample1')\n",
    "plt.hist(sample2, alpha=0.5, label='Sample2')\n",
    "plt.legend(loc='upper right')\n",
    "\n",
    "md(f'''\n",
    "<p>\n",
    "<h2>Assignments 1, part 2</h2>\n",
    "    <table>\n",
    "        <tr>\n",
    "            <th></th>\n",
    "            <th>$ Sample1 $</th>\n",
    "            <th>$ Sample2 $</th>\n",
    "        </tr>\n",
    "        <tr>\n",
    "            <td>Mean, $ \\\\bar{{x}} $</td>\n",
    "            <td>{sample1_mean:.4f}</td>\n",
    "            <td>{sample2_mean:4f}</td>\n",
    "        </tr>\n",
    "        <tr>\n",
    "            <td>Variance, $ S^2 $</td>\n",
    "            <td>{sample1_variance:.4f}</td>\n",
    "            <td>{sample2_variance:.4f}</td>\n",
    "        </tr>\n",
    "        <tr>\n",
    "            <td>StDev, $ S $</td>\n",
    "            <td>{sample1_stdev:.4f}</td>\n",
    "            <td>{sample2_stdev:.4f}</td>\n",
    "        </tr>\n",
    "        <tr>\n",
    "            <td>StErr, $ SE $</td>\n",
    "            <td>{sample1_std_err:.4f}</td>\n",
    "            <td>{sample2_std_err:.4f}</td>\n",
    "        </tr>\n",
    "    </table><br />\n",
    "$ \\\\bar{{y}}={sample2_mean-sample1_mean:.4f} $, where $ \\\\bar{{y}} = \\\\bar{{x_2}}-\\\\bar{{x_1}} $<br />\n",
    "$ SE={math.sqrt((sample1_std_err**2)+(sample2_std_err**2)):.4f} $<br />\n",
    "$ t$-$value={(sample2_mean-sample1_mean)/math.sqrt((sample1_std_err**2)+(sample2_std_err**2)):.4f} $<br />\n",
    "$ p$-$value={pvalue_:.4f} $\n",
    "</p>\n",
    "<p>\n",
    "</p>\n",
    "''')"
   ]
  },
  {
   "cell_type": "code",
   "execution_count": 35,
   "metadata": {},
   "outputs": [
    {
     "data": {
      "text/markdown": [
       "\n",
       "<p>\n",
       "<h2>Assignments 2, part 1</h2>\n",
       "    <table>\n",
       "        <tr>\n",
       "            <th></th>\n",
       "            <th>$ Sample1 $</th>\n",
       "            <th>$ Sample2 $</th>\n",
       "        </tr>\n",
       "        <tr>\n",
       "            <td>Mean, $ \\bar{x} $</td>\n",
       "            <td>3.6500</td>\n",
       "            <td>5.100000</td>\n",
       "        </tr>\n",
       "        <tr>\n",
       "            <td>Variance, $ S^2 $</td>\n",
       "            <td>2.5275</td>\n",
       "            <td>1.3900</td>\n",
       "        </tr>\n",
       "        <tr>\n",
       "            <td>StDev, $ S $</td>\n",
       "            <td>1.5898</td>\n",
       "            <td>1.1790</td>\n",
       "        </tr>\n",
       "        <tr>\n",
       "            <td>StErr, $ SE $</td>\n",
       "            <td>0.3555</td>\n",
       "            <td>0.2636</td>\n",
       "        </tr>\n",
       "    </table><br />\n",
       "$ \\bar{y}=1.4500 $, where $ \\bar{y} = \\bar{x_2}-\\bar{x_1} $<br />\n",
       "$ SE=0.4426 $<br />\n",
       "$ t$-$value=3.2763 $<br />\n",
       "$ p$-$value=0.0030 $\n",
       "</p>\n",
       "<p>\n",
       "</p>\n"
      ],
      "text/plain": [
       "<IPython.core.display.Markdown object>"
      ]
     },
     "execution_count": 35,
     "metadata": {},
     "output_type": "execute_result"
    },
    {
     "data": {
      "image/png": "[encoded data removed]",
      "text/plain": [
       "<Figure size 432x288 with 1 Axes>"
      ]
     },
     "metadata": {
      "needs_background": "light"
     },
     "output_type": "display_data"
    }
   ],
   "source": [
    "pop1 = np.random.binomial(n=10, p=0.3, size=10000)\n",
    "pop2 = np.random.binomial(n=10, p=0.5, size=10000)\n",
    "\n",
    "sample1 = np.random.choice(a=pop1, size=20, replace=True, p=None)\n",
    "sample2 = np.random.choice(a=pop2, size=20, replace=True, p=None)\n",
    "\n",
    "# Sample1 vitals\n",
    "sample1_mean = np.mean(sample1)\n",
    "sample1_variance = np.var(sample1)\n",
    "sample1_stdev = np.std(sample1)\n",
    "sample1_std_err = sample1_stdev/math.sqrt(len(sample1))\n",
    "\n",
    "# Sample2 vitals\n",
    "sample2_mean = np.mean(sample2)\n",
    "sample2_variance = np.var(sample2)\n",
    "sample2_stdev = np.std(sample2)\n",
    "sample2_std_err = sample2_stdev/math.sqrt(len(sample2))\n",
    "\n",
    "diff = sample2.mean()-sample1.mean()\n",
    "\n",
    "size = np.array([len(sample1), len(sample2)])\n",
    "sd = np.array([sample1.std(), sample2.std()])\n",
    "# StdErr\n",
    "diff_se = (sum(sd**2/size))**0.5\n",
    "# T-value\n",
    "t_val = diff/diff_se\n",
    "\n",
    "# T-score and p-value checks\n",
    "_, pvalue_ = ttest_ind(sample2, sample1, equal_var=False)\n",
    "\n",
    "plt.hist(sample1, alpha=0.5, label='Sample1')\n",
    "plt.hist(sample2, alpha=0.5, label='Sample2')\n",
    "plt.legend(loc='upper right')\n",
    "\n",
    "md(f'''\n",
    "<p>\n",
    "<h2>Assignments 2, part 1</h2>\n",
    "    <table>\n",
    "        <tr>\n",
    "            <th></th>\n",
    "            <th>$ Sample1 $</th>\n",
    "            <th>$ Sample2 $</th>\n",
    "        </tr>\n",
    "        <tr>\n",
    "            <td>Mean, $ \\\\bar{{x}} $</td>\n",
    "            <td>{sample1_mean:.4f}</td>\n",
    "            <td>{sample2_mean:4f}</td>\n",
    "        </tr>\n",
    "        <tr>\n",
    "            <td>Variance, $ S^2 $</td>\n",
    "            <td>{sample1_variance:.4f}</td>\n",
    "            <td>{sample2_variance:.4f}</td>\n",
    "        </tr>\n",
    "        <tr>\n",
    "            <td>StDev, $ S $</td>\n",
    "            <td>{sample1_stdev:.4f}</td>\n",
    "            <td>{sample2_stdev:.4f}</td>\n",
    "        </tr>\n",
    "        <tr>\n",
    "            <td>StErr, $ SE $</td>\n",
    "            <td>{sample1_std_err:.4f}</td>\n",
    "            <td>{sample2_std_err:.4f}</td>\n",
    "        </tr>\n",
    "    </table><br />\n",
    "$ \\\\bar{{y}}={sample2_mean-sample1_mean:.4f} $, where $ \\\\bar{{y}} = \\\\bar{{x_2}}-\\\\bar{{x_1}} $<br />\n",
    "$ SE={math.sqrt((sample1_std_err**2)+(sample2_std_err**2)):.4f} $<br />\n",
    "$ t$-$value={(sample2_mean-sample1_mean)/math.sqrt((sample1_std_err**2)+(sample2_std_err**2)):.4f} $<br />\n",
    "$ p$-$value={pvalue_:.4f} $\n",
    "</p>\n",
    "<p>\n",
    "</p>\n",
    "''')"
   ]
  },
  {
   "cell_type": "markdown",
   "metadata": {},
   "source": [
    "<p>From part 1 to part 2, $ \\bar{y} $ increased.  The $ SE $ increased as well.\n",
    "$ T$-$value $ decreased while $ P$-$value $ remained the same</p>"
   ]
  },
  {
   "cell_type": "code",
   "execution_count": 36,
   "metadata": {},
   "outputs": [
    {
     "data": {
      "text/markdown": [
       "\n",
       "<p>\n",
       "<h2>Assignments 2, part 2</h2>\n",
       "    <table>\n",
       "        <tr>\n",
       "            <th></th>\n",
       "            <th>$ Sample1 $</th>\n",
       "            <th>$ Sample2 $</th>\n",
       "        </tr>\n",
       "        <tr>\n",
       "            <td>Mean, $ \\bar{x} $</td>\n",
       "            <td>3.6000</td>\n",
       "            <td>5.300000</td>\n",
       "        </tr>\n",
       "        <tr>\n",
       "            <td>Variance, $ S^2 $</td>\n",
       "            <td>1.9400</td>\n",
       "            <td>2.5100</td>\n",
       "        </tr>\n",
       "        <tr>\n",
       "            <td>StDev, $ S $</td>\n",
       "            <td>1.3928</td>\n",
       "            <td>1.5843</td>\n",
       "        </tr>\n",
       "        <tr>\n",
       "            <td>StErr, $ SE $</td>\n",
       "            <td>0.3114</td>\n",
       "            <td>0.3543</td>\n",
       "        </tr>\n",
       "    </table><br />\n",
       "$ \\bar{y}=1.7000 $, where $ \\bar{y} = \\bar{x_2}-\\bar{x_1} $<br />\n",
       "$ SE=0.4717 $<br />\n",
       "$ t-value=3.6040 $<br />\n",
       "$ p-value=0.0012 $\n",
       "</p>\n",
       "<p>\n",
       "</p>\n"
      ],
      "text/plain": [
       "<IPython.core.display.Markdown object>"
      ]
     },
     "execution_count": 36,
     "metadata": {},
     "output_type": "execute_result"
    },
    {
     "data": {
      "image/png": "[encoded data removed]",
      "text/plain": [
       "<Figure size 432x288 with 1 Axes>"
      ]
     },
     "metadata": {
      "needs_background": "light"
     },
     "output_type": "display_data"
    }
   ],
   "source": [
    "pop1 = np.random.binomial(n=10, p=0.4, size=10000)\n",
    "pop2 = np.random.binomial(n=10, p=0.5, size=10000)\n",
    "\n",
    "sample1 = np.random.choice(a=pop1, size=20, replace=True, p=None)\n",
    "sample2 = np.random.choice(a=pop2, size=20, replace=True, p=None)\n",
    "\n",
    "# Sample1 vitals\n",
    "sample1_mean = np.mean(sample1)\n",
    "sample1_variance = np.var(sample1)\n",
    "sample1_stdev = np.std(sample1)\n",
    "sample1_std_err = sample1_stdev/math.sqrt(len(sample1))\n",
    "\n",
    "# Sample2 vitals\n",
    "sample2_mean = np.mean(sample2)\n",
    "sample2_variance = np.var(sample2)\n",
    "sample2_stdev = np.std(sample2)\n",
    "sample2_std_err = sample2_stdev/math.sqrt(len(sample2))\n",
    "\n",
    "diff = sample2.mean()-sample1.mean()\n",
    "\n",
    "size = np.array([len(sample1), len(sample2)])\n",
    "sd = np.array([sample1.std(), sample2.std()])\n",
    "# StdErr\n",
    "diff_se = (sum(sd**2/size))**0.5\n",
    "# T-value\n",
    "t_val = diff/diff_se\n",
    "\n",
    "# T-score and p-value checks\n",
    "_, pvalue_ = ttest_ind(sample2, sample1, equal_var=False)\n",
    "\n",
    "plt.hist(sample1, alpha=0.5, label='Sample1')\n",
    "plt.hist(sample2, alpha=0.5, label='Sample2')\n",
    "plt.legend(loc='upper right')\n",
    "\n",
    "md(f'''\n",
    "<p>\n",
    "<h2>Assignments 2, part 2</h2>\n",
    "    <table>\n",
    "        <tr>\n",
    "            <th></th>\n",
    "            <th>$ Sample1 $</th>\n",
    "            <th>$ Sample2 $</th>\n",
    "        </tr>\n",
    "        <tr>\n",
    "            <td>Mean, $ \\\\bar{{x}} $</td>\n",
    "            <td>{sample1_mean:.4f}</td>\n",
    "            <td>{sample2_mean:4f}</td>\n",
    "        </tr>\n",
    "        <tr>\n",
    "            <td>Variance, $ S^2 $</td>\n",
    "            <td>{sample1_variance:.4f}</td>\n",
    "            <td>{sample2_variance:.4f}</td>\n",
    "        </tr>\n",
    "        <tr>\n",
    "            <td>StDev, $ S $</td>\n",
    "            <td>{sample1_stdev:.4f}</td>\n",
    "            <td>{sample2_stdev:.4f}</td>\n",
    "        </tr>\n",
    "        <tr>\n",
    "            <td>StErr, $ SE $</td>\n",
    "            <td>{sample1_std_err:.4f}</td>\n",
    "            <td>{sample2_std_err:.4f}</td>\n",
    "        </tr>\n",
    "    </table><br />\n",
    "$ \\\\bar{{y}}={sample2_mean-sample1_mean:.4f} $, where $ \\\\bar{{y}} = \\\\bar{{x_2}}-\\\\bar{{x_1}} $<br />\n",
    "$ SE={math.sqrt((sample1_std_err**2)+(sample2_std_err**2)):.4f} $<br />\n",
    "$ t-value={(sample2_mean-sample1_mean)/math.sqrt((sample1_std_err**2)+(sample2_std_err**2)):.4f} $<br />\n",
    "$ p-value={pvalue_:.4f} $\n",
    "</p>\n",
    "<p>\n",
    "</p>\n",
    "''')"
   ]
  },
  {
   "cell_type": "markdown",
   "metadata": {},
   "source": []
  },
  {
   "cell_type": "code",
   "execution_count": 33,
   "metadata": {},
   "outputs": [
    {
     "data": {
      "text/markdown": [
       "\n",
       "<p>\n",
       "<h2>Assignments 3</h2>\n",
       "    <table>\n",
       "        <tr>\n",
       "            <th></th>\n",
       "            <th>$ Sample1 $</th>\n",
       "            <th>$ Sample2 $</th>\n",
       "        </tr>\n",
       "        <tr>\n",
       "            <td>Mean, $ \\bar{x} $</td>\n",
       "            <td>-0.2630</td>\n",
       "            <td>-0.161457</td>\n",
       "        </tr>\n",
       "        <tr>\n",
       "            <td>Variance, $ S^2 $</td>\n",
       "            <td>0.5971</td>\n",
       "            <td>0.4582</td>\n",
       "        </tr>\n",
       "        <tr>\n",
       "            <td>StDev, $ S $</td>\n",
       "            <td>0.7727</td>\n",
       "            <td>0.6769</td>\n",
       "        </tr>\n",
       "        <tr>\n",
       "            <td>StErr, $ SE $</td>\n",
       "            <td>0.1728</td>\n",
       "            <td>0.1514</td>\n",
       "        </tr>\n",
       "    </table><br />\n",
       "$ \\bar{y}=0.1016 $, where $ \\bar{y} = \\bar{x_2}-\\bar{x_1} $<br />\n",
       "$ SE=0.2297 $<br />\n",
       "$ t$-$value=0.4422 $<br />\n",
       "$ p$-$value=0.6689 $\n",
       "</p>\n",
       "<p>\n",
       "</p>\n"
      ],
      "text/plain": [
       "<IPython.core.display.Markdown object>"
      ]
     },
     "execution_count": 33,
     "metadata": {},
     "output_type": "execute_result"
    },
    {
     "data": {
      "image/png": "[encoded data removed]",
      "text/plain": [
       "<Figure size 432x288 with 1 Axes>"
      ]
     },
     "metadata": {
      "needs_background": "light"
     },
     "output_type": "display_data"
    }
   ],
   "source": [
    "pop1 = np.random.normal(loc=0,scale=1,size=10000)\n",
    "pop2 = np.random.normal(loc=0,scale=1,size=10000)\n",
    "\n",
    "sample1 = np.random.choice(a=pop1, size=20, replace=True, p=None)\n",
    "sample2 = np.random.choice(a=pop2, size=20, replace=True, p=None)\n",
    "\n",
    "# Sample1 vitals\n",
    "sample1_mean = np.mean(sample1)\n",
    "sample1_variance = np.var(sample1)\n",
    "sample1_stdev = np.std(sample1)\n",
    "sample1_std_err = sample1_stdev/math.sqrt(len(sample1))\n",
    "\n",
    "# Sample2 vitals\n",
    "sample2_mean = np.mean(sample2)\n",
    "sample2_variance = np.var(sample2)\n",
    "sample2_stdev = np.std(sample2)\n",
    "sample2_std_err = sample2_stdev/math.sqrt(len(sample2))\n",
    "\n",
    "diff = sample2.mean()-sample1.mean()\n",
    "\n",
    "size = np.array([len(sample1), len(sample2)])\n",
    "sd = np.array([sample1.std(), sample2.std()])\n",
    "# StdErr\n",
    "diff_se = (sum(sd**2/size))**0.5\n",
    "# T-value\n",
    "t_val = diff/diff_se\n",
    "\n",
    "# T-score and p-value checks\n",
    "_, pvalue_ = ttest_ind(sample2, sample1, equal_var=False)\n",
    "\n",
    "plt.hist(sample1, alpha=0.5, label='Sample1')\n",
    "plt.hist(sample2, alpha=0.5, label='Sample2')\n",
    "plt.legend(loc='upper right')\n",
    "\n",
    "md(f'''\n",
    "<p>\n",
    "<h2>Assignments 3</h2>\n",
    "    <table>\n",
    "        <tr>\n",
    "            <th></th>\n",
    "            <th>$ Sample1 $</th>\n",
    "            <th>$ Sample2 $</th>\n",
    "        </tr>\n",
    "        <tr>\n",
    "            <td>Mean, $ \\\\bar{{x}} $</td>\n",
    "            <td>{sample1_mean:.4f}</td>\n",
    "            <td>{sample2_mean:4f}</td>\n",
    "        </tr>\n",
    "        <tr>\n",
    "            <td>Variance, $ S^2 $</td>\n",
    "            <td>{sample1_variance:.4f}</td>\n",
    "            <td>{sample2_variance:.4f}</td>\n",
    "        </tr>\n",
    "        <tr>\n",
    "            <td>StDev, $ S $</td>\n",
    "            <td>{sample1_stdev:.4f}</td>\n",
    "            <td>{sample2_stdev:.4f}</td>\n",
    "        </tr>\n",
    "        <tr>\n",
    "            <td>StErr, $ SE $</td>\n",
    "            <td>{sample1_std_err:.4f}</td>\n",
    "            <td>{sample2_std_err:.4f}</td>\n",
    "        </tr>\n",
    "    </table><br />\n",
    "$ \\\\bar{{y}}={sample2_mean-sample1_mean:.4f} $, where $ \\\\bar{{y}} = \\\\bar{{x_2}}-\\\\bar{{x_1}} $<br />\n",
    "$ SE={math.sqrt((sample1_std_err**2)+(sample2_std_err**2)):.4f} $<br />\n",
    "$ t$-$value={(sample2_mean-sample1_mean)/math.sqrt((sample1_std_err**2)+(sample2_std_err**2)):.4f} $<br />\n",
    "$ p$-$value={pvalue_:.4f} $\n",
    "</p>\n",
    "<p>\n",
    "</p>\n",
    "''')"
   ]
  },
  {
   "cell_type": "code",
   "execution_count": null,
   "metadata": {},
   "outputs": [],
   "source": []
  }
 ],
 "metadata": {
  "kernelspec": {
   "display_name": "Python 3",
   "language": "python",
   "name": "python3"
  },
  "language_info": {
   "codemirror_mode": {
    "name": "ipython",
    "version": 3
   },
   "file_extension": ".py",
   "mimetype": "text/x-python",
   "name": "python",
   "nbconvert_exporter": "python",
   "pygments_lexer": "ipython3",
   "version": "3.6.8"
  }
 },
 "nbformat": 4,
 "nbformat_minor": 2
}
