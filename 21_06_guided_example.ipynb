{
 "nbformat": 4,
 "nbformat_minor": 2,
 "metadata": {
  "language_info": {
   "name": "python",
   "codemirror_mode": {
    "name": "ipython",
    "version": 3
   },
   "version": "3.7.6-final"
  },
  "orig_nbformat": 2,
  "file_extension": ".py",
  "mimetype": "text/x-python",
  "name": "python",
  "npconvert_exporter": "python",
  "pygments_lexer": "ipython3",
  "version": 3,
  "kernelspec": {
   "name": "python37564bitbasecondacff6a9491553481ea55fb54c6034a878",
   "display_name": "Python 3.7.5 64-bit ('base': conda)"
  }
 },
 "cells": [
  {
   "cell_type": "markdown",
   "execution_count": null,
   "metadata": {},
   "outputs": [],
   "source": [
    "# 21.06 Guided Example\n",
    "\n",
    "Random Forests were discussed in notebooks 21.04 & 21.05, now it's time to build one.  The forest will use data from Lending Club (2015) to predict the state of a loan given some information about it.  The dataset can be downloaded [here](https://www.dropbox.com/s/0so14yudedjmm5m/LoanStats3d.csv?dl=1) "
   ]
  },
  {
   "cell_type": "code",
   "execution_count": 34,
   "metadata": {},
   "outputs": [],
   "source": [
    "import pandas as pd \n",
    "import numpy as np \n",
    "import matplotlib.pyplot as plt\n",
    "import seaborn as sns\n",
    "\n",
    "from sklearn import ensemble \n",
    "from sklearn import preprocessing\n",
    "from sklearn.model_selection import cross_val_score\n",
    "from sklearn.decomposition import PCA"
   ]
  },
  {
   "cell_type": "code",
   "execution_count": 3,
   "metadata": {},
   "outputs": [
    {
     "name": "stderr",
     "output_type": "stream",
     "text": "C:\\ProgramData\\Anaconda3\\lib\\site-packages\\IPython\\core\\interactiveshell.py:3058: DtypeWarning: Columns (0,19,55) have mixed types. Specify dtype option on import or set low_memory=False.\n  interactivity=interactivity, compiler=compiler, result=result)\n"
    }
   ],
   "source": [
    "y2015 = pd.read_csv(\"F:\\\\thinkful\\Data_Science\\\\21_supervised_learning_random_forest_models\\\\LoanStats3d.csv\", skipinitialspace=True, header=1)"
   ]
  },
  {
   "cell_type": "code",
   "execution_count": 4,
   "metadata": {},
   "outputs": [
    {
     "data": {
      "text/html": "<div>\n<style scoped>\n    .dataframe tbody tr th:only-of-type {\n        vertical-align: middle;\n    }\n\n    .dataframe tbody tr th {\n        vertical-align: top;\n    }\n\n    .dataframe thead th {\n        text-align: right;\n    }\n</style>\n<table border=\"1\" class=\"dataframe\">\n  <thead>\n    <tr style=\"text-align: right;\">\n      <th></th>\n      <th>id</th>\n      <th>member_id</th>\n      <th>loan_amnt</th>\n      <th>funded_amnt</th>\n      <th>funded_amnt_inv</th>\n      <th>term</th>\n      <th>int_rate</th>\n      <th>installment</th>\n      <th>grade</th>\n      <th>sub_grade</th>\n      <th>...</th>\n      <th>num_tl_90g_dpd_24m</th>\n      <th>num_tl_op_past_12m</th>\n      <th>pct_tl_nvr_dlq</th>\n      <th>percent_bc_gt_75</th>\n      <th>pub_rec_bankruptcies</th>\n      <th>tax_liens</th>\n      <th>tot_hi_cred_lim</th>\n      <th>total_bal_ex_mort</th>\n      <th>total_bc_limit</th>\n      <th>total_il_high_credit_limit</th>\n    </tr>\n  </thead>\n  <tbody>\n    <tr>\n      <th>0</th>\n      <td>68009401</td>\n      <td>72868139.0</td>\n      <td>16000.0</td>\n      <td>16000.0</td>\n      <td>16000.0</td>\n      <td>60 months</td>\n      <td>14.85%</td>\n      <td>379.39</td>\n      <td>C</td>\n      <td>C5</td>\n      <td>...</td>\n      <td>0.0</td>\n      <td>2.0</td>\n      <td>78.9</td>\n      <td>0.0</td>\n      <td>0.0</td>\n      <td>2.0</td>\n      <td>298100.0</td>\n      <td>31329.0</td>\n      <td>281300.0</td>\n      <td>13400.0</td>\n    </tr>\n    <tr>\n      <th>1</th>\n      <td>68354783</td>\n      <td>73244544.0</td>\n      <td>9600.0</td>\n      <td>9600.0</td>\n      <td>9600.0</td>\n      <td>36 months</td>\n      <td>7.49%</td>\n      <td>298.58</td>\n      <td>A</td>\n      <td>A4</td>\n      <td>...</td>\n      <td>0.0</td>\n      <td>2.0</td>\n      <td>100.0</td>\n      <td>66.7</td>\n      <td>0.0</td>\n      <td>0.0</td>\n      <td>88635.0</td>\n      <td>55387.0</td>\n      <td>12500.0</td>\n      <td>75635.0</td>\n    </tr>\n    <tr>\n      <th>2</th>\n      <td>68466916</td>\n      <td>73356753.0</td>\n      <td>25000.0</td>\n      <td>25000.0</td>\n      <td>25000.0</td>\n      <td>36 months</td>\n      <td>7.49%</td>\n      <td>777.55</td>\n      <td>A</td>\n      <td>A4</td>\n      <td>...</td>\n      <td>0.0</td>\n      <td>0.0</td>\n      <td>100.0</td>\n      <td>20.0</td>\n      <td>0.0</td>\n      <td>0.0</td>\n      <td>373572.0</td>\n      <td>68056.0</td>\n      <td>38400.0</td>\n      <td>82117.0</td>\n    </tr>\n    <tr>\n      <th>3</th>\n      <td>68466961</td>\n      <td>73356799.0</td>\n      <td>28000.0</td>\n      <td>28000.0</td>\n      <td>28000.0</td>\n      <td>36 months</td>\n      <td>6.49%</td>\n      <td>858.05</td>\n      <td>A</td>\n      <td>A2</td>\n      <td>...</td>\n      <td>0.0</td>\n      <td>0.0</td>\n      <td>91.7</td>\n      <td>22.2</td>\n      <td>0.0</td>\n      <td>0.0</td>\n      <td>304003.0</td>\n      <td>74920.0</td>\n      <td>41500.0</td>\n      <td>42503.0</td>\n    </tr>\n    <tr>\n      <th>4</th>\n      <td>68495092</td>\n      <td>73384866.0</td>\n      <td>8650.0</td>\n      <td>8650.0</td>\n      <td>8650.0</td>\n      <td>36 months</td>\n      <td>19.89%</td>\n      <td>320.99</td>\n      <td>E</td>\n      <td>E3</td>\n      <td>...</td>\n      <td>0.0</td>\n      <td>12.0</td>\n      <td>100.0</td>\n      <td>50.0</td>\n      <td>1.0</td>\n      <td>0.0</td>\n      <td>38998.0</td>\n      <td>18926.0</td>\n      <td>2750.0</td>\n      <td>18248.0</td>\n    </tr>\n  </tbody>\n</table>\n<p>5 rows × 111 columns</p>\n</div>",
      "text/plain": "         id   member_id  loan_amnt  funded_amnt  funded_amnt_inv        term  \\\n0  68009401  72868139.0    16000.0      16000.0          16000.0   60 months   \n1  68354783  73244544.0     9600.0       9600.0           9600.0   36 months   \n2  68466916  73356753.0    25000.0      25000.0          25000.0   36 months   \n3  68466961  73356799.0    28000.0      28000.0          28000.0   36 months   \n4  68495092  73384866.0     8650.0       8650.0           8650.0   36 months   \n\n  int_rate  installment grade sub_grade  ... num_tl_90g_dpd_24m  \\\n0   14.85%       379.39     C        C5  ...                0.0   \n1    7.49%       298.58     A        A4  ...                0.0   \n2    7.49%       777.55     A        A4  ...                0.0   \n3    6.49%       858.05     A        A2  ...                0.0   \n4   19.89%       320.99     E        E3  ...                0.0   \n\n  num_tl_op_past_12m pct_tl_nvr_dlq  percent_bc_gt_75 pub_rec_bankruptcies  \\\n0                2.0           78.9               0.0                  0.0   \n1                2.0          100.0              66.7                  0.0   \n2                0.0          100.0              20.0                  0.0   \n3                0.0           91.7              22.2                  0.0   \n4               12.0          100.0              50.0                  1.0   \n\n  tax_liens tot_hi_cred_lim total_bal_ex_mort total_bc_limit  \\\n0       2.0        298100.0           31329.0       281300.0   \n1       0.0         88635.0           55387.0        12500.0   \n2       0.0        373572.0           68056.0        38400.0   \n3       0.0        304003.0           74920.0        41500.0   \n4       0.0         38998.0           18926.0         2750.0   \n\n  total_il_high_credit_limit  \n0                    13400.0  \n1                    75635.0  \n2                    82117.0  \n3                    42503.0  \n4                    18248.0  \n\n[5 rows x 111 columns]"
     },
     "execution_count": 4,
     "metadata": {},
     "output_type": "execute_result"
    }
   ],
   "source": [
    "y2015.head()"
   ]
  },
  {
   "cell_type": "markdown",
   "execution_count": null,
   "metadata": {},
   "outputs": [],
   "source": [
    "### The Blind Approach\n",
    "\n",
    "Creating a model is the easy part.  Try using everything in the dataset into a Random Forest.  SKLearn requires the independent variables to be numeric, and all you want is dummy variables, so use `get_dummies` from Pandas to generate a dummy variable for each categorical column and see what happens off of this kind of naive approach."
   ]
  },
  {
   "cell_type": "code",
   "execution_count": 5,
   "metadata": {},
   "outputs": [],
   "source": [
    "rfc = ensemble.RandomForestClassifier()\n",
    "X = y2015.drop(\"loan_status\", 1)\n",
    "Y = y2015['loan_status']\n",
    "X = pd.get_dummies(X)\n",
    "\n",
    "cross_val_score(rfc,X, Y, cv=5)"
   ]
  },
  {
   "cell_type": "markdown",
   "execution_count": null,
   "metadata": {},
   "outputs": [],
   "source": [
    "This approach will probability crash your Jupyter kernel.\n",
    "\n",
    "### Data Cleaning \n",
    "\n",
    "Well, `get_dummies` can be a very memory intensive thing, particularly if dare typed poorly.  The warning thrown at import was evidence of that.  Mixed datatypes get converted to objects, and that could create huge problems.  The dataset is about 400,000 rows.  If there is a bad typ there it's going to see 400,000 distinct values and try to create dummies for all of them.  Look at the distinct values in the categorical columns.\n"
   ]
  },
  {
   "cell_type": "code",
   "execution_count": 6,
   "metadata": {},
   "outputs": [
    {
     "name": "stdout",
     "output_type": "stream",
     "text": "id:421097\nterm: 2\nint_rate: 110\ngrade: 7\nsub_grade: 35\nemp_title:120812\nemp_length: 11\nhome_ownership: 4\nverification_status: 3\nissue_d:12\nloan_status: 7\npymnt_plan: 1\nurl:421095\ndesc: 34\npurpose: 14\ntitle: 27\nzip_code: 914\naddr_state:49\nearliest_cr_line: 668\nrevol_util: 1211\ninitial_list_status: 2\nlast_pymnt_d: 25\nnext_pymnt_d: 4\nlast_credit_pull_d: 26\napplication_type: 2\nverification_status_joint: 3\n"
    }
   ],
   "source": [
    "categorical = y2015.select_dtypes(include=[\"object\"]) \n",
    "\n",
    "for i in categorical: \n",
    "    column = categorical[i]\n",
    "    print(f\"{i}: \", end=\"\")\n",
    "    print(column.nunique())"
   ]
  },
  {
   "cell_type": "markdown",
   "execution_count": null,
   "metadata": {},
   "outputs": [],
   "source": [
    "This gives you some idea of the problem.  Some of these have over a hunderd thousand distinct types.  Drop the ones with over 30 unique values, converting to numeric where it makes sense.  You could extract numeric featues from the dates, but here you'll just drop them.  There is a lot of data so it shouldn't be a problem.  There are also two summary rows at the end that need to be removed."
   ]
  },
  {
   "cell_type": "code",
   "execution_count": 7,
   "metadata": {},
   "outputs": [],
   "source": [
    "# Convert ID and Interest Rate to numeric.\n",
    "y2015['id'] = pd.to_numeric(y2015['id'], errors='coerce')\n",
    "y2015['int_rate'] = pd.to_numeric(y2015['int_rate'].str.strip('%'), errors='coerce')\n",
    "\n",
    "# Drop other columns with many unique variables\n",
    "y2015.drop(['url', 'emp_title', 'zip_code', 'earliest_cr_line', 'revol_util',\n",
    "            'sub_grade', 'addr_state', 'desc'], 1, inplace=True)\n",
    "\n",
    "y2015 = y2015[:-2]"
   ]
  },
  {
   "cell_type": "markdown",
   "execution_count": null,
   "metadata": {},
   "outputs": [],
   "source": [
    "Now, try and create the dummies again."
   ]
  },
  {
   "cell_type": "code",
   "execution_count": 8,
   "metadata": {},
   "outputs": [
    {
     "data": {
      "text/html": "<div>\n<style scoped>\n    .dataframe tbody tr th:only-of-type {\n        vertical-align: middle;\n    }\n\n    .dataframe tbody tr th {\n        vertical-align: top;\n    }\n\n    .dataframe thead th {\n        text-align: right;\n    }\n</style>\n<table border=\"1\" class=\"dataframe\">\n  <thead>\n    <tr style=\"text-align: right;\">\n      <th></th>\n      <th>id</th>\n      <th>member_id</th>\n      <th>loan_amnt</th>\n      <th>funded_amnt</th>\n      <th>funded_amnt_inv</th>\n      <th>int_rate</th>\n      <th>installment</th>\n      <th>annual_inc</th>\n      <th>dti</th>\n      <th>delinq_2yrs</th>\n      <th>...</th>\n      <th>last_credit_pull_d_Nov-2016</th>\n      <th>last_credit_pull_d_Oct-2015</th>\n      <th>last_credit_pull_d_Oct-2016</th>\n      <th>last_credit_pull_d_Sep-2015</th>\n      <th>last_credit_pull_d_Sep-2016</th>\n      <th>application_type_INDIVIDUAL</th>\n      <th>application_type_JOINT</th>\n      <th>verification_status_joint_Not Verified</th>\n      <th>verification_status_joint_Source Verified</th>\n      <th>verification_status_joint_Verified</th>\n    </tr>\n  </thead>\n  <tbody>\n    <tr>\n      <th>0</th>\n      <td>68009401.0</td>\n      <td>72868139.0</td>\n      <td>16000.0</td>\n      <td>16000.0</td>\n      <td>16000.0</td>\n      <td>14.85</td>\n      <td>379.39</td>\n      <td>48000.0</td>\n      <td>33.18</td>\n      <td>0.0</td>\n      <td>...</td>\n      <td>0</td>\n      <td>0</td>\n      <td>0</td>\n      <td>0</td>\n      <td>0</td>\n      <td>1</td>\n      <td>0</td>\n      <td>0</td>\n      <td>0</td>\n      <td>0</td>\n    </tr>\n    <tr>\n      <th>1</th>\n      <td>68354783.0</td>\n      <td>73244544.0</td>\n      <td>9600.0</td>\n      <td>9600.0</td>\n      <td>9600.0</td>\n      <td>7.49</td>\n      <td>298.58</td>\n      <td>60000.0</td>\n      <td>22.44</td>\n      <td>0.0</td>\n      <td>...</td>\n      <td>0</td>\n      <td>0</td>\n      <td>0</td>\n      <td>0</td>\n      <td>0</td>\n      <td>1</td>\n      <td>0</td>\n      <td>0</td>\n      <td>0</td>\n      <td>0</td>\n    </tr>\n    <tr>\n      <th>2</th>\n      <td>68466916.0</td>\n      <td>73356753.0</td>\n      <td>25000.0</td>\n      <td>25000.0</td>\n      <td>25000.0</td>\n      <td>7.49</td>\n      <td>777.55</td>\n      <td>109000.0</td>\n      <td>26.02</td>\n      <td>0.0</td>\n      <td>...</td>\n      <td>0</td>\n      <td>0</td>\n      <td>0</td>\n      <td>0</td>\n      <td>0</td>\n      <td>1</td>\n      <td>0</td>\n      <td>0</td>\n      <td>0</td>\n      <td>0</td>\n    </tr>\n    <tr>\n      <th>3</th>\n      <td>68466961.0</td>\n      <td>73356799.0</td>\n      <td>28000.0</td>\n      <td>28000.0</td>\n      <td>28000.0</td>\n      <td>6.49</td>\n      <td>858.05</td>\n      <td>92000.0</td>\n      <td>21.60</td>\n      <td>0.0</td>\n      <td>...</td>\n      <td>0</td>\n      <td>0</td>\n      <td>0</td>\n      <td>0</td>\n      <td>0</td>\n      <td>1</td>\n      <td>0</td>\n      <td>0</td>\n      <td>0</td>\n      <td>0</td>\n    </tr>\n    <tr>\n      <th>4</th>\n      <td>68495092.0</td>\n      <td>73384866.0</td>\n      <td>8650.0</td>\n      <td>8650.0</td>\n      <td>8650.0</td>\n      <td>19.89</td>\n      <td>320.99</td>\n      <td>55000.0</td>\n      <td>25.49</td>\n      <td>0.0</td>\n      <td>...</td>\n      <td>0</td>\n      <td>0</td>\n      <td>0</td>\n      <td>0</td>\n      <td>0</td>\n      <td>1</td>\n      <td>0</td>\n      <td>0</td>\n      <td>0</td>\n      <td>0</td>\n    </tr>\n    <tr>\n      <th>...</th>\n      <td>...</td>\n      <td>...</td>\n      <td>...</td>\n      <td>...</td>\n      <td>...</td>\n      <td>...</td>\n      <td>...</td>\n      <td>...</td>\n      <td>...</td>\n      <td>...</td>\n      <td>...</td>\n      <td>...</td>\n      <td>...</td>\n      <td>...</td>\n      <td>...</td>\n      <td>...</td>\n      <td>...</td>\n      <td>...</td>\n      <td>...</td>\n      <td>...</td>\n      <td>...</td>\n    </tr>\n    <tr>\n      <th>421090</th>\n      <td>36371250.0</td>\n      <td>39102635.0</td>\n      <td>10000.0</td>\n      <td>10000.0</td>\n      <td>10000.0</td>\n      <td>11.99</td>\n      <td>332.10</td>\n      <td>31000.0</td>\n      <td>28.69</td>\n      <td>0.0</td>\n      <td>...</td>\n      <td>0</td>\n      <td>0</td>\n      <td>0</td>\n      <td>0</td>\n      <td>0</td>\n      <td>1</td>\n      <td>0</td>\n      <td>0</td>\n      <td>0</td>\n      <td>0</td>\n    </tr>\n    <tr>\n      <th>421091</th>\n      <td>36441262.0</td>\n      <td>39152692.0</td>\n      <td>24000.0</td>\n      <td>24000.0</td>\n      <td>24000.0</td>\n      <td>11.99</td>\n      <td>797.03</td>\n      <td>79000.0</td>\n      <td>3.90</td>\n      <td>0.0</td>\n      <td>...</td>\n      <td>0</td>\n      <td>0</td>\n      <td>0</td>\n      <td>0</td>\n      <td>0</td>\n      <td>1</td>\n      <td>0</td>\n      <td>0</td>\n      <td>0</td>\n      <td>0</td>\n    </tr>\n    <tr>\n      <th>421092</th>\n      <td>36271333.0</td>\n      <td>38982739.0</td>\n      <td>13000.0</td>\n      <td>13000.0</td>\n      <td>13000.0</td>\n      <td>15.99</td>\n      <td>316.07</td>\n      <td>35000.0</td>\n      <td>30.90</td>\n      <td>0.0</td>\n      <td>...</td>\n      <td>0</td>\n      <td>0</td>\n      <td>0</td>\n      <td>0</td>\n      <td>0</td>\n      <td>1</td>\n      <td>0</td>\n      <td>0</td>\n      <td>0</td>\n      <td>0</td>\n    </tr>\n    <tr>\n      <th>421093</th>\n      <td>36490806.0</td>\n      <td>39222577.0</td>\n      <td>12000.0</td>\n      <td>12000.0</td>\n      <td>12000.0</td>\n      <td>19.99</td>\n      <td>317.86</td>\n      <td>64400.0</td>\n      <td>27.19</td>\n      <td>1.0</td>\n      <td>...</td>\n      <td>0</td>\n      <td>0</td>\n      <td>1</td>\n      <td>0</td>\n      <td>0</td>\n      <td>1</td>\n      <td>0</td>\n      <td>0</td>\n      <td>0</td>\n      <td>0</td>\n    </tr>\n    <tr>\n      <th>421094</th>\n      <td>36271262.0</td>\n      <td>38982659.0</td>\n      <td>20000.0</td>\n      <td>20000.0</td>\n      <td>20000.0</td>\n      <td>11.99</td>\n      <td>664.20</td>\n      <td>100000.0</td>\n      <td>10.83</td>\n      <td>0.0</td>\n      <td>...</td>\n      <td>0</td>\n      <td>0</td>\n      <td>0</td>\n      <td>0</td>\n      <td>0</td>\n      <td>1</td>\n      <td>0</td>\n      <td>0</td>\n      <td>0</td>\n      <td>0</td>\n    </tr>\n  </tbody>\n</table>\n<p>421095 rows × 237 columns</p>\n</div>",
      "text/plain": "                id   member_id  loan_amnt  funded_amnt  funded_amnt_inv  \\\n0       68009401.0  72868139.0    16000.0      16000.0          16000.0   \n1       68354783.0  73244544.0     9600.0       9600.0           9600.0   \n2       68466916.0  73356753.0    25000.0      25000.0          25000.0   \n3       68466961.0  73356799.0    28000.0      28000.0          28000.0   \n4       68495092.0  73384866.0     8650.0       8650.0           8650.0   \n...            ...         ...        ...          ...              ...   \n421090  36371250.0  39102635.0    10000.0      10000.0          10000.0   \n421091  36441262.0  39152692.0    24000.0      24000.0          24000.0   \n421092  36271333.0  38982739.0    13000.0      13000.0          13000.0   \n421093  36490806.0  39222577.0    12000.0      12000.0          12000.0   \n421094  36271262.0  38982659.0    20000.0      20000.0          20000.0   \n\n        int_rate  installment  annual_inc    dti  delinq_2yrs  ...  \\\n0          14.85       379.39     48000.0  33.18          0.0  ...   \n1           7.49       298.58     60000.0  22.44          0.0  ...   \n2           7.49       777.55    109000.0  26.02          0.0  ...   \n3           6.49       858.05     92000.0  21.60          0.0  ...   \n4          19.89       320.99     55000.0  25.49          0.0  ...   \n...          ...          ...         ...    ...          ...  ...   \n421090     11.99       332.10     31000.0  28.69          0.0  ...   \n421091     11.99       797.03     79000.0   3.90          0.0  ...   \n421092     15.99       316.07     35000.0  30.90          0.0  ...   \n421093     19.99       317.86     64400.0  27.19          1.0  ...   \n421094     11.99       664.20    100000.0  10.83          0.0  ...   \n\n        last_credit_pull_d_Nov-2016  last_credit_pull_d_Oct-2015  \\\n0                                 0                            0   \n1                                 0                            0   \n2                                 0                            0   \n3                                 0                            0   \n4                                 0                            0   \n...                             ...                          ...   \n421090                            0                            0   \n421091                            0                            0   \n421092                            0                            0   \n421093                            0                            0   \n421094                            0                            0   \n\n        last_credit_pull_d_Oct-2016  last_credit_pull_d_Sep-2015  \\\n0                                 0                            0   \n1                                 0                            0   \n2                                 0                            0   \n3                                 0                            0   \n4                                 0                            0   \n...                             ...                          ...   \n421090                            0                            0   \n421091                            0                            0   \n421092                            0                            0   \n421093                            1                            0   \n421094                            0                            0   \n\n        last_credit_pull_d_Sep-2016  application_type_INDIVIDUAL  \\\n0                                 0                            1   \n1                                 0                            1   \n2                                 0                            1   \n3                                 0                            1   \n4                                 0                            1   \n...                             ...                          ...   \n421090                            0                            1   \n421091                            0                            1   \n421092                            0                            1   \n421093                            0                            1   \n421094                            0                            1   \n\n        application_type_JOINT  verification_status_joint_Not Verified  \\\n0                            0                                       0   \n1                            0                                       0   \n2                            0                                       0   \n3                            0                                       0   \n4                            0                                       0   \n...                        ...                                     ...   \n421090                       0                                       0   \n421091                       0                                       0   \n421092                       0                                       0   \n421093                       0                                       0   \n421094                       0                                       0   \n\n        verification_status_joint_Source Verified  \\\n0                                               0   \n1                                               0   \n2                                               0   \n3                                               0   \n4                                               0   \n...                                           ...   \n421090                                          0   \n421091                                          0   \n421092                                          0   \n421093                                          0   \n421094                                          0   \n\n        verification_status_joint_Verified  \n0                                        0  \n1                                        0  \n2                                        0  \n3                                        0  \n4                                        0  \n...                                    ...  \n421090                                   0  \n421091                                   0  \n421092                                   0  \n421093                                   0  \n421094                                   0  \n\n[421095 rows x 237 columns]"
     },
     "execution_count": 8,
     "metadata": {},
     "output_type": "execute_result"
    }
   ],
   "source": [
    "pd.get_dummies(y2015)"
   ]
  },
  {
   "cell_type": "markdown",
   "execution_count": null,
   "metadata": {},
   "outputs": [],
   "source": [
    "That worked but you had to sacrifice several columns of data but in this case it's okay.\n",
    "\n",
    "### Second Attempt\n",
    "\n",
    "In this attempt, NA columns will be dropped, rather than imputed."
   ]
  },
  {
   "cell_type": "code",
   "execution_count": 22,
   "metadata": {},
   "outputs": [
    {
     "data": {
      "text/plain": "array([0.98188079, 0.98112087, 0.98209451, 0.98192828, 0.98100214,\n       0.98019426, 0.96499561, 0.98100169, 0.98107293, 0.98097794])"
     },
     "execution_count": 22,
     "metadata": {},
     "output_type": "execute_result"
    }
   ],
   "source": [
    "from sklearn import ensemble\n",
    "from sklearn.model_selection import cross_val_score\n",
    "\n",
    "rfc = ensemble.RandomForestClassifier()\n",
    "X = y2015.drop('loan_status', 1)\n",
    "Y = y2015['loan_status']\n",
    "X = pd.get_dummies(X)\n",
    "X = X.dropna(axis=1)\n",
    "\n",
    "cross_val_score(rfc, X, Y, cv=10)"
   ]
  },
  {
   "cell_type": "markdown",
   "execution_count": null,
   "metadata": {},
   "outputs": [],
   "source": [
    "The score cross validation reports is the accuracy of the tree. Here we're about 98% accurate.\n",
    "\n",
    "That works pretty well, but there are a few potential problems. Firstly, we didn't really do much in the way of feature selection or model refinement. As such there are a lot of features in there that we don't really need. Some of them are actually quite impressively useless.\n",
    "\n",
    "There's also some variance in the scores. The fact that one gave us only 93% accuracy while others gave higher than 98 is concerning. This variance could be corrected by increasing the number of estimators. That will make it take even longer to run, however, and it is already quite slow."
   ]
  },
  {
   "cell_type": "markdown",
   "execution_count": null,
   "metadata": {},
   "outputs": [],
   "source": [
    "## DRILL: Third Attempt\n",
    "\n",
    "So here's your task. Get rid of as much data as possible without dropping below an average of 90% accuracy in a 10-fold cross validation.\n",
    "\n",
    "You'll want to do a few things in this process. First, dive into the data that we have and see which features are most important. This can be the raw features or the generated dummies. You may want to use PCA or correlation matrices.\n",
    "\n",
    "Can you do it without using anything related to payment amount or outstanding principal? How do you know?"
   ]
  },
  {
   "cell_type": "markdown",
   "execution_count": null,
   "metadata": {},
   "outputs": [],
   "source": [
    "I didn't know what to do with this until I came across this article: [Scale, Standardize, or Normalize with Scikit-Learn](https://towardsdatascience.com/scale-standardize-or-normalize-with-scikit-learn-6ccc7d176a02).  The article discussed several Scikit-Learn libries: _MinMaxScaler, RobustScaler, and Normalizer_.  Additionally, [PCA using Python (scikit-learn)](https://towardsdatascience.com/pca-using-python-scikit-learn-e653f8989e60) discusses the PCA library in Scikit-Learn."
   ]
  },
  {
   "cell_type": "code",
   "execution_count": 60,
   "metadata": {},
   "outputs": [],
   "source": [
    "# reload the dataset \n",
    "y2015b = pd.read_csv(\"F:\\\\thinkful\\Data_Science\\\\21_supervised_learning_random_forest_models\\\\LoanStats3d.csv\", skipinitialspace=True, header=1, skipfooter=5, engine=\"python\")"
   ]
  },
  {
   "cell_type": "code",
   "execution_count": 61,
   "metadata": {},
   "outputs": [],
   "source": [
    "# Convert ID and Interest Rate to numeric.\n",
    "y2015b['id'] = pd.to_numeric(y2015b['id'], errors='coerce')\n",
    "y2015b['int_rate'] = pd.to_numeric(y2015b['int_rate'].str.strip('%'), errors='coerce')\n",
    "\n",
    "# Drop other columns with many unique variables\n",
    "y2015b.drop(['url', 'emp_title', 'zip_code', 'earliest_cr_line', 'revol_util',\n",
    "            'sub_grade', 'addr_state', 'desc'], 1, inplace=True)"
   ]
  },
  {
   "cell_type": "code",
   "execution_count": 86,
   "metadata": {},
   "outputs": [],
   "source": [
    "# Split the data into continuous and categorical \n",
    "y2015_contin = y2015b.iloc[:,2:].copy().select_dtypes(include=[\"float64\",\"int64\"]) # Continuous Columns\n",
    "y2015_cat = y2015b.copy().select_dtypes(include=\"object\") # Categorical Columns\n",
    "# pd.get_dummies(y2015b)"
   ]
  },
  {
   "cell_type": "code",
   "execution_count": 95,
   "metadata": {},
   "outputs": [
    {
     "data": {
      "text/html": "<div>\n<style scoped>\n    .dataframe tbody tr th:only-of-type {\n        vertical-align: middle;\n    }\n\n    .dataframe tbody tr th {\n        vertical-align: top;\n    }\n\n    .dataframe thead th {\n        text-align: right;\n    }\n</style>\n<table border=\"1\" class=\"dataframe\">\n  <thead>\n    <tr style=\"text-align: right;\">\n      <th></th>\n      <th>loan_amnt</th>\n      <th>funded_amnt</th>\n      <th>funded_amnt_inv</th>\n      <th>int_rate</th>\n      <th>installment</th>\n      <th>annual_inc</th>\n      <th>dti</th>\n      <th>delinq_2yrs</th>\n      <th>inq_last_6mths</th>\n      <th>mths_since_last_delinq</th>\n      <th>...</th>\n      <th>num_tl_90g_dpd_24m</th>\n      <th>num_tl_op_past_12m</th>\n      <th>pct_tl_nvr_dlq</th>\n      <th>percent_bc_gt_75</th>\n      <th>pub_rec_bankruptcies</th>\n      <th>tax_liens</th>\n      <th>tot_hi_cred_lim</th>\n      <th>total_bal_ex_mort</th>\n      <th>total_bc_limit</th>\n      <th>total_il_high_credit_limit</th>\n    </tr>\n  </thead>\n  <tbody>\n    <tr>\n      <th>0</th>\n      <td>0.441176</td>\n      <td>0.441176</td>\n      <td>0.442815</td>\n      <td>0.402619</td>\n      <td>0.250334</td>\n      <td>0.005053</td>\n      <td>0.003318</td>\n      <td>0.000000</td>\n      <td>0.000000</td>\n      <td>0.187500</td>\n      <td>...</td>\n      <td>0.000000</td>\n      <td>0.066667</td>\n      <td>0.789</td>\n      <td>0.000</td>\n      <td>0.000000</td>\n      <td>0.023529</td>\n      <td>0.029567</td>\n      <td>0.010723</td>\n      <td>0.337169</td>\n      <td>0.006375</td>\n    </tr>\n    <tr>\n      <th>1</th>\n      <td>0.252941</td>\n      <td>0.252941</td>\n      <td>0.255132</td>\n      <td>0.091677</td>\n      <td>0.193508</td>\n      <td>0.006316</td>\n      <td>0.002244</td>\n      <td>0.000000</td>\n      <td>0.000000</td>\n      <td>0.000000</td>\n      <td>...</td>\n      <td>0.000000</td>\n      <td>0.066667</td>\n      <td>1.000</td>\n      <td>0.667</td>\n      <td>0.000000</td>\n      <td>0.000000</td>\n      <td>0.008616</td>\n      <td>0.018958</td>\n      <td>0.014983</td>\n      <td>0.035984</td>\n    </tr>\n    <tr>\n      <th>2</th>\n      <td>0.705882</td>\n      <td>0.705882</td>\n      <td>0.706745</td>\n      <td>0.091677</td>\n      <td>0.530322</td>\n      <td>0.011474</td>\n      <td>0.002602</td>\n      <td>0.000000</td>\n      <td>0.166667</td>\n      <td>0.000000</td>\n      <td>...</td>\n      <td>0.000000</td>\n      <td>0.000000</td>\n      <td>1.000</td>\n      <td>0.200</td>\n      <td>0.000000</td>\n      <td>0.000000</td>\n      <td>0.037116</td>\n      <td>0.023294</td>\n      <td>0.046027</td>\n      <td>0.039068</td>\n    </tr>\n    <tr>\n      <th>3</th>\n      <td>0.794118</td>\n      <td>0.794118</td>\n      <td>0.794721</td>\n      <td>0.049430</td>\n      <td>0.586930</td>\n      <td>0.009684</td>\n      <td>0.002160</td>\n      <td>0.000000</td>\n      <td>0.000000</td>\n      <td>0.238636</td>\n      <td>...</td>\n      <td>0.000000</td>\n      <td>0.000000</td>\n      <td>0.917</td>\n      <td>0.222</td>\n      <td>0.000000</td>\n      <td>0.000000</td>\n      <td>0.030158</td>\n      <td>0.025644</td>\n      <td>0.049742</td>\n      <td>0.020221</td>\n    </tr>\n    <tr>\n      <th>4</th>\n      <td>0.225000</td>\n      <td>0.225000</td>\n      <td>0.227273</td>\n      <td>0.615547</td>\n      <td>0.209267</td>\n      <td>0.005789</td>\n      <td>0.002549</td>\n      <td>0.000000</td>\n      <td>0.666667</td>\n      <td>0.000000</td>\n      <td>...</td>\n      <td>0.000000</td>\n      <td>0.400000</td>\n      <td>1.000</td>\n      <td>0.500</td>\n      <td>0.090909</td>\n      <td>0.000000</td>\n      <td>0.003651</td>\n      <td>0.006478</td>\n      <td>0.003296</td>\n      <td>0.008682</td>\n    </tr>\n    <tr>\n      <th>...</th>\n      <td>...</td>\n      <td>...</td>\n      <td>...</td>\n      <td>...</td>\n      <td>...</td>\n      <td>...</td>\n      <td>...</td>\n      <td>...</td>\n      <td>...</td>\n      <td>...</td>\n      <td>...</td>\n      <td>...</td>\n      <td>...</td>\n      <td>...</td>\n      <td>...</td>\n      <td>...</td>\n      <td>...</td>\n      <td>...</td>\n      <td>...</td>\n      <td>...</td>\n      <td>...</td>\n    </tr>\n    <tr>\n      <th>421089</th>\n      <td>0.323529</td>\n      <td>0.323529</td>\n      <td>0.325513</td>\n      <td>0.281791</td>\n      <td>0.263786</td>\n      <td>0.006632</td>\n      <td>0.002369</td>\n      <td>0.025641</td>\n      <td>0.000000</td>\n      <td>0.051136</td>\n      <td>...</td>\n      <td>0.025641</td>\n      <td>0.100000</td>\n      <td>0.983</td>\n      <td>0.500</td>\n      <td>0.000000</td>\n      <td>0.000000</td>\n      <td>0.032306</td>\n      <td>0.038675</td>\n      <td>0.018459</td>\n      <td>0.046684</td>\n    </tr>\n    <tr>\n      <th>421090</th>\n      <td>0.264706</td>\n      <td>0.264706</td>\n      <td>0.266862</td>\n      <td>0.281791</td>\n      <td>0.217079</td>\n      <td>0.003263</td>\n      <td>0.002869</td>\n      <td>0.000000</td>\n      <td>0.000000</td>\n      <td>0.000000</td>\n      <td>...</td>\n      <td>0.000000</td>\n      <td>0.033333</td>\n      <td>1.000</td>\n      <td>1.000</td>\n      <td>0.000000</td>\n      <td>0.000000</td>\n      <td>0.003046</td>\n      <td>0.008651</td>\n      <td>0.011027</td>\n      <td>0.007541</td>\n    </tr>\n    <tr>\n      <th>421091</th>\n      <td>0.676471</td>\n      <td>0.676471</td>\n      <td>0.677419</td>\n      <td>0.281791</td>\n      <td>0.544021</td>\n      <td>0.008316</td>\n      <td>0.000390</td>\n      <td>0.000000</td>\n      <td>0.166667</td>\n      <td>0.147727</td>\n      <td>...</td>\n      <td>0.000000</td>\n      <td>0.066667</td>\n      <td>0.565</td>\n      <td>1.000</td>\n      <td>0.000000</td>\n      <td>0.000000</td>\n      <td>0.015019</td>\n      <td>0.002951</td>\n      <td>0.010787</td>\n      <td>0.000000</td>\n    </tr>\n    <tr>\n      <th>421092</th>\n      <td>0.352941</td>\n      <td>0.352941</td>\n      <td>0.354839</td>\n      <td>0.450782</td>\n      <td>0.205807</td>\n      <td>0.003684</td>\n      <td>0.003090</td>\n      <td>0.000000</td>\n      <td>0.000000</td>\n      <td>0.000000</td>\n      <td>...</td>\n      <td>0.000000</td>\n      <td>0.100000</td>\n      <td>1.000</td>\n      <td>0.500</td>\n      <td>0.090909</td>\n      <td>0.000000</td>\n      <td>0.004875</td>\n      <td>0.011699</td>\n      <td>0.012705</td>\n      <td>0.015814</td>\n    </tr>\n    <tr>\n      <th>421093</th>\n      <td>0.323529</td>\n      <td>0.323529</td>\n      <td>0.325513</td>\n      <td>0.619772</td>\n      <td>0.207066</td>\n      <td>0.006779</td>\n      <td>0.002719</td>\n      <td>0.025641</td>\n      <td>0.333333</td>\n      <td>0.125000</td>\n      <td>...</td>\n      <td>0.025641</td>\n      <td>0.066667</td>\n      <td>0.950</td>\n      <td>0.667</td>\n      <td>0.000000</td>\n      <td>0.000000</td>\n      <td>0.009444</td>\n      <td>0.019996</td>\n      <td>0.011627</td>\n      <td>0.033264</td>\n    </tr>\n  </tbody>\n</table>\n<p>421094 rows × 85 columns</p>\n</div>",
      "text/plain": "        loan_amnt  funded_amnt  funded_amnt_inv  int_rate  installment  \\\n0        0.441176     0.441176         0.442815  0.402619     0.250334   \n1        0.252941     0.252941         0.255132  0.091677     0.193508   \n2        0.705882     0.705882         0.706745  0.091677     0.530322   \n3        0.794118     0.794118         0.794721  0.049430     0.586930   \n4        0.225000     0.225000         0.227273  0.615547     0.209267   \n...           ...          ...              ...       ...          ...   \n421089   0.323529     0.323529         0.325513  0.281791     0.263786   \n421090   0.264706     0.264706         0.266862  0.281791     0.217079   \n421091   0.676471     0.676471         0.677419  0.281791     0.544021   \n421092   0.352941     0.352941         0.354839  0.450782     0.205807   \n421093   0.323529     0.323529         0.325513  0.619772     0.207066   \n\n        annual_inc       dti  delinq_2yrs  inq_last_6mths  \\\n0         0.005053  0.003318     0.000000        0.000000   \n1         0.006316  0.002244     0.000000        0.000000   \n2         0.011474  0.002602     0.000000        0.166667   \n3         0.009684  0.002160     0.000000        0.000000   \n4         0.005789  0.002549     0.000000        0.666667   \n...            ...       ...          ...             ...   \n421089    0.006632  0.002369     0.025641        0.000000   \n421090    0.003263  0.002869     0.000000        0.000000   \n421091    0.008316  0.000390     0.000000        0.166667   \n421092    0.003684  0.003090     0.000000        0.000000   \n421093    0.006779  0.002719     0.025641        0.333333   \n\n        mths_since_last_delinq  ...  num_tl_90g_dpd_24m  num_tl_op_past_12m  \\\n0                     0.187500  ...            0.000000            0.066667   \n1                     0.000000  ...            0.000000            0.066667   \n2                     0.000000  ...            0.000000            0.000000   \n3                     0.238636  ...            0.000000            0.000000   \n4                     0.000000  ...            0.000000            0.400000   \n...                        ...  ...                 ...                 ...   \n421089                0.051136  ...            0.025641            0.100000   \n421090                0.000000  ...            0.000000            0.033333   \n421091                0.147727  ...            0.000000            0.066667   \n421092                0.000000  ...            0.000000            0.100000   \n421093                0.125000  ...            0.025641            0.066667   \n\n        pct_tl_nvr_dlq  percent_bc_gt_75  pub_rec_bankruptcies  tax_liens  \\\n0                0.789             0.000              0.000000   0.023529   \n1                1.000             0.667              0.000000   0.000000   \n2                1.000             0.200              0.000000   0.000000   \n3                0.917             0.222              0.000000   0.000000   \n4                1.000             0.500              0.090909   0.000000   \n...                ...               ...                   ...        ...   \n421089           0.983             0.500              0.000000   0.000000   \n421090           1.000             1.000              0.000000   0.000000   \n421091           0.565             1.000              0.000000   0.000000   \n421092           1.000             0.500              0.090909   0.000000   \n421093           0.950             0.667              0.000000   0.000000   \n\n        tot_hi_cred_lim  total_bal_ex_mort  total_bc_limit  \\\n0              0.029567           0.010723        0.337169   \n1              0.008616           0.018958        0.014983   \n2              0.037116           0.023294        0.046027   \n3              0.030158           0.025644        0.049742   \n4              0.003651           0.006478        0.003296   \n...                 ...                ...             ...   \n421089         0.032306           0.038675        0.018459   \n421090         0.003046           0.008651        0.011027   \n421091         0.015019           0.002951        0.010787   \n421092         0.004875           0.011699        0.012705   \n421093         0.009444           0.019996        0.011627   \n\n        total_il_high_credit_limit  \n0                         0.006375  \n1                         0.035984  \n2                         0.039068  \n3                         0.020221  \n4                         0.008682  \n...                            ...  \n421089                    0.046684  \n421090                    0.007541  \n421091                    0.000000  \n421092                    0.015814  \n421093                    0.033264  \n\n[421094 rows x 85 columns]"
     },
     "execution_count": 95,
     "metadata": {},
     "output_type": "execute_result"
    }
   ],
   "source": [
    "# Scale the data using the preprocessing scaler\n",
    "# y2015_scaled =  pd.DataFrame(preprocessing.scale(y2015_contin), columns=y2015_contin.columns)\n",
    "scaler = preprocessing.MinMaxScaler()\n",
    "scaler.fit(y2015_contin)\n",
    "# print(scaler.transform(y2015_contin))\n",
    "y2015_scaled = pd.DataFrame(scaler.transform(y2015_contin), columns=y2015_contin.columns)\n",
    "# Replace infinate values with nans\n",
    "y2015_scaled = y2015_scaled.replace([np.inf,-np.inf],np.nan)\n",
    "# Now replace nans with 0\n",
    "y2015_scaled = y2015_scaled.fillna(0)\n",
    "y2015_scaled"
   ]
  },
  {
   "cell_type": "code",
   "execution_count": 107,
   "metadata": {},
   "outputs": [],
   "source": [
    "# Run the PCA, setting the nummber of features\n",
    "pca = PCA(n_components=10)\n",
    "\n",
    "# Return an array of transfomed values\n",
    "pca.fit_transform(y2015_scaled);"
   ]
  },
  {
   "cell_type": "code",
   "execution_count": 110,
   "metadata": {},
   "outputs": [
    {
     "data": {
      "text/plain": "44"
     },
     "execution_count": 110,
     "metadata": {},
     "output_type": "execute_result"
    }
   ],
   "source": [
    "# Build a DataFrame of values from the PCA analysis\n",
    "pca_df = pd.DataFrame(pca.components_,columns=y2015_contin.columns,index=range(10))\n",
    "\n",
    "pca_df = np.abs(pca_df)\n",
    "\n",
    "# Declare a set to store the continuous features\n",
    "top_feaures = set()\n",
    "\n",
    "for idx,row in pca_df.iterrows():\n",
    "    # Return a series of correlations sorted from Top to Bottom\n",
    "    top_row = row.sort_values(ascending=False)[:10]\n",
    "    # Update the features set with the sorted values\n",
    "    top_feaures.update(list(top_row.index))"
   ]
  },
  {
   "cell_type": "code",
   "execution_count": 119,
   "metadata": {},
   "outputs": [
    {
     "data": {
      "text/html": "<div>\n<style scoped>\n    .dataframe tbody tr th:only-of-type {\n        vertical-align: middle;\n    }\n\n    .dataframe tbody tr th {\n        vertical-align: top;\n    }\n\n    .dataframe thead th {\n        text-align: right;\n    }\n</style>\n<table border=\"1\" class=\"dataframe\">\n  <thead>\n    <tr style=\"text-align: right;\">\n      <th></th>\n      <th>term_ 36 months</th>\n      <th>term_ 60 months</th>\n      <th>grade_A</th>\n      <th>grade_B</th>\n      <th>grade_C</th>\n      <th>grade_D</th>\n      <th>grade_E</th>\n      <th>grade_F</th>\n      <th>grade_G</th>\n      <th>emp_length_1 year</th>\n      <th>...</th>\n      <th>last_credit_pull_d_Nov-2016</th>\n      <th>last_credit_pull_d_Oct-2015</th>\n      <th>last_credit_pull_d_Oct-2016</th>\n      <th>last_credit_pull_d_Sep-2015</th>\n      <th>last_credit_pull_d_Sep-2016</th>\n      <th>application_type_INDIVIDUAL</th>\n      <th>application_type_JOINT</th>\n      <th>verification_status_joint_Not Verified</th>\n      <th>verification_status_joint_Source Verified</th>\n      <th>verification_status_joint_Verified</th>\n    </tr>\n  </thead>\n  <tbody>\n    <tr>\n      <th>0</th>\n      <td>0</td>\n      <td>1</td>\n      <td>0</td>\n      <td>0</td>\n      <td>1</td>\n      <td>0</td>\n      <td>0</td>\n      <td>0</td>\n      <td>0</td>\n      <td>0</td>\n      <td>...</td>\n      <td>0</td>\n      <td>0</td>\n      <td>0</td>\n      <td>0</td>\n      <td>0</td>\n      <td>1</td>\n      <td>0</td>\n      <td>0</td>\n      <td>0</td>\n      <td>0</td>\n    </tr>\n    <tr>\n      <th>1</th>\n      <td>1</td>\n      <td>0</td>\n      <td>1</td>\n      <td>0</td>\n      <td>0</td>\n      <td>0</td>\n      <td>0</td>\n      <td>0</td>\n      <td>0</td>\n      <td>0</td>\n      <td>...</td>\n      <td>0</td>\n      <td>0</td>\n      <td>0</td>\n      <td>0</td>\n      <td>0</td>\n      <td>1</td>\n      <td>0</td>\n      <td>0</td>\n      <td>0</td>\n      <td>0</td>\n    </tr>\n    <tr>\n      <th>2</th>\n      <td>1</td>\n      <td>0</td>\n      <td>1</td>\n      <td>0</td>\n      <td>0</td>\n      <td>0</td>\n      <td>0</td>\n      <td>0</td>\n      <td>0</td>\n      <td>0</td>\n      <td>...</td>\n      <td>0</td>\n      <td>0</td>\n      <td>0</td>\n      <td>0</td>\n      <td>0</td>\n      <td>1</td>\n      <td>0</td>\n      <td>0</td>\n      <td>0</td>\n      <td>0</td>\n    </tr>\n    <tr>\n      <th>3</th>\n      <td>1</td>\n      <td>0</td>\n      <td>1</td>\n      <td>0</td>\n      <td>0</td>\n      <td>0</td>\n      <td>0</td>\n      <td>0</td>\n      <td>0</td>\n      <td>0</td>\n      <td>...</td>\n      <td>0</td>\n      <td>0</td>\n      <td>0</td>\n      <td>0</td>\n      <td>0</td>\n      <td>1</td>\n      <td>0</td>\n      <td>0</td>\n      <td>0</td>\n      <td>0</td>\n    </tr>\n    <tr>\n      <th>4</th>\n      <td>1</td>\n      <td>0</td>\n      <td>0</td>\n      <td>0</td>\n      <td>0</td>\n      <td>0</td>\n      <td>1</td>\n      <td>0</td>\n      <td>0</td>\n      <td>0</td>\n      <td>...</td>\n      <td>0</td>\n      <td>0</td>\n      <td>0</td>\n      <td>0</td>\n      <td>0</td>\n      <td>1</td>\n      <td>0</td>\n      <td>0</td>\n      <td>0</td>\n      <td>0</td>\n    </tr>\n    <tr>\n      <th>...</th>\n      <td>...</td>\n      <td>...</td>\n      <td>...</td>\n      <td>...</td>\n      <td>...</td>\n      <td>...</td>\n      <td>...</td>\n      <td>...</td>\n      <td>...</td>\n      <td>...</td>\n      <td>...</td>\n      <td>...</td>\n      <td>...</td>\n      <td>...</td>\n      <td>...</td>\n      <td>...</td>\n      <td>...</td>\n      <td>...</td>\n      <td>...</td>\n      <td>...</td>\n      <td>...</td>\n    </tr>\n    <tr>\n      <th>421089</th>\n      <td>1</td>\n      <td>0</td>\n      <td>0</td>\n      <td>1</td>\n      <td>0</td>\n      <td>0</td>\n      <td>0</td>\n      <td>0</td>\n      <td>0</td>\n      <td>0</td>\n      <td>...</td>\n      <td>0</td>\n      <td>0</td>\n      <td>0</td>\n      <td>0</td>\n      <td>0</td>\n      <td>1</td>\n      <td>0</td>\n      <td>0</td>\n      <td>0</td>\n      <td>0</td>\n    </tr>\n    <tr>\n      <th>421090</th>\n      <td>1</td>\n      <td>0</td>\n      <td>0</td>\n      <td>1</td>\n      <td>0</td>\n      <td>0</td>\n      <td>0</td>\n      <td>0</td>\n      <td>0</td>\n      <td>0</td>\n      <td>...</td>\n      <td>0</td>\n      <td>0</td>\n      <td>0</td>\n      <td>0</td>\n      <td>0</td>\n      <td>1</td>\n      <td>0</td>\n      <td>0</td>\n      <td>0</td>\n      <td>0</td>\n    </tr>\n    <tr>\n      <th>421091</th>\n      <td>1</td>\n      <td>0</td>\n      <td>0</td>\n      <td>1</td>\n      <td>0</td>\n      <td>0</td>\n      <td>0</td>\n      <td>0</td>\n      <td>0</td>\n      <td>0</td>\n      <td>...</td>\n      <td>0</td>\n      <td>0</td>\n      <td>0</td>\n      <td>0</td>\n      <td>0</td>\n      <td>1</td>\n      <td>0</td>\n      <td>0</td>\n      <td>0</td>\n      <td>0</td>\n    </tr>\n    <tr>\n      <th>421092</th>\n      <td>0</td>\n      <td>1</td>\n      <td>0</td>\n      <td>0</td>\n      <td>0</td>\n      <td>1</td>\n      <td>0</td>\n      <td>0</td>\n      <td>0</td>\n      <td>0</td>\n      <td>...</td>\n      <td>0</td>\n      <td>0</td>\n      <td>0</td>\n      <td>0</td>\n      <td>0</td>\n      <td>1</td>\n      <td>0</td>\n      <td>0</td>\n      <td>0</td>\n      <td>0</td>\n    </tr>\n    <tr>\n      <th>421093</th>\n      <td>0</td>\n      <td>1</td>\n      <td>0</td>\n      <td>0</td>\n      <td>0</td>\n      <td>0</td>\n      <td>1</td>\n      <td>0</td>\n      <td>0</td>\n      <td>1</td>\n      <td>...</td>\n      <td>0</td>\n      <td>0</td>\n      <td>1</td>\n      <td>0</td>\n      <td>0</td>\n      <td>1</td>\n      <td>0</td>\n      <td>0</td>\n      <td>0</td>\n      <td>0</td>\n    </tr>\n  </tbody>\n</table>\n<p>421094 rows × 150 columns</p>\n</div>",
      "text/plain": "        term_ 36 months  term_ 60 months  grade_A  grade_B  grade_C  grade_D  \\\n0                     0                1        0        0        1        0   \n1                     1                0        1        0        0        0   \n2                     1                0        1        0        0        0   \n3                     1                0        1        0        0        0   \n4                     1                0        0        0        0        0   \n...                 ...              ...      ...      ...      ...      ...   \n421089                1                0        0        1        0        0   \n421090                1                0        0        1        0        0   \n421091                1                0        0        1        0        0   \n421092                0                1        0        0        0        1   \n421093                0                1        0        0        0        0   \n\n        grade_E  grade_F  grade_G  emp_length_1 year  ...  \\\n0             0        0        0                  0  ...   \n1             0        0        0                  0  ...   \n2             0        0        0                  0  ...   \n3             0        0        0                  0  ...   \n4             1        0        0                  0  ...   \n...         ...      ...      ...                ...  ...   \n421089        0        0        0                  0  ...   \n421090        0        0        0                  0  ...   \n421091        0        0        0                  0  ...   \n421092        0        0        0                  0  ...   \n421093        1        0        0                  1  ...   \n\n        last_credit_pull_d_Nov-2016  last_credit_pull_d_Oct-2015  \\\n0                                 0                            0   \n1                                 0                            0   \n2                                 0                            0   \n3                                 0                            0   \n4                                 0                            0   \n...                             ...                          ...   \n421089                            0                            0   \n421090                            0                            0   \n421091                            0                            0   \n421092                            0                            0   \n421093                            0                            0   \n\n        last_credit_pull_d_Oct-2016  last_credit_pull_d_Sep-2015  \\\n0                                 0                            0   \n1                                 0                            0   \n2                                 0                            0   \n3                                 0                            0   \n4                                 0                            0   \n...                             ...                          ...   \n421089                            0                            0   \n421090                            0                            0   \n421091                            0                            0   \n421092                            0                            0   \n421093                            1                            0   \n\n        last_credit_pull_d_Sep-2016  application_type_INDIVIDUAL  \\\n0                                 0                            1   \n1                                 0                            1   \n2                                 0                            1   \n3                                 0                            1   \n4                                 0                            1   \n...                             ...                          ...   \n421089                            0                            1   \n421090                            0                            1   \n421091                            0                            1   \n421092                            0                            1   \n421093                            0                            1   \n\n        application_type_JOINT  verification_status_joint_Not Verified  \\\n0                            0                                       0   \n1                            0                                       0   \n2                            0                                       0   \n3                            0                                       0   \n4                            0                                       0   \n...                        ...                                     ...   \n421089                       0                                       0   \n421090                       0                                       0   \n421091                       0                                       0   \n421092                       0                                       0   \n421093                       0                                       0   \n\n        verification_status_joint_Source Verified  \\\n0                                               0   \n1                                               0   \n2                                               0   \n3                                               0   \n4                                               0   \n...                                           ...   \n421089                                          0   \n421090                                          0   \n421091                                          0   \n421092                                          0   \n421093                                          0   \n\n        verification_status_joint_Verified  \n0                                        0  \n1                                        0  \n2                                        0  \n3                                        0  \n4                                        0  \n...                                    ...  \n421089                                   0  \n421090                                   0  \n421091                                   0  \n421092                                   0  \n421093                                   0  \n\n[421094 rows x 150 columns]"
     },
     "execution_count": 119,
     "metadata": {},
     "output_type": "execute_result"
    }
   ],
   "source": [
    "# Loop over the categorical columns and create dummies\n",
    "y2015_dummied = pd.get_dummies(y2015_cat)\n",
    "\n",
    "y2015_dummied"
   ]
  },
  {
   "cell_type": "code",
   "execution_count": 154,
   "metadata": {},
   "outputs": [],
   "source": [
    "# Bring dataframes together for a new model \n",
    "model = pd.concat([y2015_dummied.copy(),y2015b[\"loan_status\"].copy(),y2015b[list(top_feaures)]].copy(),axis=1)"
   ]
  },
  {
   "cell_type": "code",
   "execution_count": 160,
   "metadata": {},
   "outputs": [
    {
     "data": {
      "text/plain": "array([1., 1., 1., 1., 1., 1., 1., 1., 1., 1.])"
     },
     "execution_count": 160,
     "metadata": {},
     "output_type": "execute_result"
    }
   ],
   "source": [
    "# Rerun the model and compare the results\n",
    "rfc2 = ensemble.RandomForestClassifier()\n",
    "# There are a number of features with nulls create a list to drop these cols\n",
    "drops = model.isna().sum().sort_values(ascending=False)[:18].index.to_list()\n",
    "# Append the loan_status column\n",
    "drops.append(\"loan_status\")\n",
    "# Model Features\n",
    "X = model.drop(drops, axis=1)\n",
    "# Target variable \n",
    "Y = model[\"loan_status\"]\n",
    "\n",
    "cross_val_score(rfc2,X,Y,cv=10)"
   ]
  },
  {
   "cell_type": "markdown",
   "execution_count": null,
   "metadata": {},
   "outputs": [],
   "source": []
  }
 ]
}