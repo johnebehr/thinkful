{
 "nbformat": 4,
 "nbformat_minor": 2,
 "metadata": {
  "language_info": {
   "name": "python",
   "codemirror_mode": {
    "name": "ipython",
    "version": 3
   },
   "version": "3.7.6-final"
  },
  "orig_nbformat": 2,
  "file_extension": ".py",
  "mimetype": "text/x-python",
  "name": "python",
  "npconvert_exporter": "python",
  "pygments_lexer": "ipython3",
  "version": 3,
  "kernelspec": {
   "name": "python37664bitbaseconda834eb1644bf744e08e7c91d065a0922d",
   "display_name": "Python 3.7.6 64-bit ('base': conda)"
  }
 },
 "cells": [
  {
   "cell_type": "code",
   "execution_count": 1,
   "metadata": {},
   "outputs": [],
   "source": [
    "import time\n",
    "import scipy\n",
    "\n",
    "import numpy as np \n",
    "import pandas as pd\n",
    "\n",
    "from sklearn import svm \n",
    "from sklearn.model_selection import KFold\n",
    "from sklearn.model_selection import cross_val_score\n",
    "from sklearn import metrics"
   ]
  },
  {
   "cell_type": "code",
   "execution_count": 2,
   "metadata": {},
   "outputs": [],
   "source": [
    "# Load the df_working pickle object for use in a Random Forest\n",
    "df = pd.read_pickle(\"df_one_hot.pkl\")"
   ]
  },
  {
   "cell_type": "code",
   "execution_count": 4,
   "metadata": {},
   "outputs": [
    {
     "name": "stdout",
     "output_type": "stream",
     "text": "[0.82972517 0.82862408 0.83584152 0.84121622 0.83660934]\n\nModel run time: 580.06 secs.\n"
    }
   ],
   "source": [
    "# Define the model features\n",
    "X = df.iloc[:,20:]\n",
    "\n",
    "# Define the target variable \n",
    "y = df[\"income\"]\n",
    "\n",
    "# Instantiate a random forest model \n",
    "svc  = svm.SVC()\n",
    "\n",
    "# Set a timer to see how long the model takes to run\n",
    "start = time.time()\n",
    "\n",
    "# Run the model and score\n",
    "cross_val = cross_val_score(svc, X, y, cv=5)\n",
    "\n",
    "# Determine the amount of time it takes to  run the model and score\n",
    "runtime = f\"{(time.time() - start):0.2f}\"\n",
    "\n",
    "# Print the cross validation results\n",
    "print(cross_val)\n",
    "\n",
    "# Print the run time\n",
    "print(f\"\\nModel run time: {runtime} secs.\")"
   ]
  },
  {
   "cell_type": "code",
   "execution_count": 9,
   "metadata": {},
   "outputs": [
    {
     "data": {
      "text/html": "<div>\n<style scoped>\n    .dataframe tbody tr th:only-of-type {\n        vertical-align: middle;\n    }\n\n    .dataframe tbody tr th {\n        vertical-align: top;\n    }\n\n    .dataframe thead th {\n        text-align: right;\n    }\n</style>\n<table border=\"1\" class=\"dataframe\">\n  <thead>\n    <tr style=\"text-align: right;\">\n      <th></th>\n      <th>fold</th>\n      <th>true_negative</th>\n      <th>false_positive</th>\n      <th>false_negative</th>\n      <th>true_positive</th>\n      <th>accuracy</th>\n      <th>fit_time (secs.)</th>\n    </tr>\n  </thead>\n  <tbody>\n    <tr>\n      <th>0</th>\n      <td>1</td>\n      <td>18575</td>\n      <td>1204</td>\n      <td>2857</td>\n      <td>3412</td>\n      <td>0.844096</td>\n      <td>180.70</td>\n    </tr>\n    <tr>\n      <th>1</th>\n      <td>2</td>\n      <td>18460</td>\n      <td>1290</td>\n      <td>2761</td>\n      <td>3538</td>\n      <td>0.844485</td>\n      <td>153.32</td>\n    </tr>\n    <tr>\n      <th>2</th>\n      <td>3</td>\n      <td>18562</td>\n      <td>1195</td>\n      <td>2867</td>\n      <td>3425</td>\n      <td>0.844063</td>\n      <td>144.16</td>\n    </tr>\n    <tr>\n      <th>3</th>\n      <td>4</td>\n      <td>18564</td>\n      <td>1222</td>\n      <td>2918</td>\n      <td>3345</td>\n      <td>0.841069</td>\n      <td>144.73</td>\n    </tr>\n    <tr>\n      <th>4</th>\n      <td>5</td>\n      <td>18605</td>\n      <td>1203</td>\n      <td>2881</td>\n      <td>3360</td>\n      <td>0.843219</td>\n      <td>138.35</td>\n    </tr>\n  </tbody>\n</table>\n</div>",
      "text/plain": "   fold  true_negative  false_positive  false_negative  true_positive  \\\n0     1          18575            1204            2857           3412   \n1     2          18460            1290            2761           3538   \n2     3          18562            1195            2867           3425   \n3     4          18564            1222            2918           3345   \n4     5          18605            1203            2881           3360   \n\n   accuracy fit_time (secs.)  \n0  0.844096           180.70  \n1  0.844485           153.32  \n2  0.844063           144.16  \n3  0.841069           144.73  \n4  0.843219           138.35  "
     },
     "metadata": {},
     "output_type": "display_data"
    },
    {
     "data": {
      "text/html": "<div>\n<style scoped>\n    .dataframe tbody tr th:only-of-type {\n        vertical-align: middle;\n    }\n\n    .dataframe tbody tr th {\n        vertical-align: top;\n    }\n\n    .dataframe thead th {\n        text-align: right;\n    }\n</style>\n<table border=\"1\" class=\"dataframe\">\n  <thead>\n    <tr style=\"text-align: right;\">\n      <th></th>\n      <th>&lt;=50K</th>\n      <th>&gt;50K</th>\n      <th>accuracy</th>\n      <th>macro avg</th>\n      <th>weighted avg</th>\n    </tr>\n  </thead>\n  <tbody>\n    <tr>\n      <th>precision</th>\n      <td>0.865913</td>\n      <td>0.736358</td>\n      <td>0.843219</td>\n      <td>0.801135</td>\n      <td>0.834873</td>\n    </tr>\n    <tr>\n      <th>recall</th>\n      <td>0.939267</td>\n      <td>0.538375</td>\n      <td>0.843219</td>\n      <td>0.738821</td>\n      <td>0.843219</td>\n    </tr>\n    <tr>\n      <th>f1-score</th>\n      <td>0.901099</td>\n      <td>0.621992</td>\n      <td>0.843219</td>\n      <td>0.761546</td>\n      <td>0.834229</td>\n    </tr>\n    <tr>\n      <th>support</th>\n      <td>19808.000000</td>\n      <td>6241.000000</td>\n      <td>0.843219</td>\n      <td>26049.000000</td>\n      <td>26049.000000</td>\n    </tr>\n  </tbody>\n</table>\n</div>",
      "text/plain": "                  <=50K         >50K  accuracy     macro avg  weighted avg\nprecision      0.865913     0.736358  0.843219      0.801135      0.834873\nrecall         0.939267     0.538375  0.843219      0.738821      0.843219\nf1-score       0.901099     0.621992  0.843219      0.761546      0.834229\nsupport    19808.000000  6241.000000  0.843219  26049.000000  26049.000000"
     },
     "metadata": {},
     "output_type": "display_data"
    }
   ],
   "source": [
    "# Support Vector Machine Classifer train and test\n",
    "def rf_train_and_test(X,y,splits):\n",
    "    # Instantiate the model and store in a variable \n",
    "    svc = svm.SVC()\n",
    "\n",
    "    # Set the number of folds (training and test samples)\n",
    "    kf = KFold(n_splits=splits)\n",
    "\n",
    "    # Create a parent list to hold test and train scores\n",
    "    score_lists = list()\n",
    "\n",
    "    # Train and test using KFolds\n",
    "    for i, (train_index, test_index) in enumerate(kf.split(X), start=1):\n",
    "        # Create the train samples for the fold\n",
    "        X_train, X_test = X.iloc[train_index], X.iloc[test_index]\n",
    "\n",
    "        # Create the test samples for the fold\n",
    "        y_train, y_test = y.iloc[train_index], y.iloc[test_index]\n",
    "\n",
    "        # Locate the appropriate rows in the target series\n",
    "        train_ref = y.iloc[train_index]\n",
    "\n",
    "        # Set a timer to see how long fitting took\n",
    "        start = time.time()\n",
    "        \n",
    "        # Train the model using the train and test data\n",
    "        y_pred_train = svc.fit(X_train,y_train).predict(X_train)\n",
    "\n",
    "        # Check to see how long the fitting took\n",
    "        fit_time = f\"{(time.time() - start):0.2f}\"\n",
    "\n",
    "        # Convert the confusion matrix to a list for reporting output\n",
    "        scores = list(metrics.confusion_matrix(y_train, y_pred_train).ravel()) \n",
    "\n",
    "        # Add the fold iteration to the scores list\n",
    "        scores.insert(0,i)\n",
    "\n",
    "        # Score the folds accuracy\n",
    "        accuracy = metrics.accuracy_score(y_train, y_pred_train)\n",
    "\n",
    "        # Append the accuracy to the scores list\n",
    "        scores.append(accuracy)\n",
    "\n",
    "        # Append the fit time to the scores list\n",
    "        scores.append(fit_time)\n",
    "\n",
    "        # Append the scores to the score_lists parent\n",
    "        score_lists.append(scores)\n",
    "\n",
    "        # Precision, recall and f1-score\n",
    "        precision = pd.DataFrame.from_dict(\n",
    "            metrics.classification_report(y_train, y_pred_train,output_dict=True)\n",
    "        )\n",
    "\n",
    "    # Create a dataframe of training and test results\n",
    "    df_out = pd.DataFrame(score_lists, columns=[\"fold\", \"true_negative\", \"false_positive\", \"false_negative\", \"true_positive\", \"accuracy\", \"fit_time (secs.)\"])\n",
    "\n",
    "    # List of output objects\n",
    "    resluts_output = [df_out,precision]\n",
    "\n",
    "    return resluts_output\n",
    "\n",
    "# Model features\n",
    "X = df.iloc[:, 20:]\n",
    "\n",
    "# Model target\n",
    "y = df[\"income\"]\n",
    "\n",
    "# Define the number groups the data will be split into\n",
    "splits = 5\n",
    "\n",
    "# Get the report dataframes from the function return\n",
    "rf_results, rf_precision = rf_train_and_test(X,y,splits)\n",
    "\n",
    "# Show the results dataframe\n",
    "display(rf_results)\n",
    "\n",
    "# Show the second results dataframe\n",
    "display(rf_precision)"
   ]
  },
  {
   "cell_type": "code",
   "execution_count": null,
   "metadata": {},
   "outputs": [],
   "source": []
  }
 ]
}