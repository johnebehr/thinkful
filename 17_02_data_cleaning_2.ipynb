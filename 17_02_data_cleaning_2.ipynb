{
 "nbformat": 4,
 "nbformat_minor": 2,
 "metadata": {
  "language_info": {
   "name": "python",
   "codemirror_mode": {
    "name": "ipython",
    "version": 3
   }
  },
  "orig_nbformat": 2,
  "file_extension": ".py",
  "mimetype": "text/x-python",
  "name": "python",
  "npconvert_exporter": "python",
  "pygments_lexer": "ipython3",
  "version": 3
 },
 "cells": [
  {
   "cell_type": "code",
   "execution_count": 3,
   "metadata": {},
   "outputs": [],
   "source": [
    "import pandas as pd\n",
    "import numpy as np\n",
    "from sqlalchemy import create_engine\n",
    "from sqlalchemy.engine.url import URL\n",
    "import warnings\n",
    "\n",
    "warnings.filterwarnings('ignore')"
   ]
  },
  {
   "cell_type": "code",
   "execution_count": 9,
   "metadata": {},
   "outputs": [
    {
     "name": "stdout",
     "output_type": "stream",
     "text": "2019-11-12 11:56:17,504 INFO sqlalchemy.engine.base.Engine select version()\n2019-11-12 11:56:17,507 INFO sqlalchemy.engine.base.Engine {}\n2019-11-12 11:56:17,612 INFO sqlalchemy.engine.base.Engine select current_schema()\n2019-11-12 11:56:17,613 INFO sqlalchemy.engine.base.Engine {}\n2019-11-12 11:56:17,714 INFO sqlalchemy.engine.base.Engine SELECT CAST('test plain returns' AS VARCHAR(60)) AS anon_1\n2019-11-12 11:56:17,715 INFO sqlalchemy.engine.base.Engine {}\n2019-11-12 11:56:17,766 INFO sqlalchemy.engine.base.Engine SELECT CAST('test unicode returns' AS VARCHAR(60)) AS anon_1\n2019-11-12 11:56:17,767 INFO sqlalchemy.engine.base.Engine {}\n2019-11-12 11:56:17,818 INFO sqlalchemy.engine.base.Engine show standard_conforming_strings\n2019-11-12 11:56:17,818 INFO sqlalchemy.engine.base.Engine {}\n2019-11-12 11:56:17,920 INFO sqlalchemy.engine.base.Engine SELECT * FROM youtube\n2019-11-12 11:56:17,921 INFO sqlalchemy.engine.base.Engine {}\n"
    }
   ],
   "source": [
    "kagle = dict(\n",
    "    drivername='postgresql',\n",
    "    username='dsbc_student', \n",
    "    password='7*.8G9QH21', \n",
    "    host='142.93.121.174', \n",
    "    port='5432', \n",
    "    database='youtube')\n",
    "\n",
    "engine=create_engine(URL(**kagle), echo=True)\n",
    "\n",
    "youtube_df = pd.read_sql_query('SELECT * FROM youtube', con=engine)\n",
    "\n",
    "engine.dispose()"
   ]
  },
  {
   "cell_type": "code",
   "execution_count": 10,
   "metadata": {},
   "outputs": [
    {
     "name": "stdout",
     "output_type": "stream",
     "text": "<class 'pandas.core.frame.DataFrame'>\nRangeIndex: 5000 entries, 0 to 4999\nData columns (total 6 columns):\nRank             5000 non-null object\nGrade            5000 non-null object\nChannel name     5000 non-null object\nVideo Uploads    5000 non-null object\nSubscribers      5000 non-null object\nVideo views      5000 non-null int64\ndtypes: int64(1), object(5)\nmemory usage: 234.5+ KB\n"
    }
   ],
   "source": [
    "youtube_df.info()"
   ]
  },
  {
   "cell_type": "code",
   "execution_count": 11,
   "metadata": {},
   "outputs": [
    {
     "data": {
      "text/html": "<div>\n<style scoped>\n    .dataframe tbody tr th:only-of-type {\n        vertical-align: middle;\n    }\n\n    .dataframe tbody tr th {\n        vertical-align: top;\n    }\n\n    .dataframe thead th {\n        text-align: right;\n    }\n</style>\n<table border=\"1\" class=\"dataframe\">\n  <thead>\n    <tr style=\"text-align: right;\">\n      <th></th>\n      <th>Rank</th>\n      <th>Grade</th>\n      <th>Channel name</th>\n      <th>Video Uploads</th>\n      <th>Subscribers</th>\n      <th>Video views</th>\n    </tr>\n  </thead>\n  <tbody>\n    <tr>\n      <td>0</td>\n      <td>1st</td>\n      <td>A++</td>\n      <td>Zee TV</td>\n      <td>82757</td>\n      <td>18752951</td>\n      <td>20869786591</td>\n    </tr>\n    <tr>\n      <td>1</td>\n      <td>2nd</td>\n      <td>A++</td>\n      <td>T-Series</td>\n      <td>12661</td>\n      <td>61196302</td>\n      <td>47548839843</td>\n    </tr>\n    <tr>\n      <td>2</td>\n      <td>3rd</td>\n      <td>A++</td>\n      <td>Cocomelon - Nursery Rhymes</td>\n      <td>373</td>\n      <td>19238251</td>\n      <td>9793305082</td>\n    </tr>\n    <tr>\n      <td>3</td>\n      <td>4th</td>\n      <td>A++</td>\n      <td>SET India</td>\n      <td>27323</td>\n      <td>31180559</td>\n      <td>22675948293</td>\n    </tr>\n    <tr>\n      <td>4</td>\n      <td>5th</td>\n      <td>A++</td>\n      <td>WWE</td>\n      <td>36756</td>\n      <td>32852346</td>\n      <td>26273668433</td>\n    </tr>\n  </tbody>\n</table>\n</div>",
      "text/plain": "  Rank Grade                Channel name Video Uploads Subscribers  \\\n0  1st  A++                       Zee TV         82757    18752951   \n1  2nd  A++                     T-Series         12661    61196302   \n2  3rd  A++   Cocomelon - Nursery Rhymes           373    19238251   \n3  4th  A++                    SET India         27323    31180559   \n4  5th  A++                          WWE         36756    32852346   \n\n   Video views  \n0  20869786591  \n1  47548839843  \n2   9793305082  \n3  22675948293  \n4  26273668433  "
     },
     "execution_count": 11,
     "metadata": {},
     "output_type": "execute_result"
    }
   ],
   "source": [
    "youtube_df.head()"
   ]
  },
  {
   "cell_type": "code",
   "execution_count": 14,
   "metadata": {},
   "outputs": [
    {
     "data": {
      "text/html": "<div>\n<style scoped>\n    .dataframe tbody tr th:only-of-type {\n        vertical-align: middle;\n    }\n\n    .dataframe tbody tr th {\n        vertical-align: top;\n    }\n\n    .dataframe thead th {\n        text-align: right;\n    }\n</style>\n<table border=\"1\" class=\"dataframe\">\n  <thead>\n    <tr style=\"text-align: right;\">\n      <th></th>\n      <th>Rank</th>\n      <th>Grade</th>\n      <th>Channel name</th>\n      <th>Video Uploads</th>\n      <th>Subscribers</th>\n      <th>Video views</th>\n    </tr>\n  </thead>\n  <tbody>\n    <tr>\n      <td>17</td>\n      <td>18th</td>\n      <td>A+</td>\n      <td>Vlad and Nikita</td>\n      <td>53</td>\n      <td>--</td>\n      <td>1428274554</td>\n    </tr>\n    <tr>\n      <td>108</td>\n      <td>109th</td>\n      <td>A</td>\n      <td>BIGFUN</td>\n      <td>373</td>\n      <td>--</td>\n      <td>941376171</td>\n    </tr>\n    <tr>\n      <td>115</td>\n      <td>116th</td>\n      <td>A</td>\n      <td>Bee Kids Games - Children TV</td>\n      <td>740</td>\n      <td>--</td>\n      <td>414535723</td>\n    </tr>\n    <tr>\n      <td>142</td>\n      <td>143rd</td>\n      <td>A</td>\n      <td>ChiChi TV Siêu Nhân</td>\n      <td>421</td>\n      <td>--</td>\n      <td>2600394871</td>\n    </tr>\n    <tr>\n      <td>143</td>\n      <td>144th</td>\n      <td>A</td>\n      <td>MusicTalentNow</td>\n      <td>1487</td>\n      <td>--</td>\n      <td>3252752212</td>\n    </tr>\n    <tr>\n      <td>...</td>\n      <td>...</td>\n      <td>...</td>\n      <td>...</td>\n      <td>...</td>\n      <td>...</td>\n      <td>...</td>\n    </tr>\n    <tr>\n      <td>4941</td>\n      <td>4,942nd</td>\n      <td>B+</td>\n      <td>GMTV</td>\n      <td>183</td>\n      <td>--</td>\n      <td>127080542</td>\n    </tr>\n    <tr>\n      <td>4948</td>\n      <td>4,949th</td>\n      <td>B+</td>\n      <td>Keivon ToysReview</td>\n      <td>468</td>\n      <td>--</td>\n      <td>481568513</td>\n    </tr>\n    <tr>\n      <td>4956</td>\n      <td>4,957th</td>\n      <td>B+</td>\n      <td>CLICKNEWS</td>\n      <td>2661</td>\n      <td>--</td>\n      <td>139940815</td>\n    </tr>\n    <tr>\n      <td>4961</td>\n      <td>4,962nd</td>\n      <td>B+</td>\n      <td>ONE Championship</td>\n      <td>905</td>\n      <td>--</td>\n      <td>109836654</td>\n    </tr>\n    <tr>\n      <td>4990</td>\n      <td>4,991st</td>\n      <td>B+</td>\n      <td>Ho Ngoc Ha's Official Channel</td>\n      <td>208</td>\n      <td>--</td>\n      <td>127185704</td>\n    </tr>\n  </tbody>\n</table>\n<p>390 rows × 6 columns</p>\n</div>",
      "text/plain": "         Rank Grade                   Channel name Video Uploads Subscribers  \\\n17       18th   A+                 Vlad and Nikita            53         --    \n108     109th    A                          BIGFUN           373         --    \n115     116th    A    Bee Kids Games - Children TV           740         --    \n142     143rd    A             ChiChi TV Siêu Nhân           421         --    \n143     144th    A                  MusicTalentNow          1487         --    \n...       ...   ...                            ...           ...         ...   \n4941  4,942nd   B+                            GMTV           183         --    \n4948  4,949th   B+               Keivon ToysReview           468         --    \n4956  4,957th   B+                       CLICKNEWS          2661         --    \n4961  4,962nd   B+                ONE Championship           905         --    \n4990  4,991st   B+   Ho Ngoc Ha's Official Channel           208         --    \n\n      Video views  \n17     1428274554  \n108     941376171  \n115     414535723  \n142    2600394871  \n143    3252752212  \n...           ...  \n4941    127080542  \n4948    481568513  \n4956    139940815  \n4961    109836654  \n4990    127185704  \n\n[390 rows x 6 columns]"
     },
     "execution_count": 14,
     "metadata": {},
     "output_type": "execute_result"
    }
   ],
   "source": [
    "# The dataframe contains non-numeric data in the 'Video Uploads' & 'Subscribers' columns.\n",
    "# youtube_df[(youtube_df[\"Video Uploads\"].str.strip() == \"--\") | (youtube_df[\"Subscribers\"].str.strip() == \"--\")]"
   ]
  },
  {
   "cell_type": "code",
   "execution_count": 23,
   "metadata": {},
   "outputs": [
    {
     "data": {
      "text/html": "<div>\n<style scoped>\n    .dataframe tbody tr th:only-of-type {\n        vertical-align: middle;\n    }\n\n    .dataframe tbody tr th {\n        vertical-align: top;\n    }\n\n    .dataframe thead th {\n        text-align: right;\n    }\n</style>\n<table border=\"1\" class=\"dataframe\">\n  <thead>\n    <tr style=\"text-align: right;\">\n      <th></th>\n      <th>Rank</th>\n      <th>Grade</th>\n      <th>Channel name</th>\n      <th>Video Uploads</th>\n      <th>Subscribers</th>\n      <th>Video views</th>\n    </tr>\n  </thead>\n  <tbody>\n    <tr>\n      <td>17</td>\n      <td>18th</td>\n      <td>A+</td>\n      <td>Vlad and Nikita</td>\n      <td>53</td>\n      <td>--</td>\n      <td>1428274554</td>\n    </tr>\n    <tr>\n      <td>108</td>\n      <td>109th</td>\n      <td>A</td>\n      <td>BIGFUN</td>\n      <td>373</td>\n      <td>--</td>\n      <td>941376171</td>\n    </tr>\n    <tr>\n      <td>115</td>\n      <td>116th</td>\n      <td>A</td>\n      <td>Bee Kids Games - Children TV</td>\n      <td>740</td>\n      <td>--</td>\n      <td>414535723</td>\n    </tr>\n    <tr>\n      <td>142</td>\n      <td>143rd</td>\n      <td>A</td>\n      <td>ChiChi TV Siêu Nhân</td>\n      <td>421</td>\n      <td>--</td>\n      <td>2600394871</td>\n    </tr>\n    <tr>\n      <td>143</td>\n      <td>144th</td>\n      <td>A</td>\n      <td>MusicTalentNow</td>\n      <td>1487</td>\n      <td>--</td>\n      <td>3252752212</td>\n    </tr>\n    <tr>\n      <td>...</td>\n      <td>...</td>\n      <td>...</td>\n      <td>...</td>\n      <td>...</td>\n      <td>...</td>\n      <td>...</td>\n    </tr>\n    <tr>\n      <td>4941</td>\n      <td>4,942nd</td>\n      <td>B+</td>\n      <td>GMTV</td>\n      <td>183</td>\n      <td>--</td>\n      <td>127080542</td>\n    </tr>\n    <tr>\n      <td>4948</td>\n      <td>4,949th</td>\n      <td>B+</td>\n      <td>Keivon ToysReview</td>\n      <td>468</td>\n      <td>--</td>\n      <td>481568513</td>\n    </tr>\n    <tr>\n      <td>4956</td>\n      <td>4,957th</td>\n      <td>B+</td>\n      <td>CLICKNEWS</td>\n      <td>2661</td>\n      <td>--</td>\n      <td>139940815</td>\n    </tr>\n    <tr>\n      <td>4961</td>\n      <td>4,962nd</td>\n      <td>B+</td>\n      <td>ONE Championship</td>\n      <td>905</td>\n      <td>--</td>\n      <td>109836654</td>\n    </tr>\n    <tr>\n      <td>4990</td>\n      <td>4,991st</td>\n      <td>B+</td>\n      <td>Ho Ngoc Ha's Official Channel</td>\n      <td>208</td>\n      <td>--</td>\n      <td>127185704</td>\n    </tr>\n  </tbody>\n</table>\n<p>390 rows × 6 columns</p>\n</div>",
      "text/plain": "         Rank Grade                   Channel name Video Uploads Subscribers  \\\n17       18th   A+                 Vlad and Nikita            53         --    \n108     109th    A                          BIGFUN           373         --    \n115     116th    A    Bee Kids Games - Children TV           740         --    \n142     143rd    A             ChiChi TV Siêu Nhân           421         --    \n143     144th    A                  MusicTalentNow          1487         --    \n...       ...   ...                            ...           ...         ...   \n4941  4,942nd   B+                            GMTV           183         --    \n4948  4,949th   B+               Keivon ToysReview           468         --    \n4956  4,957th   B+                       CLICKNEWS          2661         --    \n4961  4,962nd   B+                ONE Championship           905         --    \n4990  4,991st   B+   Ho Ngoc Ha's Official Channel           208         --    \n\n      Video views  \n17     1428274554  \n108     941376171  \n115     414535723  \n142    2600394871  \n143    3252752212  \n...           ...  \n4941    127080542  \n4948    481568513  \n4956    139940815  \n4961    109836654  \n4990    127185704  \n\n[390 rows x 6 columns]"
     },
     "execution_count": 23,
     "metadata": {},
     "output_type": "execute_result"
    }
   ],
   "source": [
    "youtube_df[(youtube_df[\"Video Uploads\"].apply(lambda x: not x.isnumeric())) | \n",
    "    (youtube_df[\"Subscribers\"].apply(lambda x: not x.isnumeric()))]"
   ]
  },
  {
   "cell_type": "code",
   "execution_count": 24,
   "metadata": {},
   "outputs": [
    {
     "data": {
      "text/plain": "Rank             5000\nGrade               6\nChannel name     4993\nVideo Uploads    2286\nSubscribers      4612\nVideo views      5000\ndtype: int64"
     },
     "execution_count": 24,
     "metadata": {},
     "output_type": "execute_result"
    }
   ],
   "source": [
    "youtube_df.nunique()"
   ]
  },
  {
   "cell_type": "code",
   "execution_count": 25,
   "metadata": {},
   "outputs": [
    {
     "name": "stdout",
     "output_type": "stream",
     "text": "views_group\n1    1399\n2    2846\n3     755\nName: Video views, dtype: int64\n"
    }
   ],
   "source": [
    "# This method returns group numbers given video views\n",
    "def categorize_video_views(views_num):\n",
    "    if views_num >= 1000000000: \n",
    "        return 1\n",
    "    elif views_num >= 100000000:\n",
    "        return 2 \n",
    "    else:\n",
    "        return 3\n",
    "\n",
    "# Use the Pandas .apply() method by callin the function above \n",
    "youtube_df['views_group'] = youtube_df['Video views'].apply(categorize_video_views)\n",
    "\n",
    "# See how many observations there are in each group\n",
    "print(youtube_df.groupby(\"views_group\")[\"Video views\"].count())"
   ]
  },
  {
   "cell_type": "markdown",
   "execution_count": null,
   "metadata": {},
   "outputs": [],
   "source": [
    "_Consider the advantages and disadvantages of treating Rank as categorical.  Discuss with you mentor_\n",
    "\n",
    "Treating _Rank_ as categorical allows you to assign rank-ordering categories to the variable.  The trade-off is that you can not quantitfy the ordering based simply on the variable itself.\n"
   ]
  },
  {
   "cell_type": "markdown",
   "execution_count": 26,
   "metadata": {},
   "outputs": [
    {
     "ename": "SyntaxError",
     "evalue": "invalid syntax (<ipython-input-26-665aa903ca63>, line 1)",
     "output_type": "error",
     "traceback": [
      "\u001b[1;36m  File \u001b[1;32m\"<ipython-input-26-665aa903ca63>\"\u001b[1;36m, line \u001b[1;32m1\u001b[0m\n\u001b[1;33m    <em>What are teh types of the following variables\u001b[0m\n\u001b[1;37m    ^\u001b[0m\n\u001b[1;31mSyntaxError\u001b[0m\u001b[1;31m:\u001b[0m invalid syntax\n"
     ]
    }
   ],
   "source": [
    "_What are the types of the following variables: __Age__, __Salary__, __Revenue__, __Stock Price__ ?_\n",
    "\n",
    "- _Age_ can be _Categorical_ or _Continuous_ depending on the need.\n",
    "- _Salary_, same as age, could be _Continuious_ or _Categorical_.\n",
    "- _Revenue_ is a _Continuious_ variable.\n",
    "- _Stock Price_ is a _Continuious_ variable."
   ]
  },
  {
   "cell_type": "code",
   "execution_count": null,
   "metadata": {},
   "outputs": [],
   "source": [
    "d"
   ]
  }
 ]
}
