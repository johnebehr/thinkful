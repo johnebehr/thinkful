{
 "cells": [
  {
   "cell_type": "markdown",
   "metadata": {},
   "source": [
    "# 19.04 Interpreting Estimated Coefficients\n",
    "\n",
    "The strength of linear regression models lies in their ability to provide straightforward and interpretable solutions that not only predict future outcomes but also provide insight into the underlying processes that create these outcomes.  One of the reasons why linear regression models are so commonplace is that by interpreting estimated coefficients, they can shed light on an underlying relationship.  The process of interpreting the relationship between estimated coefficients and outcomes is called **inference**.\n",
    "\n",
    "This notebook will explore questions like:\n",
    "- How much does an increase in an explanatory variable affect the explained variable?\n",
    "- How can you single out the effect of a specific variable by isolating its effects from those of other variables that also affect the outcome?\n",
    "\n",
    "The answers to these questions can drive a lot of business value.  Think about a company that likes to measure the performance of its advertising expenditures.  Are radio advertisements more effective in attracting new customers then Facebook ads?  For a thousand dollars spend on TV ads, how many products does the company sell?  And, how can you distinguish whether the new customers are the result of TV ads or Google ads?\n",
    "\n",
    "Before quantifying the relationship between the individual features and the target variable, you first need to determine whether that feature has a significant role in explaining the target.\n",
    "\n",
    "The main topics covered in this notebook are: \n",
    "- statistical significance\n",
    "- t-test\n",
    "- p-value\n",
    "- inference and the relationship between estimated coefficients and the target\n",
    "- interpreting continuous and categorical variables\n",
    "- interpreting interaction terms\n",
    "- interpreting constants\n",
    "\n",
    "## Statistical Significance of Individual coefficients\n",
    "\n",
    "Estimating parameters in a linear regression model does not guarantee that the estimated coefficients are statistically significant.\n",
    "\n",
    "When estimating a parameter, the ultimate objective is to find its true value in the population.  Often, you need to work with a sample rather than the actual population, and you estimate the coefficients using a sample.  For an individual coefficient to be **statistically significant**, it must have a relatively high value with respect to its standard deviation.  In other words, it must help explain some information in the outcome.\n",
    "\n",
    "You use **t-tests** to determine if an individual coefficient estimate is statistically different from zero.  This is a way of quantifying a measure of _unique_ variance in the outcome as a function of the parameter, _after controlling for the variance explained by the other parameters_. \n",
    "\n",
    "A non-significant parameter does not contribute to the explanation of the information about the outcome variable and can be discarded with little to no decrease in the model's explanatory power.  Moreover, you should treat statistically insignificant coefficients as if they are zero when interpreting the model.  \n",
    "\n",
    "When you estimate a linear regression model using `statsmodel` the `summary()` function returns t-statistics and associated p-values.  **P-values** are easier to read than t-values.  The p-value associated with a t-test quantifies the likelihood that the estimated coefficient is equal to zero in the real population.  The lower the -pvalue, the more significant the coefficient is.  As a rule of thumb, when the p-value of a coefficient is less than or equal to 0.1, the coefficient is statistically significant.  However, it's admirable to have a p-value that is less than or equal to 0.05.\n"
   ]
  },
  {
   "cell_type": "markdown",
   "metadata": {},
   "source": [
    "Use the Medical Costs dataset to illustrate how to interpret the estimated coefficients in a linear regression model.  Load the Medical Costs dataset and build a new regression model including continuous variables as well as the categorical one.  In the dataset there are two continuous variables: age and BMI (body mass index).  In the new model, add them alongside the \"is_male\" and \"is_smoker\" dummies as explanatory variables."
   ]
  },
  {
   "cell_type": "code",
   "execution_count": 1,
   "metadata": {},
   "outputs": [],
   "source": [
    "import warnings\n",
    "\n",
    "import matplotlib.pyplot as plt\n",
    "import numpy as np \n",
    "import pandas as pd \n",
    "import seaborn as sns\n",
    "import statsmodels.api as sm \n",
    "\n",
    "from sqlalchemy import create_engine \n",
    "from sqlalchemy.engine.url import URL \n",
    "\n",
    "pd.options.display.float_format = \"{:.3f}\".format\n",
    "\n",
    "warnings.filterwarnings(action=\"ignore\")\n",
    "\n",
    "kagle = dict(\n",
    "    drivername = \"postgresql\",\n",
    "    username = \"dsbc_student\",\n",
    "    password = \"7*.8G9QH21\",\n",
    "    host = \"142.93.121.174\",\n",
    "    port = \"5432\",\n",
    "    database = \"medicalcosts\"\n",
    ")"
   ]
  },
  {
   "cell_type": "code",
   "execution_count": 2,
   "metadata": {},
   "outputs": [
    {
     "name": "stdout",
     "output_type": "stream",
     "text": [
      "2019-12-31 10:45:57,185 INFO sqlalchemy.engine.base.Engine select version()\n",
      "2019-12-31 10:45:57,192 INFO sqlalchemy.engine.base.Engine {}\n",
      "2019-12-31 10:45:57,290 INFO sqlalchemy.engine.base.Engine select current_schema()\n",
      "2019-12-31 10:45:57,293 INFO sqlalchemy.engine.base.Engine {}\n",
      "2019-12-31 10:45:57,394 INFO sqlalchemy.engine.base.Engine SELECT CAST('test plain returns' AS VARCHAR(60)) AS anon_1\n",
      "2019-12-31 10:45:57,397 INFO sqlalchemy.engine.base.Engine {}\n",
      "2019-12-31 10:45:57,447 INFO sqlalchemy.engine.base.Engine SELECT CAST('test unicode returns' AS VARCHAR(60)) AS anon_1\n",
      "2019-12-31 10:45:57,450 INFO sqlalchemy.engine.base.Engine {}\n",
      "2019-12-31 10:45:57,500 INFO sqlalchemy.engine.base.Engine show standard_conforming_strings\n",
      "2019-12-31 10:45:57,502 INFO sqlalchemy.engine.base.Engine {}\n",
      "2019-12-31 10:45:57,602 INFO sqlalchemy.engine.base.Engine SELECT * FROM medicalcosts\n",
      "2019-12-31 10:45:57,604 INFO sqlalchemy.engine.base.Engine {}\n"
     ]
    }
   ],
   "source": [
    "# Load the data from the \"medicalcosts\" database and display some observations\n",
    "\n",
    "engine=create_engine(URL(**kagle), echo=True)\n",
    "\n",
    "insurance_df = pd.read_sql_query(\"SELECT * FROM medicalcosts\", con=engine)\n",
    "\n",
    "engine.dispose()"
   ]
  },
  {
   "cell_type": "code",
   "execution_count": 3,
   "metadata": {},
   "outputs": [],
   "source": [
    "insurance_df[\"is_male\"] = pd.get_dummies(insurance_df[\"sex\"], drop_first=True)\n",
    "insurance_df[\"is_smoker\"] = pd.get_dummies(insurance_df[\"smoker\"], drop_first=True)"
   ]
  },
  {
   "cell_type": "code",
   "execution_count": 6,
   "metadata": {},
   "outputs": [
    {
     "name": "stdout",
     "output_type": "stream",
     "text": [
      "                            OLS Regression Results                            \n",
      "==============================================================================\n",
      "Dep. Variable:                charges   R-squared:                       0.747\n",
      "Model:                            OLS   Adj. R-squared:                  0.747\n",
      "Method:                 Least Squares   F-statistic:                     986.5\n",
      "Date:                Tue, 31 Dec 2019   Prob (F-statistic):               0.00\n",
      "Time:                        10:47:05   Log-Likelihood:                -13557.\n",
      "No. Observations:                1338   AIC:                         2.712e+04\n",
      "Df Residuals:                    1333   BIC:                         2.715e+04\n",
      "Df Model:                           4                                         \n",
      "Covariance Type:            nonrobust                                         \n",
      "==============================================================================\n",
      "                 coef    std err          t      P>|t|      [0.025      0.975]\n",
      "------------------------------------------------------------------------------\n",
      "const      -1.163e+04    947.267    -12.281      0.000   -1.35e+04   -9775.195\n",
      "is_male     -109.0414    334.665     -0.326      0.745    -765.568     547.486\n",
      "is_smoker   2.383e+04    414.187     57.544      0.000     2.3e+04    2.46e+04\n",
      "age          259.4531     11.942     21.727      0.000     236.027     282.880\n",
      "bmi          323.0510     27.529     11.735      0.000     269.046     377.056\n",
      "==============================================================================\n",
      "Omnibus:                      299.394   Durbin-Watson:                   2.076\n",
      "Prob(Omnibus):                  0.000   Jarque-Bera (JB):              708.640\n",
      "Skew:                           1.212   Prob(JB):                    1.32e-154\n",
      "Kurtosis:                       5.614   Cond. No.                         292.\n",
      "==============================================================================\n",
      "\n",
      "Warnings:\n",
      "[1] Standard Errors assume that the covariance matrix of the errors is correctly specified.\n"
     ]
    }
   ],
   "source": [
    "# Y is the target variable\n",
    "Y = insurance_df[\"charges\"]\n",
    "\n",
    "# X is the feature set\n",
    "X = insurance_df[[\"is_male\", \"is_smoker\", \"age\", \"bmi\"]]\n",
    "\n",
    "# Add a constant to the model (best practice)\n",
    "X = sm.add_constant(X)\n",
    "\n",
    "# Fit an OLS model using statsmodels\n",
    "results = sm.OLS(Y,X).fit()\n",
    "\n",
    "# Print the summary results\n",
    "print(results.summary())"
   ]
  },
  {
   "cell_type": "markdown",
   "metadata": {},
   "source": [
    "The estimated model is: \n",
    "$$ charges = 116333.50 - 109.04 is\\_male + 23833.87 is\\_smoker + 259.45 age + 323.05 bmi \\qquad(eq. 1) $$\n",
    "is_male and is_smoker variables are dummies, but the age and BMI variables are continuous.  Interpreting dummies is slightly different than interpreting continuous variables and both will be handled separately.  Before moving forward, you need to understand how to isolate the mutual effects of multiple variables on the target.\n",
    "\n",
    "## OLS Regression as a Controlled Experiment\n",
    "\n",
    "A **controlled experiment** is a scientific experiment type where only the effect of a single factor is measured by controlling other factors that also affect teh outcome.  For example, if you wan to measure the effect of linght on the growth of a specific plant, then you need to set up two environments where every factor like humidity, soil, etc. is the same except for the amount of light.\n",
    "\n",
    "You can think of the estimated linear regression models as a controlled experiment.  When you setimate the coefficients of a model using OLS, you actually get coefficient estimates that are isolated from each other.  That is to say, the coefficient of a feature measures the effect of that variable on the outcome variable by holding all other variables constant at their means.  So you can interpret an estimated coefficient as the measure of the relationship between that feature and the target after stripping out the effects of all other features.\n",
    "\n",
    "## Interpreting the Dummy variables\n",
    "\n",
    "Consider the coefficients of the dummy variables in $ (eq.1) $.  The coefficient of is_male is -109.04, and the coefficient of is_smoker is 23833.87.  Moreover, you see that the p-value of is_smoker is very close to zero (0.000), whereas the p-value of is_male is 0.745.  This implies that the coefficient of is_male is effectively zero from a statistical point of view.  It's simply not significant, and you can say that there appears to be no relationship between medical costs and biological sex.\n",
    "\n",
    "This can be confirmed further by including an additionally variable in the model, the coefficient of is_male can be made statistically significant.  More on that later. \n",
    "\n",
    "On the other hand, smoking is a significant factor in the medical costs charged.  According to the estimation, the medical costs of people who smoke are 23,833.87 dollars more than those who do not smoke **on average**.  Recall that when you include dummies in a model, you always hold one group out.  In this example, the holdout group is the non-smokers, and you need to read the coefficient of the is_smoker dummy variable relative to this holdout group.\n",
    "\n",
    "## Interpreting Continuous Variables \n",
    "\n",
    "Now, interpret the coefficients of the continuous variables in (eq.1).  First, both the age and BMI \n",
    "variables are statistically significant as the p-values are very close to zero.  The coefficient of age is 259.45.  As a person's age increases by one year, his/her costs increase by 259.45 dollars on average.  Similarly, as BMI increases by one point, medical costs increase by 323.05 dollars on average.\n",
    "\n",
    "\\* Note: Sometimes, transforming the target and the features can lead to a clearer interpretation.  For example, if you take the logarithms of a target and a feature and estimate the model after that, you can interpret the \"coefficient\" of that feature like this: a percentage increase in the value of the original feature (not log transformed) results in the \"coefficient\" percentage change in the original target (not log transformed).  Check here for further info: [StackOverflow question](https://stats.stackexchange.com/questions/244199/why-is-it-that-natural-log-changes-are-percentage-changes-what-is-about-logs-th).\n",
    "\n",
    "## Interpreting the Interaction terms\n",
    "\n",
    "So far, you've interpreted categorical and continuous variables one at a time.  But sometimes you need to model **interactions** in order to best explain outcomes.  By putting interaction variables in a linear regression model you can capture non-leaner relationships between the target and the features.  For example, from (eq.1), you know the difference of average costs between smokers and non-smokers.  However, if you believe that the costs of smokers would increase as the BMI of a person increases (because the probability of having a heart attack increases) more than the non-smokers, you need to add the interaction of BMI and the is_smoker dummy to the model.\n",
    "\n",
    "Mathematically, you capture the interaction of two variables by multiplying them.  Now, create an interaction variable and add it to the model.\n"
   ]
  },
  {
   "cell_type": "code",
   "execution_count": 7,
   "metadata": {},
   "outputs": [
    {
     "name": "stdout",
     "output_type": "stream",
     "text": [
      "                            OLS Regression Results                            \n",
      "==============================================================================\n",
      "Dep. Variable:                charges   R-squared:                       0.837\n",
      "Model:                            OLS   Adj. R-squared:                  0.836\n",
      "Method:                 Least Squares   F-statistic:                     1365.\n",
      "Date:                Tue, 31 Dec 2019   Prob (F-statistic):               0.00\n",
      "Time:                        11:39:07   Log-Likelihood:                -13265.\n",
      "No. Observations:                1338   AIC:                         2.654e+04\n",
      "Df Residuals:                    1332   BIC:                         2.657e+04\n",
      "Df Model:                           5                                         \n",
      "Covariance Type:            nonrobust                                         \n",
      "=================================================================================\n",
      "                    coef    std err          t      P>|t|      [0.025      0.975]\n",
      "---------------------------------------------------------------------------------\n",
      "const         -2071.0750    840.644     -2.464      0.014   -3720.206    -421.944\n",
      "is_male        -473.4954    269.612     -1.756      0.079   -1002.406      55.415\n",
      "is_smoker     -2.019e+04   1666.492    -12.117      0.000   -2.35e+04   -1.69e+04\n",
      "age             266.3723      9.612     27.713      0.000     247.516     285.228\n",
      "bmi               7.9686     25.044      0.318      0.750     -41.160      57.098\n",
      "bmi_is_smoker  1435.6081     53.242     26.964      0.000    1331.160    1540.056\n",
      "==============================================================================\n",
      "Omnibus:                      710.004   Durbin-Watson:                   2.059\n",
      "Prob(Omnibus):                  0.000   Jarque-Bera (JB):             4260.532\n",
      "Skew:                           2.491   Prob(JB):                         0.00\n",
      "Kurtosis:                      10.183   Cond. No.                         661.\n",
      "==============================================================================\n",
      "\n",
      "Warnings:\n",
      "[1] Standard Errors assume that the covariance matrix of the errors is correctly specified.\n"
     ]
    }
   ],
   "source": [
    "# Y is the target variable\n",
    "Y = insurance_df[\"charges\"]\n",
    "\n",
    "# This is the interaction between bmi and smoking\n",
    "insurance_df[\"bmi_is_smoker\"] = insurance_df[\"bmi\"] * insurance_df[\"is_smoker\"]\n",
    "\n",
    "# X is the feature set\n",
    "X = insurance_df[[\"is_male\", \"is_smoker\", \"age\", \"bmi\", \"bmi_is_smoker\"]]\n",
    "\n",
    "# Add a constant to the model (best practice)\n",
    "X = sm.add_constant(X)\n",
    "\n",
    "# Fit an OLS model using statsmodel\n",
    "results = sm.OLS(Y,X).fit()\n",
    "\n",
    "# Print the summary results\n",
    "print(results.summary())"
   ]
  },
  {
   "cell_type": "markdown",
   "metadata": {},
   "source": [
    "The estimated model is: \n",
    "$$ charges = 2017.07 - 473.49 is\\_male - 20190 is\\_smoker + 244.37age + 7.96 bmi + 1435.60 bmi\\_is\\_smoker \\qquad(eq.2) $$\n",
    "\n",
    "First, notice that all the coefficients have changed with respect to the previous model.  This is because every time you add or drop a variable, the model specification changes.  This results in different point estimates for the coefficients.  The same is also true for the statistical significance of the coefficients.  For example, the coefficient of the is_male dummy now turns out to be statistically signifigant.\n",
    "\n",
    "According to the results, a one-point increase in BMI results in 1,435.60 dollar increase for smokers than for non-smokers.  However, you should read this result with caution.  On face, a 1,435.60 dollar increase sounds like a lot for a single-point increase in BMI.  That's probably because the garget variable (charges) is very skewed.  So, linear regression comes up with estimates that measure the relationship on average.\n",
    "\n",
    "This can be illustrated as follows:\n"
   ]
  },
  {
   "cell_type": "code",
   "execution_count": 8,
   "metadata": {},
   "outputs": [
    {
     "data": {
      "image/png": "[encoded data removed]",
      "text/plain": [
       "<Figure size 432x288 with 1 Axes>"
      ]
     },
     "metadata": {
      "needs_background": "light"
     },
     "output_type": "display_data"
    }
   ],
   "source": [
    "costs_bmi = insurance_df[\"bmi\"] * 232.0511\n",
    "costs_bmi_smokers = insurance_df[\"bmi\"] * 1435.6081\n",
    "costs_bmi_non_smokers = insurance_df[\"bmi\"] * 7.9686\n",
    "\n",
    "plt.plot(insurance_df[\"bmi\"], costs_bmi)\n",
    "plt.plot(insurance_df[\"bmi\"], costs_bmi_smokers)\n",
    "plt.plot(insurance_df[\"bmi\"], costs_bmi_non_smokers)\n",
    "\n",
    "plt.legend([\"costs and bmi\", \"costs and bmi (smokers)\", \"costs and bmi (non-smokers)\"])\n",
    "plt.xlabel(\"bmi\")\n",
    "plt.ylabel(\"costs\")\n",
    "plt.title(\"The relationship between bmi, smoking and costs\")\n",
    "\n",
    "plt.show();"
   ]
  },
  {
   "cell_type": "markdown",
   "metadata": {},
   "source": [
    "The <font color=dodgerblue>blue line</font> is the relationship we estimated in (eq.1) between BMI and charges. Since the interaction of BMI and smoking is not included in this model, the estimated value represents an averaged figure for BMI. The <font color=lightgreen>green line</font> is the relationship we estimated in (eq.2) between the charges and BMI for non-smokers, and the <font color=orange>orange line</font> represents the relationship between charges and BMI for smokers. As we see, the increase in charges with an increase in BMI is higher for smokers than non-smokers. Because of the interaction term in (eq.2), we can now distinguish the effects of an increase in BMI on charges between smokers and non-smokers. Notice that the blue line lies between the green and the orange lines as it measures the averaged effect of BMI on charges both for smokers and non-smokers.\n",
    "\n",
    "## Interpreting the Constant \n",
    "\n",
    "Constants in linear regression models correspond to the outcome value that is expected to happen when all the explanatory variables take a zero value.  In a simple linear regression setting (when there is only a single explanatory variable), constants correspond to the point the fitted curve crosses the y-axis.\n",
    "\n",
    "Although it's easy to visualize the constant term in a simple linear regression setting, it gets harder to grasp what a constant term means if there are many features included in the model.  For example, if a dummy variable is included in a model, then one category should be excluded from the model, as explained before.  In this case the constant term also includes information regarding the holdout category.  Hence, a lot of factors may be captured by the constant.\n",
    "\n",
    "The safest way to think about the constant term is to think of it as the bias.  Remember that the constant terms make the residuals zero on average.  In this sense, the constant takes the bias from the residuals to itself.  Therefore the constant is also called the bias!"
   ]
  },
  {
   "cell_type": "code",
   "execution_count": null,
   "metadata": {},
   "outputs": [],
   "source": []
  }
 ],
 "metadata": {
  "file_extension": ".py",
  "kernelspec": {
   "display_name": "Python 3",
   "language": "python",
   "name": "python3"
  },
  "language_info": {
   "codemirror_mode": {
    "name": "ipython",
    "version": 3
   },
   "file_extension": ".py",
   "mimetype": "text/x-python",
   "name": "python",
   "nbconvert_exporter": "python",
   "pygments_lexer": "ipython3",
   "version": "3.7.5"
  },
  "mimetype": "text/x-python",
  "name": "python",
  "npconvert_exporter": "python",
  "pygments_lexer": "ipython3",
  "version": 3
 },
 "nbformat": 4,
 "nbformat_minor": 4
}
