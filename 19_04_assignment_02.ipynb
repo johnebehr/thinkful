{
 "cells": [
  {
   "cell_type": "markdown",
   "metadata": {},
   "source": [
    "#  19.04 Interpreting Estimated Coefficients\n",
    "## Assignment 02 Weather Model\n",
    "\n",
    "In this exercise, you'll work with the historical temperature data from the previous checkpoint. To complete this assignment, submit a link to a Jupyter notebook containing your solutions to the following tasks:\n",
    "\n",
    "* First, load the dataset from the **weatherinszeged** table from Thinkful's database.\n",
    "* Build a linear regression model where your target variable is the difference between the *apparenttemperature* and the *temperature*. As explanatory variables, use *humidity* and *windspeed*. Now, estimate your model using OLS. Are the estimated coefficients statistically significant? Are the signs of the estimated coefficients in line with your previous expectations? Interpret the estimated coefficients. What are the relations between the target and the explanatory variables? \n",
    "* Next, include the interaction of *humidity* and *windspeed* to the model above and estimate the model using OLS. Are the coefficients statistically significant? Did the signs of the estimated coefficients for *humidity* and *windspeed* change? Interpret the estimated coefficients."
   ]
  },
  {
   "cell_type": "markdown",
   "metadata": {},
   "source": [
    "### Load the dataset"
   ]
  },
  {
   "cell_type": "code",
   "execution_count": 8,
   "metadata": {},
   "outputs": [],
   "source": [
    "import warnings\n",
    "\n",
    "import numpy as np \n",
    "import pandas as pd \n",
    "import statsmodels.formula.api as smf\n",
    "import matplotlib.pyplot as plt \n",
    "import seaborn as sns\n",
    "\n",
    "from sklearn import linear_model\n",
    "from sqlalchemy import create_engine \n",
    "from sqlalchemy.engine.url import URL \n",
    "from scipy.stats import bartlett\n",
    "from scipy.stats import levene\n",
    "from scipy.stats.stats import pearsonr\n",
    "from scipy.stats import jarque_bera\n",
    "from scipy.stats import normaltest\n",
    "from statsmodels.tsa.stattools import acf\n",
    "import statsmodels.api as sm \n",
    "\n",
    "warnings.filterwarnings(action=\"ignore\")\n",
    "\n",
    "kagle = dict(\n",
    "    drivername = \"postgresql\",\n",
    "    username = \"dsbc_student\",\n",
    "    password = \"7*.8G9QH21\",\n",
    "    host = \"142.93.121.174\",\n",
    "    port = \"5432\",\n",
    "    database = \"weatherinszeged\"\n",
    ")"
   ]
  },
  {
   "cell_type": "code",
   "execution_count": 2,
   "metadata": {},
   "outputs": [
    {
     "name": "stdout",
     "output_type": "stream",
     "text": [
      "2019-12-31 22:12:58,500 INFO sqlalchemy.engine.base.Engine select version()\n",
      "2019-12-31 22:12:58,508 INFO sqlalchemy.engine.base.Engine {}\n",
      "2019-12-31 22:12:58,611 INFO sqlalchemy.engine.base.Engine select current_schema()\n",
      "2019-12-31 22:12:58,613 INFO sqlalchemy.engine.base.Engine {}\n",
      "2019-12-31 22:12:58,711 INFO sqlalchemy.engine.base.Engine SELECT CAST('test plain returns' AS VARCHAR(60)) AS anon_1\n",
      "2019-12-31 22:12:58,712 INFO sqlalchemy.engine.base.Engine {}\n",
      "2019-12-31 22:12:58,763 INFO sqlalchemy.engine.base.Engine SELECT CAST('test unicode returns' AS VARCHAR(60)) AS anon_1\n",
      "2019-12-31 22:12:58,764 INFO sqlalchemy.engine.base.Engine {}\n",
      "2019-12-31 22:12:58,817 INFO sqlalchemy.engine.base.Engine show standard_conforming_strings\n",
      "2019-12-31 22:12:58,817 INFO sqlalchemy.engine.base.Engine {}\n",
      "2019-12-31 22:12:58,920 INFO sqlalchemy.engine.base.Engine SELECT * FROM weatherinszeged\n",
      "2019-12-31 22:12:58,922 INFO sqlalchemy.engine.base.Engine {}\n"
     ]
    }
   ],
   "source": [
    "engine=create_engine(URL(**kagle), echo=True)\n",
    "\n",
    "weather_raw = pd.read_sql_query(\"SELECT * FROM weatherinszeged\", con=engine)\n",
    "\n",
    "engine.dispose()"
   ]
  },
  {
   "cell_type": "markdown",
   "metadata": {},
   "source": [
    "#### Build the Model\n",
    "\n",
    "Build a linear regression model where your target variable is the difference between the apparenttemperature and the temperature. As explanatory variables, use humidity and windspeed. Now, estimate your model using OLS. Are the estimated coefficients statistically significant? Are the signs of the estimated coefficients in line with your previous expectations? Interpret the estimated coefficients. What are the relations between the target and the explanatory variables?"
   ]
  },
  {
   "cell_type": "code",
   "execution_count": 5,
   "metadata": {},
   "outputs": [],
   "source": [
    "# Create a copy of the raw datafreame to work with\n",
    "weather_df = weather_raw.copy()\n",
    "\n",
    "# Create a new variable \"temp_diff\" that measures the difference between the appearant temperature and the temperature\n",
    "weather_df[\"temp_diff\"] = weather_df[\"apparenttemperature\"] - weather_df[\"temperature\"]"
   ]
  },
  {
   "cell_type": "code",
   "execution_count": 9,
   "metadata": {},
   "outputs": [
    {
     "name": "stdout",
     "output_type": "stream",
     "text": [
      "                            OLS Regression Results                            \n",
      "==============================================================================\n",
      "Dep. Variable:              temp_diff   R-squared:                       0.288\n",
      "Model:                            OLS   Adj. R-squared:                  0.288\n",
      "Method:                 Least Squares   F-statistic:                 1.949e+04\n",
      "Date:                Tue, 31 Dec 2019   Prob (F-statistic):               0.00\n",
      "Time:                        22:26:48   Log-Likelihood:            -1.7046e+05\n",
      "No. Observations:               96453   AIC:                         3.409e+05\n",
      "Df Residuals:                   96450   BIC:                         3.409e+05\n",
      "Df Model:                           2                                         \n",
      "Covariance Type:            nonrobust                                         \n",
      "==============================================================================\n",
      "                 coef    std err          t      P>|t|      [0.025      0.975]\n",
      "------------------------------------------------------------------------------\n",
      "const          2.4381      0.021    115.948      0.000       2.397       2.479\n",
      "humidity      -3.0292      0.024   -126.479      0.000      -3.076      -2.982\n",
      "windspeed     -0.1193      0.001   -176.164      0.000      -0.121      -0.118\n",
      "==============================================================================\n",
      "Omnibus:                     3935.747   Durbin-Watson:                   0.267\n",
      "Prob(Omnibus):                  0.000   Jarque-Bera (JB):             4613.311\n",
      "Skew:                          -0.478   Prob(JB):                         0.00\n",
      "Kurtosis:                       3.484   Cond. No.                         88.1\n",
      "==============================================================================\n",
      "\n",
      "Warnings:\n",
      "[1] Standard Errors assume that the covariance matrix of the errors is correctly specified.\n"
     ]
    }
   ],
   "source": [
    "# Y is the target variable, in this case \"temp_diff\"\n",
    "Y = weather_df[\"temp_diff\"]\n",
    "\n",
    "# X is the featue set\n",
    "X = weather_df[[\"humidity\", \"windspeed\"]]\n",
    "\n",
    "# Add a constant to the model\n",
    "X = sm.add_constant(X)\n",
    "\n",
    "# Fit an OLS model using statsmodel\n",
    "results = sm.OLS(Y,X).fit()\n",
    "\n",
    "# Print the summary results\n",
    "print(results.summary())"
   ]
  },
  {
   "cell_type": "markdown",
   "metadata": {},
   "source": [
    "_Are the estimated coefficients statistically significant?_\n",
    "\n",
    "The resulting model is expressed as: \n",
    "$$ temp\\_diff = 2.4381 - 3.0292 (humidity) - 0.1193 (windspeed) $$\n",
    "\n",
    "Both humitidity and windspeed are statistically signifigant because their p-values are close to zero (0.000).  The coefficient of humidity is -3.0292.  As the temp_diff increases by 1 degree, humidity will decrease by 3.0292 percent. The coefficient of windspeed is -0.1193.  As the temp_diff increases by 1 degree, windspeed will decrease by 0.1193.   "
   ]
  },
  {
   "cell_type": "markdown",
   "metadata": {},
   "source": [
    "### Include an Interaction\n",
    "\n",
    "Include the interaction of humidity and windspeed to the model above and estimate the model using OLS. Are the coefficients statistically significant? Did the signs of the estimated coefficients for humidity and windspeed change? Interpret the estimated coefficients."
   ]
  },
  {
   "cell_type": "code",
   "execution_count": 12,
   "metadata": {},
   "outputs": [
    {
     "name": "stdout",
     "output_type": "stream",
     "text": [
      "                            OLS Regression Results                            \n",
      "==============================================================================\n",
      "Dep. Variable:              temp_diff   R-squared:                       0.341\n",
      "Model:                            OLS   Adj. R-squared:                  0.341\n",
      "Method:                 Least Squares   F-statistic:                 1.666e+04\n",
      "Date:                Tue, 31 Dec 2019   Prob (F-statistic):               0.00\n",
      "Time:                        23:23:36   Log-Likelihood:            -1.6669e+05\n",
      "No. Observations:               96453   AIC:                         3.334e+05\n",
      "Df Residuals:                   96449   BIC:                         3.334e+05\n",
      "Df Model:                           3                                         \n",
      "Covariance Type:            nonrobust                                         \n",
      "=====================================================================================\n",
      "                        coef    std err          t      P>|t|      [0.025      0.975]\n",
      "-------------------------------------------------------------------------------------\n",
      "const                 0.0839      0.033      2.511      0.012       0.018       0.149\n",
      "humidity              0.1775      0.043      4.133      0.000       0.093       0.262\n",
      "windspeed             0.0905      0.002     36.797      0.000       0.086       0.095\n",
      "humidity_and_wind    -0.2971      0.003    -88.470      0.000      -0.304      -0.291\n",
      "==============================================================================\n",
      "Omnibus:                     4849.937   Durbin-Watson:                   0.265\n",
      "Prob(Omnibus):                  0.000   Jarque-Bera (JB):             9295.404\n",
      "Skew:                          -0.378   Prob(JB):                         0.00\n",
      "Kurtosis:                       4.320   Cond. No.                         193.\n",
      "==============================================================================\n",
      "\n",
      "Warnings:\n",
      "[1] Standard Errors assume that the covariance matrix of the errors is correctly specified.\n"
     ]
    }
   ],
   "source": [
    "# Y is the target variable\n",
    "Y = weather_df[\"temp_diff\"]\n",
    "\n",
    "# Now, include the interaction of humidity and windspeed\n",
    "weather_df[\"humidity_and_wind\"] = weather_df[\"humidity\"] * weather_df[\"windspeed\"]\n",
    "\n",
    "# X is the feature set\n",
    "X = weather_df[[\"humidity\", \"windspeed\", \"humidity_and_wind\"]]\n",
    "\n",
    "# Add a constant to the model\n",
    "X = sm.add_constant(X)\n",
    "\n",
    "# Fit an OLS model\n",
    "results = sm.OLS(Y,X).fit()\n",
    "\n",
    "print(results.summary())"
   ]
  },
  {
   "cell_type": "markdown",
   "metadata": {},
   "source": [
    "The resluting model can be expressed as: \n",
    "$$ temp\\_diff = 0.0839 + 0.1775 (humidity) + 0.0905 (windspeed) -0.2971 (humidity\\_and\\_wind) $$\n",
    "\n",
    "The humidity and windspeed coefficients have changed from the previous model do to the inclusion of the interaction variable, \"humidity_and_wind\".  This time for each 1 degree change in \"temp_diff\" the humidity will increase by 0.1775 percent and the windspeed will increase by 0.0905 k/hr.  For the new \"humidity_and_wind\" variable, each 1 degree increse in \"temp_diff\" the \"humidity_and_wind\" variable will decrease by 0.2971"
   ]
  },
  {
   "cell_type": "code",
   "execution_count": null,
   "metadata": {},
   "outputs": [],
   "source": []
  }
 ],
 "metadata": {
  "kernelspec": {
   "display_name": "Python 3",
   "language": "python",
   "name": "python3"
  },
  "language_info": {
   "codemirror_mode": {
    "name": "ipython",
    "version": 3
   },
   "file_extension": ".py",
   "mimetype": "text/x-python",
   "name": "python",
   "nbconvert_exporter": "python",
   "pygments_lexer": "ipython3",
   "version": "3.7.5"
  }
 },
 "nbformat": 4,
 "nbformat_minor": 4
}
